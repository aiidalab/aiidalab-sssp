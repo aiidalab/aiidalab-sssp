{
 "cells": [
  {
   "cell_type": "code",
   "execution_count": 1,
   "metadata": {},
   "outputs": [
    {
     "data": {
      "application/javascript": [
       "IPython.OutputArea.prototype._should_scroll = function(lines) {\n",
       "    return false;\n",
       "}\n"
      ],
      "text/plain": [
       "<IPython.core.display.Javascript object>"
      ]
     },
     "metadata": {},
     "output_type": "display_data"
    }
   ],
   "source": [
    "%%javascript\n",
    "IPython.OutputArea.prototype._should_scroll = function(lines) {\n",
    "    return false;\n",
    "}"
   ]
  },
  {
   "cell_type": "code",
   "execution_count": 2,
   "metadata": {},
   "outputs": [
    {
     "data": {
      "application/vnd.jupyter.widget-view+json": {
       "model_id": "946578b86cd342d9ac8520d37a53838a",
       "version_major": 2,
       "version_minor": 0
      },
      "text/plain": []
     },
     "metadata": {},
     "output_type": "display_data"
    },
    {
     "data": {
      "application/vnd.jupyter.widget-view+json": {
       "model_id": "03866b93c9524c19925da5b6fdbc214d",
       "version_major": 2,
       "version_minor": 0
      },
      "text/plain": [
       "Output()"
      ]
     },
     "metadata": {},
     "output_type": "display_data"
    }
   ],
   "source": [
    "import ipywidgets as ipw\n",
    "from jinja2 import Environment\n",
    "from importlib_resources import files\n",
    "\n",
    "from aiida.orm import load_node\n",
    "from aiidalab_widgets_base import WizardAppWidget\n",
    "from aiidalab_widgets_base.bug_report import install_create_github_issue_exception_handler\n",
    "\n",
    "from aiidalab_sssp import static\n",
    "from aiidalab_sssp.process import WorkChainSelector\n",
    "from aiidalab_sssp.steps import SubmitVerificationStep\n",
    "from aiidalab_sssp.steps import ViewSsspAppWorkChainStatusAndResultsStep\n",
    "from aiidalab_sssp.steps import PseudoInputStep\n",
    "\n",
    "pseudo_input_step = PseudoInputStep()\n",
    "submit_verification_work_chain_step = SubmitVerificationStep()\n",
    "view_sssp_app_work_chain_status_and_results_step = ViewSsspAppWorkChainStatusAndResultsStep()\n",
    "\n",
    "# Link the application steps\n",
    "ipw.dlink((pseudo_input_step, 'confirmed_pseudo'), (submit_verification_work_chain_step, 'input_pseudo'))\n",
    "ipw.dlink((submit_verification_work_chain_step, 'process'), (view_sssp_app_work_chain_status_and_results_step, 'process'))\n",
    "\n",
    "# Add the application steps to the application\n",
    "app = WizardAppWidget(\n",
    "    steps=[\n",
    "        ('Input pesudo', pseudo_input_step),\n",
    "        ('Submit verification work chain', submit_verification_work_chain_step),\n",
    "        ('Status & Results', view_sssp_app_work_chain_status_and_results_step),\n",
    "    ])\n",
    "\n",
    "# Reset all subsequent steps in case that a new pseudo is selected\n",
    "def _observe_pseudo_selection(change):\n",
    "    with pseudo_input_step.hold_sync():\n",
    "        if pseudo_input_step.confirmed_pseudo is not None and \\\n",
    "                pseudo_input_step.confirmed_pseudo != change['new']:\n",
    "            app.reset()\n",
    "            \n",
    "pseudo_input_step.observe(_observe_pseudo_selection, 'pseudo')\n",
    "\n",
    "# Add process selection header\n",
    "work_chain_selector = WorkChainSelector(layout=ipw.Layout(width='auto'))\n",
    "\n",
    "def _observe_process_selection(change):\n",
    "    if change['old'] == change['new']:\n",
    "        return\n",
    "\n",
    "    pk = change['new']\n",
    "    if pk is None:\n",
    "        app.reset()\n",
    "        app.selected_index = 0\n",
    "    else:\n",
    "        process = load_node(pk)\n",
    "        with pseudo_input_step.hold_sync():\n",
    "            pseudo_input_step.pseudo = process.inputs.pseudo\n",
    "            pseudo_input_step.confirmed_pseudo = process.inputs.pseudo\n",
    "            submit_verification_work_chain_step.process = process\n",
    "\n",
    "            \n",
    "work_chain_selector.observe(_observe_process_selection, 'value')\n",
    "\n",
    "app_with_work_chain_selector = ipw.VBox(children=[app])\n",
    "\n",
    "env = Environment()\n",
    "\n",
    "template = files(static).joinpath(\"welcome.jinja\").read_text()\n",
    "style = files(static).joinpath(\"style.css\").read_text()\n",
    "welcome_message = ipw.HTML(env.from_string(template).render(style=style))\n",
    "\n",
    "app_with_work_chain_selector = ipw.VBox(children=[work_chain_selector, app])\n",
    "\n",
    "output = ipw.Output()\n",
    "install_create_github_issue_exception_handler(\n",
    "    output,\n",
    "    url='https://github.com/aiidalab/aiidalab-sssp/issues/new',\n",
    "    labels=('bug', 'automated-report'))\n",
    "\n",
    "with output:\n",
    "    display(welcome_message, app_with_work_chain_selector)\n",
    "    \n",
    "display(output)"
   ]
  }
 ],
 "metadata": {
  "kernelspec": {
   "display_name": "Python 3 (ipykernel)",
   "language": "python",
   "name": "python3"
  },
  "language_info": {
   "codemirror_mode": {
    "name": "ipython",
    "version": 3
   },
   "file_extension": ".py",
   "mimetype": "text/x-python",
   "name": "python",
   "nbconvert_exporter": "python",
   "pygments_lexer": "ipython3",
   "version": "3.7.9"
  }
 },
 "nbformat": 4,
 "nbformat_minor": 2
}
