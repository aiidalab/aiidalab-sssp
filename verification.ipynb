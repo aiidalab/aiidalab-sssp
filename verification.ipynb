{
 "cells": [
  {
   "cell_type": "code",
   "execution_count": 1,
   "metadata": {},
   "outputs": [
    {
     "data": {
      "application/javascript": "IPython.OutputArea.prototype._should_scroll = function(lines) {\n    return false;\n}\ndocument.title='AiiDAlab SSSP app'\n",
      "text/plain": [
       "<IPython.core.display.Javascript object>"
      ]
     },
     "metadata": {},
     "output_type": "display_data"
    }
   ],
   "source": [
    "%%javascript\n",
    "IPython.OutputArea.prototype._should_scroll = function(lines) {\n",
    "    return false;\n",
    "}\n",
    "document.title='AiiDAlab SSSP app'"
   ]
  },
  {
   "cell_type": "code",
   "execution_count": 2,
   "metadata": {
    "scrolled": true
   },
   "outputs": [
    {
     "data": {
      "application/vnd.jupyter.widget-view+json": {
       "model_id": "e7d64b45fcdf45d99fd1fdfdcf164199",
       "version_major": 2,
       "version_minor": 0
      },
      "text/plain": []
     },
     "metadata": {},
     "output_type": "display_data"
    },
    {
     "name": "stderr",
     "output_type": "stream",
     "text": [
      "/opt/conda/lib/python3.7/site-packages/aiida/transports/transport.py:201: AiidaDeprecationWarning: method is deprecated, use `aiida.plugins.entry_point.get_entry_point_names` instead\n",
      "  warnings.warn(message, AiidaDeprecationWarning)  # pylint: disable=no-member\n",
      "/opt/conda/lib/python3.7/site-packages/aiida/schedulers/scheduler.py:93: AiidaDeprecationWarning: method is deprecated, use `aiida.plugins.entry_point.get_entry_point_names` instead\n",
      "  warnings.warn(message, AiidaDeprecationWarning)  # pylint: disable=no-member\n"
     ]
    },
    {
     "data": {
      "application/vnd.jupyter.widget-view+json": {
       "model_id": "2fb8420993914325bcb0c28f2856e3bb",
       "version_major": 2,
       "version_minor": 0
      },
      "text/plain": [
       "Output()"
      ]
     },
     "metadata": {},
     "output_type": "display_data"
    }
   ],
   "source": [
    "import ipywidgets as ipw\n",
    "from jinja2 import Environment\n",
    "from importlib_resources import files\n",
    "from IPython.display import display\n",
    "\n",
    "from aiida.orm import load_node\n",
    "from aiidalab_widgets_base import WizardAppWidget, WizardAppWidgetStep\n",
    "from aiidalab_widgets_base.bug_report import install_create_github_issue_exception_handler\n",
    "\n",
    "from aiidalab_sssp import static\n",
    "from aiidalab_sssp.process import WorkChainSelector\n",
    "from aiidalab_sssp.steps import SubmitSsspWorkChainStep\n",
    "from aiidalab_sssp.steps import ConfigureSsspWorkChainStep\n",
    "from aiidalab_sssp.steps import ViewSsspAppWorkChainStatusAndResultsStep\n",
    "from aiidalab_sssp.steps import PseudoSelectionStep\n",
    "from aiidalab_sssp.steps import SettingPseudoMetadataStep\n",
    "from aiidalab_sssp.steps import ViewSsspAppWorkChainStatusAndResultsStep\n",
    "from aiidalab_sssp.version import __version__\n",
    "\n",
    "pseudo_selection_step = PseudoSelectionStep(auto_advance=True)\n",
    "configure_sssp_app_work_chain_step = ConfigureSsspWorkChainStep(auto_advance=True)\n",
    "setting_pseudo_metadata_step = SettingPseudoMetadataStep(auto_advance=True)\n",
    "submit_sssp_work_chain_step = SubmitSsspWorkChainStep(auto_advance=True)\n",
    "view_sssp_app_work_chain_status_and_results_step = ViewSsspAppWorkChainStatusAndResultsStep()\n",
    "\n",
    "# Link the application steps\n",
    "ipw.dlink((pseudo_selection_step, 'state'), (configure_sssp_app_work_chain_step, 'previous_step_state'))\n",
    "ipw.dlink((configure_sssp_app_work_chain_step, 'state'), (setting_pseudo_metadata_step, 'previous_step_state'))\n",
    "ipw.dlink((setting_pseudo_metadata_step, 'state'), (submit_sssp_work_chain_step, 'previous_step_state'))\n",
    "\n",
    "ipw.dlink((pseudo_selection_step, 'confirmed_pseudo'), (submit_sssp_work_chain_step, 'pseudo'))\n",
    "ipw.dlink((pseudo_selection_step, 'confirmed_pseudo'), (setting_pseudo_metadata_step, 'pseudo'))\n",
    "ipw.dlink((pseudo_selection_step, 'pseudo_filename'), (setting_pseudo_metadata_step.metadata_settings, 'pseudo_filename'))\n",
    "ipw.dlink((configure_sssp_app_work_chain_step, 'workchain_settings'), (submit_sssp_work_chain_step, 'workchain_settings'))\n",
    "ipw.dlink((setting_pseudo_metadata_step, 'metadata_settings'), (submit_sssp_work_chain_step, 'metadata_settings'))\n",
    "\n",
    "ipw.dlink((submit_sssp_work_chain_step, 'process'), (view_sssp_app_work_chain_status_and_results_step, 'process'))\n",
    "\n",
    "# Add the application steps to the application\n",
    "app = WizardAppWidget(\n",
    "    steps=[\n",
    "        ('Select pseudo', pseudo_selection_step),\n",
    "        ('Configure work chain', configure_sssp_app_work_chain_step),\n",
    "        ('Pseudopotential metadata setting', setting_pseudo_metadata_step),\n",
    "        ('Choose computational resources', submit_sssp_work_chain_step),\n",
    "        ('Status & Results', view_sssp_app_work_chain_status_and_results_step),\n",
    "    ])\n",
    "\n",
    "# Reset all subsequent steps in case that a new pseudo is selected\n",
    "def _observe_pseudo_selection(change):\n",
    "    with pseudo_selection_step.hold_sync():\n",
    "        if pseudo_selection_step.confirmed_pseudo is not None and \\\n",
    "                pseudo_selection_step.confirmed_pseudo != change['new']:\n",
    "            app.reset()\n",
    "            \n",
    "pseudo_selection_step.observe(_observe_pseudo_selection, 'pseudo')\n",
    "\n",
    "# Add process selection header\n",
    "work_chain_selector = WorkChainSelector(layout=ipw.Layout(width='auto'))\n",
    "\n",
    "def _observe_process_selection(change):\n",
    "    if change['old'] == change['new']:\n",
    "        return\n",
    "\n",
    "    pk = change['new']\n",
    "    if pk is None:\n",
    "        app.reset()\n",
    "        app.selected_index = 0\n",
    "    else:\n",
    "        process = load_node(pk)\n",
    "        with pseudo_selection_step.hold_sync():\n",
    "            app.selected_index = 4\n",
    "            pseudo_selection_step.pseudo = process.inputs.pseudo\n",
    "            pseudo_selection_step.confirmed_pseudo = process.inputs.pseudo\n",
    "            configure_sssp_app_work_chain_step.state = WizardAppWidgetStep.State.SUCCESS\n",
    "            submit_sssp_work_chain_step.process = process\n",
    "\n",
    "            \n",
    "work_chain_selector.observe(_observe_process_selection, 'value')\n",
    "ipw.dlink((submit_sssp_work_chain_step, 'process'), (work_chain_selector, 'value'),\n",
    "    transform=lambda node: None if node is None else node.pk)\n",
    "\n",
    "env = Environment()\n",
    "\n",
    "template = files(static).joinpath(\"welcome.jinja\").read_text()\n",
    "style = files(static).joinpath(\"style.css\").read_text()\n",
    "welcome_message = ipw.HTML(env.from_string(template).render(style=style))\n",
    "footer = ipw.HTML(f'<p style=\"text-align:right;\">Copyright (c) 2022 AiiDAlab team (EPFL)&#8195Version: {__version__}</p>')\n",
    "\n",
    "app_with_work_chain_selector = ipw.VBox(children=[work_chain_selector, app])\n",
    "\n",
    "output = ipw.Output()\n",
    "install_create_github_issue_exception_handler(\n",
    "    output,\n",
    "    url='https://github.com/aiidalab/aiidalab-sssp/issues/new',\n",
    "    labels=('bug', 'automated-report'))\n",
    "\n",
    "with output:\n",
    "    display(welcome_message, app_with_work_chain_selector, footer)\n",
    "    \n",
    "display(output)"
   ]
  },
  {
   "cell_type": "markdown",
   "metadata": {},
   "source": [
    "[inspect result](./inspect.ipynb?pk=26759)"
   ]
  }
 ],
 "metadata": {
  "kernelspec": {
   "display_name": "Python 3 (ipykernel)",
   "language": "python",
   "name": "python3"
  },
  "language_info": {
   "codemirror_mode": {
    "name": "ipython",
    "version": 3
   },
   "file_extension": ".py",
   "mimetype": "text/x-python",
   "name": "python",
   "nbconvert_exporter": "python",
   "pygments_lexer": "ipython3",
   "version": "3.7.9"
  }
 },
 "nbformat": 4,
 "nbformat_minor": 2
}
