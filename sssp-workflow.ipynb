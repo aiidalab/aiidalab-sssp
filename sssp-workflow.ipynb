{
 "cells": [
  {
   "cell_type": "code",
   "execution_count": 1,
   "metadata": {},
   "outputs": [
    {
     "data": {
      "application/json": {
       "current_state": "Loaded AiiDA DB environment - profile name: default."
      },
      "text/html": [
       "<p>Loaded AiiDA DB environment - profile name: default.</p>"
      ],
      "text/latex": [
       "Loaded AiiDA DB environment - profile name: default.\n"
      ],
      "text/plain": [
       "Loaded AiiDA DB environment - profile name: default.\n"
      ]
     },
     "execution_count": 1,
     "metadata": {},
     "output_type": "execute_result"
    }
   ],
   "source": [
    "%aiida"
   ]
  },
  {
   "cell_type": "code",
   "execution_count": 2,
   "metadata": {},
   "outputs": [],
   "source": [
    "try:\n",
    "    import aiida_sssp_workflow\n",
    "except ModuleNotFoundError as err:\n",
    "    print(\"######################################\")\n",
    "    print(\"### Doing initial one-time install ###\")\n",
    "    ! pip install -e .\n",
    "    print(\"######################################\")\n",
    "    ! reentry scan"
   ]
  },
  {
   "cell_type": "code",
   "execution_count": 3,
   "metadata": {},
   "outputs": [
    {
     "data": {
      "application/vnd.jupyter.widget-view+json": {
       "model_id": "9ceab0cd03f74ad69bc60d12ac13c68c",
       "version_major": 2,
       "version_minor": 0
      },
      "text/plain": []
     },
     "metadata": {},
     "output_type": "display_data"
    }
   ],
   "source": [
    "import ipywidgets as ipw\n",
    "\n",
    "from pseudo import PseudoSelectionWidget\n",
    "from delta_factor import ComputeDeltaFactorWidget\n",
    "from process import ProcessStatusWidget\n",
    "from aiidalab_widgets_base import ProcessFollowerWidget, ProgressBarWidget, ProcessReportWidget, ProcessCallStackWidget\n",
    "from process import ProcessInputsWidget, ProcessOutputsWidget"
   ]
  },
  {
   "cell_type": "markdown",
   "metadata": {},
   "source": [
    "## Step 1: Upload the UPF file"
   ]
  },
  {
   "cell_type": "code",
   "execution_count": 4,
   "metadata": {
    "scrolled": false
   },
   "outputs": [
    {
     "data": {
      "application/vnd.jupyter.widget-view+json": {
       "model_id": "36f7037b7e71461ba2826a858f38fc12",
       "version_major": 2,
       "version_minor": 0
      },
      "text/plain": [
       "PseudoSelectionWidget(children=(Label(value='Select a pseudopotential from one of the following sources and th…"
      ]
     },
     "metadata": {},
     "output_type": "display_data"
    }
   ],
   "source": [
    "pseudo_selection_step = PseudoSelectionWidget()\n",
    "display(pseudo_selection_step)"
   ]
  },
  {
   "cell_type": "markdown",
   "metadata": {},
   "source": [
    "## Step 2: setting parameters and submit"
   ]
  },
  {
   "cell_type": "code",
   "execution_count": 5,
   "metadata": {},
   "outputs": [
    {
     "name": "stderr",
     "output_type": "stream",
     "text": [
      "/opt/conda/lib/python3.7/site-packages/aiida/orm/computers.py:742: AiidaDeprecationWarning: this property is deprecated, use the `label` property instead\n",
      "  warnings.warn('this property is deprecated, use the `label` property instead', AiidaDeprecationWarning)  # pylint: disable=no-member\n"
     ]
    }
   ],
   "source": [
    "compute_delta_factor_step = ComputeDeltaFactorWidget()\n",
    "\n",
    "ipw.dlink((pseudo_selection_step, 'confirmed_pseudo'), (compute_delta_factor_step, 'input_pseudo'))\n",
    "\n",
    "# Reset all subsequent steps in case that a new pseudo is selected\n",
    "def _observe_pseudo_selection(change):\n",
    "    with pseudo_selection_step.hold_sync():\n",
    "        if pseudo_selection_step.confirmed_pseudo is not None and \\\n",
    "                pseudo_selection_step.confirmed_pseudo != change['new']:\n",
    "            pseudo_selection_step.confirmed_pseudo = change['new']\n",
    "pseudo_selection_step.observe(_observe_pseudo_selection, 'pseudo')\n"
   ]
  },
  {
   "cell_type": "code",
   "execution_count": 6,
   "metadata": {},
   "outputs": [
    {
     "data": {
      "application/vnd.jupyter.widget-view+json": {
       "model_id": "f8e729a043d546638dd932f3f498540c",
       "version_major": 2,
       "version_minor": 0
      },
      "text/plain": [
       "ComputeDeltaFactorWidget(children=(Label(value='Specify the parameters and options for the calculation and the…"
      ]
     },
     "metadata": {},
     "output_type": "display_data"
    }
   ],
   "source": [
    "display(compute_delta_factor_step)"
   ]
  },
  {
   "cell_type": "markdown",
   "metadata": {},
   "source": [
    "## Step3: Check the state of the process"
   ]
  },
  {
   "cell_type": "code",
   "execution_count": 7,
   "metadata": {},
   "outputs": [
    {
     "data": {
      "text/plain": [
       "<traitlets.traitlets.directional_link at 0x7f856feade90>"
      ]
     },
     "execution_count": 7,
     "metadata": {},
     "output_type": "execute_result"
    }
   ],
   "source": [
    "process_status = ProcessStatusWidget()\n",
    "\n",
    "ipw.dlink((compute_delta_factor_step, 'process'), (process_status, 'process'))"
   ]
  },
  {
   "cell_type": "code",
   "execution_count": 8,
   "metadata": {},
   "outputs": [],
   "source": [
    "process_status.process"
   ]
  },
  {
   "cell_type": "code",
   "execution_count": 9,
   "metadata": {},
   "outputs": [
    {
     "data": {
      "application/vnd.jupyter.widget-view+json": {
       "model_id": "1b6c508b37cb45a3883dbcdb42becba9",
       "version_major": 2,
       "version_minor": 0
      },
      "text/plain": [
       "ProcessStatusWidget(children=(ProgressBarWidget(children=(HTML(value='N/A', description='Calculation state:', …"
      ]
     },
     "metadata": {},
     "output_type": "display_data"
    }
   ],
   "source": [
    "display(process_status)"
   ]
  },
  {
   "cell_type": "markdown",
   "metadata": {},
   "source": [
    "## Step4: Check the output of workflow"
   ]
  },
  {
   "cell_type": "code",
   "execution_count": 10,
   "metadata": {},
   "outputs": [
    {
     "data": {
      "text/plain": [
       "<traitlets.traitlets.directional_link at 0x7f856ff08e10>"
      ]
     },
     "execution_count": 10,
     "metadata": {},
     "output_type": "execute_result"
    }
   ],
   "source": [
    "process_input = ProcessInputsWidget()\n",
    "process_output = ProcessOutputsWidget()\n",
    "process_follower = ProcessFollowerWidget(\n",
    "    followers=[ProgressBarWidget(), ProcessReportWidget(), ProcessCallStackWidget()], path_to_root='../', \n",
    "    update_interval=2)\n",
    "\n",
    "ipw.dlink((compute_delta_factor_step, 'process'), (process_input, 'process'))\n",
    "ipw.dlink((compute_delta_factor_step, 'process'), (process_output, 'process'))\n",
    "ipw.dlink((compute_delta_factor_step, 'process'), (process_follower, 'process'))"
   ]
  },
  {
   "cell_type": "code",
   "execution_count": 11,
   "metadata": {},
   "outputs": [
    {
     "data": {
      "application/vnd.jupyter.widget-view+json": {
       "model_id": "1c78bc576b6749b08ec463ca1a6a2790",
       "version_major": 2,
       "version_minor": 0
      },
      "text/plain": [
       "ProcessInputsWidget(children=(HBox(children=(Dropdown(description='Select input:', options=(('Select input', '…"
      ]
     },
     "metadata": {},
     "output_type": "display_data"
    }
   ],
   "source": [
    "display(process_input)"
   ]
  },
  {
   "cell_type": "code",
   "execution_count": 12,
   "metadata": {},
   "outputs": [
    {
     "data": {
      "application/vnd.jupyter.widget-view+json": {
       "model_id": "4043a1727b384e1d93d5cf28f8b84daa",
       "version_major": 2,
       "version_minor": 0
      },
      "text/plain": [
       "ProcessOutputsWidget(children=(HBox(children=(Dropdown(description='Select outputs:', options=(('Select output…"
      ]
     },
     "metadata": {},
     "output_type": "display_data"
    }
   ],
   "source": [
    "display(process_output)"
   ]
  },
  {
   "cell_type": "code",
   "execution_count": 13,
   "metadata": {},
   "outputs": [],
   "source": [
    "from aiida.orm import load_node\n",
    "compute_delta_factor_step.process = load_node(65)"
   ]
  },
  {
   "cell_type": "code",
   "execution_count": 14,
   "metadata": {},
   "outputs": [
    {
     "data": {
      "text/plain": [
       "<WorkChainNode: uuid: a772b6d2-db3b-4f79-bce3-caa84c4acd79 (pk: 65) (aiida.workflows:sssp_workflow.delta_factor)>"
      ]
     },
     "execution_count": 14,
     "metadata": {},
     "output_type": "execute_result"
    }
   ],
   "source": [
    "process_input.process"
   ]
  },
  {
   "cell_type": "code",
   "execution_count": 15,
   "metadata": {},
   "outputs": [
    {
     "data": {
      "text/plain": [
       "<WorkChainNode: uuid: a772b6d2-db3b-4f79-bce3-caa84c4acd79 (pk: 65) (aiida.workflows:sssp_workflow.delta_factor)>"
      ]
     },
     "execution_count": 15,
     "metadata": {},
     "output_type": "execute_result"
    }
   ],
   "source": [
    "compute_delta_factor_step.process"
   ]
  },
  {
   "cell_type": "code",
   "execution_count": 16,
   "metadata": {},
   "outputs": [
    {
     "data": {
      "application/vnd.jupyter.widget-view+json": {
       "model_id": "6673cedc973e42beab7d050aeb17b465",
       "version_major": 2,
       "version_minor": 0
      },
      "text/plain": [
       "ProcessFollowerWidget(children=(HTML(value=''), VBox(children=(HTML(value='<h2><b>Progress Bar</b></h2>'), Pro…"
      ]
     },
     "metadata": {},
     "output_type": "display_data"
    }
   ],
   "source": [
    "display(process_follower)\n",
    "process_follower.follow(detach=True)"
   ]
  }
 ],
 "metadata": {
  "kernelspec": {
   "display_name": "Python 3",
   "language": "python",
   "name": "python3"
  },
  "language_info": {
   "codemirror_mode": {
    "name": "ipython",
    "version": 3
   },
   "file_extension": ".py",
   "mimetype": "text/x-python",
   "name": "python",
   "nbconvert_exporter": "python",
   "pygments_lexer": "ipython3",
   "version": "3.7.4"
  }
 },
 "nbformat": 4,
 "nbformat_minor": 2
}
