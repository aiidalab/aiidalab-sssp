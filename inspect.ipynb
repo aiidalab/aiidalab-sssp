{
 "cells": [
  {
   "cell_type": "code",
   "execution_count": 1,
   "id": "b7299dbb",
   "metadata": {},
   "outputs": [],
   "source": [
    "%matplotlib widget"
   ]
  },
  {
   "cell_type": "code",
   "execution_count": 2,
   "id": "a1aa37d3",
   "metadata": {},
   "outputs": [],
   "source": [
    "import matplotlib.pyplot as plt\n",
    "\n",
    "import ipywidgets as ipw\n",
    "from widget_periodictable import PTableWidget\n",
    "\n",
    "from IPython.display import display\n",
    "\n",
    "from aiidalab_sssp.inspect.subwidgets.select import SSSP_JSON, SSSP_ARCHIVE\n",
    "from aiidalab_sssp.inspect.subwidgets import plot as wplot\n",
    "from aiidalab_sssp.inspect.subwidgets.select import PseudoSelectWidget\n",
    "from aiidalab_sssp.inspect.subwidgets.summary import SummaryWidget"
   ]
  },
  {
   "cell_type": "code",
   "execution_count": 3,
   "id": "a3ac4c44",
   "metadata": {},
   "outputs": [
    {
     "data": {
      "application/vnd.jupyter.widget-view+json": {
       "model_id": "9db3fd682a59423e9479b04d84582b31",
       "version_major": 2,
       "version_minor": 0
      },
      "text/plain": [
       "PTableWidget(allElements=['H', 'He', 'Li', 'Be', 'B', 'C', 'N', 'O', 'F', 'Ne', 'Na', 'Mg', 'Al', 'Si', 'P', '…"
      ]
     },
     "metadata": {},
     "output_type": "display_data"
    }
   ],
   "source": [
    "plt.ioff()\n",
    "# Show the PTable widget\n",
    "periodic_table = PTableWidget(states = 1,\n",
    "                      selected_colors = ['royalblue'],\n",
    "                      unselected_color='cornflowerblue', border_color = 'black', width = '40px')\n",
    "\n",
    "disable_elements = [e for e in periodic_table.allElements if e not in SSSP_JSON.keys()]\n",
    "periodic_table.disabled_elements = disable_elements\n",
    "\n",
    "last_selected = periodic_table.selected_elements\n",
    "def on_element_select(event):\n",
    "    global last_selected\n",
    "\n",
    "    if event['name'] == 'selected_elements' and event['type'] == 'change':\n",
    "        if tuple(event['new'].keys()) == ('Du', ):\n",
    "            last_selected = event['old']\n",
    "        elif tuple(event['old'].keys()) == ('Du', ):\n",
    "            #print(last_selected, event['new'])\n",
    "            if len(event['new']) != 1:\n",
    "                # Reset to only one element only if there is more than one selected,\n",
    "                # to avoid infinite loops\n",
    "                newly_selected = set(event['new']).difference(last_selected)\n",
    "                # If this is empty it's ok, unselect all\n",
    "                # If there is more than one, that's weird... to avoid problems, anyway, I pick one of the two\n",
    "                if newly_selected:\n",
    "                    periodic_table.selected_elements = {list(newly_selected)[0]: 0}\n",
    "                else:\n",
    "                    periodic_table.selected_elements = {}\n",
    "                # To have the correct 'last' value for next calls\n",
    "                last_selected = periodic_table.selected_elements\n",
    "\n",
    "periodic_table.observe(on_element_select)\n",
    "\n",
    "display(periodic_table)"
   ]
  },
  {
   "cell_type": "code",
   "execution_count": 4,
   "id": "67cf741f",
   "metadata": {},
   "outputs": [
    {
     "data": {
      "application/vnd.jupyter.widget-view+json": {
       "model_id": "330feea4c6eb4919828fc7e0a20902cd",
       "version_major": 2,
       "version_minor": 0
      },
      "text/plain": [
       "PseudoSelectWidget(children=(HTML(value='No element is selected'), SelectMultipleCheckbox(layout=Layout(width=…"
      ]
     },
     "metadata": {},
     "output_type": "display_data"
    }
   ],
   "source": [
    "pseudo_select_widget = PseudoSelectWidget()\n",
    "\n",
    "ipw.dlink(\n",
    "    (periodic_table, 'selected_elements'), \n",
    "    (pseudo_select_widget, 'selected_element'),\n",
    "    transform=lambda elements: list(elements.keys())[0] if elements else None,\n",
    ")\n",
    "\n",
    "display(pseudo_select_widget)"
   ]
  },
  {
   "cell_type": "code",
   "execution_count": 5,
   "id": "4d56d04e",
   "metadata": {},
   "outputs": [],
   "source": [
    "# Check if the page load with a finished verification\n",
    "from aiida.orm import load_node, Dict\n",
    "from aiida.common import AttributeDict\n",
    "import aiida\n",
    "from urllib.parse import parse_qs, urlsplit\n",
    "from aiida.tools.importexport import ExportFileFormat, export\n",
    "\n",
    "aiida.load_profile('default')\n",
    "\n",
    "def flatten_output(attr_dict, node_collection):\n",
    "    \"\"\"\n",
    "    flaten output dict node\n",
    "    node_collection is a list to accumulate the nodes that not unfolded\n",
    "\n",
    "    For some namespace do not unfold dict\n",
    "    - band_parameters\n",
    "\n",
    "    For output nodes not being expanded, write down the uuid for making archive\n",
    "    \"\"\"\n",
    "    do_not_unfold = [\"band_parameters\", \"scf_parameters\", \"seekpath_parameters\"]\n",
    "\n",
    "    for key, value in attr_dict.items():\n",
    "        if isinstance(value, AttributeDict):\n",
    "            # keep on unfold\n",
    "            flatten_output(value, node_collection)\n",
    "        elif isinstance(value, Dict) and key not in do_not_unfold:\n",
    "            attr_dict[key] = value.get_dict()\n",
    "        else:\n",
    "            # node type not handled attach uuid\n",
    "            attr_dict[key] = value.uuid\n",
    "            node_collection.append(value.uuid)\n",
    "\n",
    "    # print(archive_uuids)\n",
    "    return attr_dict\n",
    "\n",
    "\n",
    "\n",
    "def parse_url(url):\n",
    "    query = parse_qs(urlsplit(url).query)\n",
    "    pk = query.get('pk', None)\n",
    "\n",
    "    # Can be a list with multiple nodes to load\n",
    "    return pk\n",
    "\n",
    "pk = parse_url(jupyter_notebook_url)\n",
    "if pk:\n",
    "    try:\n",
    "        node = load_node(pk=int(pk[0]))\n",
    "    except:\n",
    "        # can not load pk\n",
    "        raise\n",
    "\n",
    "    if node.attributes['process_label'] == 'VerificationWorkChain':\n",
    "        res = {}\n",
    "        archive_uuids = []\n",
    "\n",
    "        label = node.extras.get(\"label\")\n",
    "        attr_dict = node.outputs._construct_attribute_dict(incoming=False)\n",
    "\n",
    "        res[label] = flatten_output(attr_dict, archive_uuids)\n",
    "\n",
    "        import json\n",
    "\n",
    "        res = json.loads(json.dumps(dict(res), indent=2))\n",
    "\n",
    "        # once the selected_element set the selected_pseudos will be updated\n",
    "        pseudo_select_widget.selected_element = res[label][\"pseudo_info\"][\"element\"]\n",
    "\n",
    "        res.update(pseudo_select_widget.pseudos_dict)\n",
    "        pseudo_select_widget.pseudos_dict = res\n",
    "\n",
    "        # kwargs = {\n",
    "        #     \"input_calc_forward\": False,\n",
    "        #     \"input_work_forward\": False,\n",
    "        #     \"create_backward\": False,\n",
    "        #     \"return_backward\": False,\n",
    "        #     \"call_calc_backward\": False,\n",
    "        #     \"call_work_backward\": False,\n",
    "        #     \"include_comments\": False,\n",
    "        #     \"include_logs\": False,\n",
    "        #     \"overwrite\": True,\n",
    "        # }\n",
    "\n",
    "        # # print(archive_uuids)\n",
    "        # export(\n",
    "        #     [load_node(i) for i in archive_uuids],\n",
    "        #     filename=archive,\n",
    "        #     file_format=ExportFileFormat.ZIP,\n",
    "        #     **kwargs\n",
    "        # )"
   ]
  },
  {
   "cell_type": "code",
   "execution_count": 6,
   "id": "c42444f1",
   "metadata": {},
   "outputs": [
    {
     "data": {
      "application/vnd.jupyter.widget-view+json": {
       "model_id": "706c3aa3cd0146dea5d450b534d79c80",
       "version_major": 2,
       "version_minor": 0
      },
      "text/plain": [
       "BandsWidget(children=(Output(),))"
      ]
     },
     "metadata": {},
     "output_type": "display_data"
    }
   ],
   "source": [
    "from aiidalab_sssp.inspect.subwidgets.bands import BandsWidget\n",
    "\n",
    "bands_widget = BandsWidget()\n",
    "ipw.dlink((pseudo_select_widget, 'selected_pseudos'), (bands_widget, 'selected_pseudos'))\n",
    "\n",
    "# display(bands_widget)"
   ]
  },
  {
   "cell_type": "code",
   "execution_count": null,
   "id": "6a310665",
   "metadata": {},
   "outputs": [],
   "source": [
    "from aiidalab_sssp.inspect.subwidgets.delta import EOSwidget\n",
    "\n",
    "eos_widget = EOSwidget()\n",
    "ipw.dlink((pseudo_select_widget, 'selected_pseudos'), (eos_widget, 'selected_pseudos'))\n",
    "\n",
    "display(eos_widget)"
   ]
  },
  {
   "cell_type": "code",
   "execution_count": 7,
   "id": "8e8f884c",
   "metadata": {},
   "outputs": [],
   "source": [
    "# plot_delta_measure_widget = wplot.PlotDeltaMeasureWidget()\n",
    "# ipw.dlink((pseudo_select_widget, 'selected_pseudos'), (plot_delta_measure_widget, 'selected_pseudos'))\n",
    "\n",
    "# plot_cohesive_energy_converge_widget = wplot.PlotCohesiveEnergyConvergeWidget()\n",
    "# ipw.dlink((pseudo_select_widget, 'selected_pseudos'), (plot_cohesive_energy_converge_widget, 'selected_pseudos'))\n",
    "\n",
    "# plot_cohesive_energy_converge_diff_widget = wplot.PlotCohesiveEnergyConvergeDiffWidget()\n",
    "# ipw.dlink((pseudo_select_widget, 'selected_pseudos'), (plot_cohesive_energy_converge_diff_widget, 'selected_pseudos'))\n",
    "\n",
    "# plot_phonon_frequencies_converge_abs_widget = wplot.PlotPhononFrequenciesConvergeAbsWidget()\n",
    "# ipw.dlink((pseudo_select_widget, 'selected_pseudos'), (plot_phonon_frequencies_converge_abs_widget, 'selected_pseudos'))\n",
    "\n",
    "# plot_phonon_frequencies_converge_rel_widget = wplot.PlotPhononFrequenciesConvergeRelWidget()\n",
    "# ipw.dlink((pseudo_select_widget, 'selected_pseudos'), (plot_phonon_frequencies_converge_rel_widget, 'selected_pseudos'))\n",
    "\n",
    "# plot_pressure_converge_widget = wplot.PlotPressureConvergeWidget()\n",
    "# ipw.dlink((pseudo_select_widget, 'selected_pseudos'), (plot_pressure_converge_widget, 'selected_pseudos'))\n",
    "\n",
    "# plot_pressure_converge_rel_widget = wplot.PlotPressureConvergeRelWidget()\n",
    "# ipw.dlink((pseudo_select_widget, 'selected_pseudos'), (plot_pressure_converge_rel_widget, 'selected_pseudos'))\n",
    "\n",
    "# plot_delta_converge_widget = wplot.PlotDeltaConvergeWidget()\n",
    "# ipw.dlink((pseudo_select_widget, 'selected_pseudos'), (plot_delta_converge_widget, 'selected_pseudos'))\n",
    "\n",
    "# plot_delta_converge_rel_widget = wplot.PlotDeltaConvergeRelWidget()\n",
    "# ipw.dlink((pseudo_select_widget, 'selected_pseudos'), (plot_delta_converge_rel_widget, 'selected_pseudos'))\n",
    "\n",
    "# plot_bands_converge_widget = wplot.PlotBandsConvergeWidget()\n",
    "# ipw.dlink((pseudo_select_widget, 'selected_pseudos'), (plot_bands_converge_widget, 'selected_pseudos'))\n",
    "\n",
    "pass"
   ]
  },
  {
   "cell_type": "markdown",
   "id": "650dc0f7",
   "metadata": {},
   "source": [
    "## $\\Delta$ measures and $\\nu$-factor measure\n",
    "\n",
    "Please check <a href=\"./sssp-docs.ipynb\" target=\"_blank\">Documentation</a> for more details."
   ]
  },
  {
   "cell_type": "code",
   "execution_count": 8,
   "id": "0c4cfb6c",
   "metadata": {},
   "outputs": [
    {
     "data": {
      "application/vnd.jupyter.widget-view+json": {
       "model_id": "cd0a02f636f14c9f88d0ac7f3302f206",
       "version_major": 2,
       "version_minor": 0
      },
      "text/plain": [
       "PlotDeltaMeasureWidget(children=(Tab(children=(Output(), Output()), _titles={'0': 'ν-factor', '1': 'Δ-factor'}…"
      ]
     },
     "metadata": {},
     "output_type": "display_data"
    }
   ],
   "source": [
    "# display(plot_delta_measure_widget)"
   ]
  },
  {
   "cell_type": "markdown",
   "id": "9161618e",
   "metadata": {},
   "source": [
    "## Summary of convergence verification \n",
    "\n",
    "The convergence criteria we use here is:\n",
    "- Cohesive energy: $E^{abs}_{coh} < 2.0 (\\text{meV/atom})$\n",
    "- Phonon frequencies: $\\delta \\bar{\\omega} < 1.0 (\\%)$\n",
    "- Pressure: $\\delta P < 0.5 (\\%)$"
   ]
  },
  {
   "cell_type": "code",
   "execution_count": 9,
   "id": "4f93df3f",
   "metadata": {},
   "outputs": [
    {
     "data": {
      "application/vnd.jupyter.widget-view+json": {
       "model_id": "9e256fa10c4d4379b77c692b90dd8287",
       "version_major": 2,
       "version_minor": 0
      },
      "text/plain": [
       "SummaryWidget(children=(Output(),))"
      ]
     },
     "metadata": {},
     "output_type": "display_data"
    }
   ],
   "source": [
    "summary_widget = SummaryWidget()\n",
    "ipw.dlink((pseudo_select_widget, 'selected_pseudos'), (summary_widget, 'selected_pseudos'))\n",
    "display(summary_widget)"
   ]
  },
  {
   "cell_type": "markdown",
   "id": "5faaa859",
   "metadata": {},
   "source": []
  },
  {
   "cell_type": "markdown",
   "id": "4eac76db",
   "metadata": {},
   "source": [
    "#### ⚠️ Notes:\n",
    "For wavefunction cutoff convergence verification, the charge density cutoff is fixed at $x_c^{rho}=200\\times d$, where $d=4$ for norm-converserving pseudopotentials and $d=8$ for ultra-soft and paw pseudopotentials. \n",
    "\n",
    "For charge density cutoff convergence verification, the wavefunction cutoff is fixed at converged value of wavefunction cutoff convergence test.\n",
    "\n",
    "The reference cutoff $(x_c^{wfc}, x_c^{rho})$ is set to $(200, 200\\times d)$ for both wavefunctian and charge density verifications.\n"
   ]
  },
  {
   "cell_type": "markdown",
   "id": "64db0364",
   "metadata": {},
   "source": [
    "## Cohesive energy (eV/atom)\n",
    "\n",
    "Please check <a href=\"./sssp-docs.ipynb\" target=\"_blank\">Documentation</a> for more details."
   ]
  },
  {
   "cell_type": "code",
   "execution_count": 10,
   "id": "9a3034f5",
   "metadata": {},
   "outputs": [
    {
     "data": {
      "application/vnd.jupyter.widget-view+json": {
       "model_id": "88be35e6ff894af08b9c63a67a4cfea7",
       "version_major": 2,
       "version_minor": 0
      },
      "text/plain": [
       "PlotCohesiveEnergyConvergeWidget(children=(Output(),))"
      ]
     },
     "metadata": {},
     "output_type": "display_data"
    }
   ],
   "source": [
    "display(plot_cohesive_energy_converge_widget)"
   ]
  },
  {
   "cell_type": "markdown",
   "id": "80969308",
   "metadata": {},
   "source": [
    "## Cohesive energy error (eV/atom)\n",
    "\n",
    "Please check [Documentation](./sssp-docs.ipynb) for more details."
   ]
  },
  {
   "cell_type": "code",
   "execution_count": 11,
   "id": "b6a7f447",
   "metadata": {},
   "outputs": [
    {
     "data": {
      "application/vnd.jupyter.widget-view+json": {
       "model_id": "fd208a77878949c1812e328a068b8af6",
       "version_major": 2,
       "version_minor": 0
      },
      "text/plain": [
       "PlotCohesiveEnergyConvergeDiffWidget(children=(Output(),))"
      ]
     },
     "metadata": {},
     "output_type": "display_data"
    }
   ],
   "source": [
    "display(plot_cohesive_energy_converge_diff_widget)"
   ]
  },
  {
   "cell_type": "markdown",
   "id": "6953f51b",
   "metadata": {},
   "source": [
    "## Phonon frequencies absolute error ($cm^{-1}$)\n",
    "\n",
    "Please check <a href=\"./sssp-docs.ipynb\" target=\"_blank\">Documentation</a> for more details."
   ]
  },
  {
   "cell_type": "code",
   "execution_count": 12,
   "id": "eb6627d1",
   "metadata": {},
   "outputs": [
    {
     "data": {
      "application/vnd.jupyter.widget-view+json": {
       "model_id": "aca2bd8fdb714cbf9911914681ffe591",
       "version_major": 2,
       "version_minor": 0
      },
      "text/plain": [
       "PlotPhononFrequenciesConvergeAbsWidget(children=(Output(),))"
      ]
     },
     "metadata": {},
     "output_type": "display_data"
    }
   ],
   "source": [
    "display(plot_phonon_frequencies_converge_abs_widget)"
   ]
  },
  {
   "cell_type": "markdown",
   "id": "67900745",
   "metadata": {},
   "source": [
    "## Phonon frequencies relative error (%)\n",
    "\n",
    "Please check <a href=\"./sssp-docs.ipynb\" target=\"_blank\">Documentation</a> for more details."
   ]
  },
  {
   "cell_type": "code",
   "execution_count": 13,
   "id": "8f582333",
   "metadata": {},
   "outputs": [
    {
     "data": {
      "application/vnd.jupyter.widget-view+json": {
       "model_id": "09b7f48a8347469c9eca72376b83349c",
       "version_major": 2,
       "version_minor": 0
      },
      "text/plain": [
       "PlotPhononFrequenciesConvergeRelWidget(children=(Output(),))"
      ]
     },
     "metadata": {},
     "output_type": "display_data"
    }
   ],
   "source": [
    "display(plot_phonon_frequencies_converge_rel_widget)"
   ]
  },
  {
   "cell_type": "markdown",
   "id": "451f3604",
   "metadata": {},
   "source": [
    "## Pressure absolute error (GPa)\n",
    "\n",
    "Please check <a href=\"./sssp-docs.ipynb\" target=\"_blank\">Documentation</a> for more details."
   ]
  },
  {
   "cell_type": "code",
   "execution_count": 14,
   "id": "c3e76bd6",
   "metadata": {},
   "outputs": [
    {
     "data": {
      "application/vnd.jupyter.widget-view+json": {
       "model_id": "16c92a6ca75747cf8d2dfeae4cc02cdd",
       "version_major": 2,
       "version_minor": 0
      },
      "text/plain": [
       "PlotPressureConvergeWidget(children=(Output(),))"
      ]
     },
     "metadata": {},
     "output_type": "display_data"
    }
   ],
   "source": [
    "display(plot_pressure_converge_widget)"
   ]
  },
  {
   "cell_type": "markdown",
   "id": "16b0d29c",
   "metadata": {},
   "source": [
    "## Pressure relative error (GPa)\n",
    "\n",
    "Please check <a href=\"./sssp-docs.ipynb\" target=\"_blank\">Documentation</a> for more details."
   ]
  },
  {
   "cell_type": "code",
   "execution_count": 15,
   "id": "a252801d",
   "metadata": {},
   "outputs": [
    {
     "data": {
      "application/vnd.jupyter.widget-view+json": {
       "model_id": "d3056f9e87474473a1ba063bbdd36288",
       "version_major": 2,
       "version_minor": 0
      },
      "text/plain": [
       "PlotPressureConvergeRelWidget(children=(Output(),))"
      ]
     },
     "metadata": {},
     "output_type": "display_data"
    }
   ],
   "source": [
    "display(plot_pressure_converge_rel_widget)"
   ]
  },
  {
   "cell_type": "markdown",
   "id": "baa5a5ca",
   "metadata": {},
   "source": [
    "## $\\Delta$-factor (meV)\n",
    "\n",
    "Please check <a href=\"./sssp-docs.ipynb\" target=\"_blank\">Documentation</a> for more details."
   ]
  },
  {
   "cell_type": "code",
   "execution_count": 16,
   "id": "b63c1a51",
   "metadata": {},
   "outputs": [
    {
     "data": {
      "application/vnd.jupyter.widget-view+json": {
       "model_id": "c7f92765acf9460a885cdc1c5cf14486",
       "version_major": 2,
       "version_minor": 0
      },
      "text/plain": [
       "PlotDeltaConvergeWidget(children=(Output(),))"
      ]
     },
     "metadata": {},
     "output_type": "display_data"
    }
   ],
   "source": [
    "display(plot_delta_converge_widget)"
   ]
  },
  {
   "cell_type": "markdown",
   "id": "b4e8c246",
   "metadata": {},
   "source": [
    "## $\\Delta$-factor relative error (%)\n",
    "\n",
    "Please check <a href=\"./sssp-docs.ipynb\" target=\"_blank\">Documentation</a> for more details."
   ]
  },
  {
   "cell_type": "code",
   "execution_count": 17,
   "id": "55e5c5e1",
   "metadata": {},
   "outputs": [
    {
     "data": {
      "application/vnd.jupyter.widget-view+json": {
       "model_id": "e2d515c218924230b2edd977980df5c2",
       "version_major": 2,
       "version_minor": 0
      },
      "text/plain": [
       "PlotDeltaConvergeRelWidget(children=(Output(),))"
      ]
     },
     "metadata": {},
     "output_type": "display_data"
    }
   ],
   "source": [
    "display(plot_delta_converge_rel_widget)"
   ]
  },
  {
   "cell_type": "markdown",
   "id": "01d2860c",
   "metadata": {},
   "source": [
    "## Bands distance (meV)\n",
    "\n",
    "Please check <a href=\"./sssp-docs.ipynb\" target=\"_blank\">Documentation</a> for more details."
   ]
  },
  {
   "cell_type": "code",
   "execution_count": 18,
   "id": "9b8dda21",
   "metadata": {},
   "outputs": [
    {
     "data": {
      "application/vnd.jupyter.widget-view+json": {
       "model_id": "9e1e74e6ebb54c939bd97a1a003b8b22",
       "version_major": 2,
       "version_minor": 0
      },
      "text/plain": [
       "PlotBandsConvergeWidget(children=(Output(),))"
      ]
     },
     "metadata": {},
     "output_type": "display_data"
    }
   ],
   "source": [
    "display(plot_bands_converge_widget)"
   ]
  }
 ],
 "metadata": {
  "kernelspec": {
   "display_name": "Python 3 (ipykernel)",
   "language": "python",
   "name": "python3"
  },
  "language_info": {
   "codemirror_mode": {
    "name": "ipython",
    "version": 3
   },
   "file_extension": ".py",
   "mimetype": "text/x-python",
   "name": "python",
   "nbconvert_exporter": "python",
   "pygments_lexer": "ipython3",
   "version": "3.7.9"
  }
 },
 "nbformat": 4,
 "nbformat_minor": 5
}
