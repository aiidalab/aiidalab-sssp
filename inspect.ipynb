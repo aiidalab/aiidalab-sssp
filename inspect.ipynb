{
 "cells": [
  {
   "cell_type": "markdown",
   "id": "3eb26e2b",
   "metadata": {},
   "source": [
    "download the https://www.materialscloud.org/mcloud/api/v2/discover/sssp/elements/Si"
   ]
  },
  {
   "cell_type": "markdown",
   "id": "9545de19",
   "metadata": {},
   "source": [
    "through this inspect base-url to download the upf file from Materials Cloud."
   ]
  }
 ],
 "metadata": {
  "kernelspec": {
   "display_name": "Python 3 (ipykernel)",
   "language": "python",
   "name": "python3"
  },
  "language_info": {
   "codemirror_mode": {
    "name": "ipython",
    "version": 3
   },
   "file_extension": ".py",
   "mimetype": "text/x-python",
   "name": "python",
   "nbconvert_exporter": "python",
   "pygments_lexer": "ipython3",
   "version": "3.7.9"
  }
 },
 "nbformat": 4,
 "nbformat_minor": 5
}
