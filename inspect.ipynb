{
 "cells": [
  {
   "cell_type": "code",
   "execution_count": 1,
   "id": "fe6d78c0",
   "metadata": {},
   "outputs": [
    {
     "data": {
      "application/javascript": [
       "IPython.OutputArea.prototype._should_scroll = function(lines) {\n",
       "    return false;\n",
       "}\n",
       "document.title='AiiDAlab SSSP app'\n"
      ],
      "text/plain": [
       "<IPython.core.display.Javascript object>"
      ]
     },
     "metadata": {},
     "output_type": "display_data"
    }
   ],
   "source": [
    "%%javascript\n",
    "IPython.OutputArea.prototype._should_scroll = function(lines) {\n",
    "    return false;\n",
    "}\n",
    "document.title='AiiDAlab SSSP app'"
   ]
  },
  {
   "cell_type": "code",
   "execution_count": 2,
   "id": "fcd02c89",
   "metadata": {},
   "outputs": [],
   "source": [
    "%matplotlib widget"
   ]
  },
  {
   "cell_type": "code",
   "execution_count": 3,
   "id": "ba9715ad",
   "metadata": {},
   "outputs": [
    {
     "data": {
      "application/vnd.jupyter.widget-view+json": {
       "model_id": "b3138c34631e4514864b2ce70bc34b27",
       "version_major": 2,
       "version_minor": 0
      },
      "text/plain": [
       "PeriodicTable(children=(PTableWidget(allElements=['H', 'He', 'Li', 'Be', 'B', 'C', 'N', 'O', 'F', 'Ne', 'Na', …"
      ]
     },
     "metadata": {},
     "output_type": "display_data"
    },
    {
     "data": {
      "application/vnd.jupyter.widget-view+json": {
       "model_id": "80e9cd873cd3446e92ad6f26967fc751",
       "version_major": 2,
       "version_minor": 0
      },
      "text/plain": [
       "PseudoSelectWidget(children=(HTML(value='No pseudopotentials available for compare, please select an element o…"
      ]
     },
     "metadata": {},
     "output_type": "display_data"
    },
    {
     "data": {
      "application/vnd.jupyter.widget-view+json": {
       "model_id": "e6ede775a3314d6d8d79a20a2243e823",
       "version_major": 2,
       "version_minor": 0
      },
      "text/plain": [
       "AccuracyMeritWidget(children=(Output(),), layout=Layout(display='none'))"
      ]
     },
     "metadata": {},
     "output_type": "display_data"
    },
    {
     "data": {
      "application/vnd.jupyter.widget-view+json": {
       "model_id": "43bda6a50b5243cb99759e72a5d90660",
       "version_major": 2,
       "version_minor": 0
      },
      "text/plain": [
       "SummaryWidget(children=(Output(), HTML(value='<p> Switch between ν and Δ </p>'), ToggleButtons(options=(('ν', …"
      ]
     },
     "metadata": {},
     "output_type": "display_data"
    },
    {
     "data": {
      "application/vnd.jupyter.widget-view+json": {
       "model_id": "a6a8545504a14ea0b947d999445abac5",
       "version_major": 2,
       "version_minor": 0
      },
      "text/plain": [
       "EosComparisonWidget(children=(HBox(children=(Dropdown(options=(), value=None), Dropdown(options=(), value=None…"
      ]
     },
     "metadata": {},
     "output_type": "display_data"
    },
    {
     "data": {
      "application/vnd.jupyter.widget-view+json": {
       "model_id": "5f8fa1eb9ce54d0b8d91b0e1f9d43f34",
       "version_major": 2,
       "version_minor": 0
      },
      "text/plain": [
       "BandChessboard(children=(HTML(value='<h2> Accuracy: Bands distance chessboard</h2>'), Output()), layout=Layout…"
      ]
     },
     "metadata": {},
     "output_type": "display_data"
    },
    {
     "data": {
      "application/vnd.jupyter.widget-view+json": {
       "model_id": "8ed726c1aec145b1b9f1ec297d4446d2",
       "version_major": 2,
       "version_minor": 0
      },
      "text/plain": [
       "BandStructureWidget(children=(HTML(value='<h2> Band Structure </h2>'), HBox(children=(Dropdown(options=(), val…"
      ]
     },
     "metadata": {},
     "output_type": "display_data"
    }
   ],
   "source": [
    "import ipywidgets as ipw\n",
    "from pathlib import Path\n",
    "from IPython.display import display\n",
    "import matplotlib.pyplot as plt\n",
    "import os\n",
    "import json\n",
    "\n",
    "from aiidalab_sssp.inspect.subwidgets.periodic_table import PeriodicTable\n",
    "from aiidalab_sssp.inspect.subwidgets.select import PseudoSelectWidget\n",
    "from aiidalab_sssp.inspect.subwidgets.summary import SummaryWidget\n",
    "from aiidalab_sssp.inspect.subwidgets.delta import AccuracyMeritWidget, EosComparisonWidget\n",
    "from aiidalab_sssp.inspect.subwidgets.bands import BandStructureWidget, BandChessboard\n",
    "from aiidalab_sssp.inspect.subwidgets.convergence import ConvergenceWidget\n",
    "\n",
    "\n",
    "from aiidalab_sssp.inspect import DB_FOLDER, SSSP_LOCAL_DB\n",
    "\n",
    "# Show plot one time dynamical\n",
    "plt.ioff()\n",
    "\n",
    "# If cached DB folder not exist (first time app run), create folder\n",
    "DB_FOLDER.mkdir(parents=True, exist_ok=True)\n",
    "SSSP_LOCAL_DB.mkdir(parents=True, exist_ok=True)\n",
    "\n",
    "ptable = PeriodicTable(cache_folder=str(DB_FOLDER))\n",
    "pseudo_select = PseudoSelectWidget()\n",
    "summary = SummaryWidget()\n",
    "\n",
    "eos_comparison = EosComparisonWidget()\n",
    "\n",
    "nu_preview = AccuracyMeritWidget()\n",
    "bandchessboard = BandChessboard()\n",
    "convergence = ConvergenceWidget()\n",
    "bandstucture = BandStructureWidget()\n",
    "\n",
    "ipw.dlink(\n",
    "    (ptable, 'pseudos'),\n",
    "    (pseudo_select, 'pseudos'),\n",
    ")\n",
    "\n",
    "####################\n",
    "# load process from url \n",
    "# this need to happened before link to pseudos of following widgets\n",
    "from urllib.parse import parse_qs, urlsplit\n",
    "\n",
    "def parse_url(url):\n",
    "    query = parse_qs(urlsplit(url).query)\n",
    "    pk = query.get('pk', None)\n",
    "\n",
    "    # Can be a list with multiple nodes to load\n",
    "    return pk\n",
    "\n",
    "def _load_pseudos(element, db=SSSP_LOCAL_DB) -> dict:\n",
    "    \"\"\"Open result json file of element return as dict\"\"\"\n",
    "    if element:\n",
    "        json_fn = os.path.join(db, f\"{element}.json\")\n",
    "        with open(json_fn, \"r\") as fh:\n",
    "            pseudos = json.load(fh)\n",
    "\n",
    "        return {key: pseudos[key] for key in sorted(pseudos.keys(), key=str.lower)}\n",
    "\n",
    "    return dict()\n",
    "\n",
    "try:   \n",
    "    pk = int(parse_url(jupyter_notebook_url)[0])\n",
    "except Exception:\n",
    "    pk = None\n",
    "\n",
    "if pk:\n",
    "    import aiida\n",
    "    from aiida.orm import load_node\n",
    "    from aiidalab_sssp.inspect import dump_to_sssp_local_db\n",
    "\n",
    "    aiida.load_profile()\n",
    "\n",
    "    node = load_node(pk)\n",
    "    label = node.extras.get(\"label\").split()[-1]\n",
    "    element = node.extras.get(\"element\")\n",
    "\n",
    "    try:\n",
    "        pseudos = _load_pseudos(element)\n",
    "    except FileNotFoundError:\n",
    "        pseudos = {}\n",
    "\n",
    "    if label not in pseudos:\n",
    "        curated_results = pseudos\n",
    "        # dump bands/band structure and return a dict of pseudo\n",
    "        tmp_pseudo = dump_to_sssp_local_db(node)\n",
    "        pseudos[label] = tmp_pseudo\n",
    "        \n",
    "    ptable.selected_element = element\n",
    "    ptable.ptable.selected_elements = {element: 0}  # TODO: this should be in ptabel widget\n",
    "    pseudo_select.selected_pseudos[f'{label}(custom)'] = pseudos[label]\n",
    "\n",
    "    # TODO: add a custom instruction as output and chime into after the ptable\n",
    "    # to let user know that the local verified pseudo is to compare here.\n",
    "########################\n",
    "\n",
    "\n",
    "ipw.dlink((pseudo_select, 'selected_pseudos'), (summary, 'pseudos'))\n",
    "ipw.dlink((pseudo_select, 'selected_pseudos'), (nu_preview, 'pseudos'))\n",
    "ipw.dlink((pseudo_select, 'selected_pseudos'), (eos_comparison, 'pseudos'))\n",
    "ipw.dlink((pseudo_select, 'selected_pseudos'), (bandchessboard, 'pseudos'))\n",
    "ipw.dlink((pseudo_select, 'selected_pseudos'), (bandstucture, 'pseudos'))\n",
    "ipw.dlink((pseudo_select, 'selected_pseudos'), (convergence, 'pseudos'))\n",
    "\n",
    "\n",
    "display(ptable)\n",
    "display(pseudo_select)\n",
    "display(nu_preview)\n",
    "display(summary)\n",
    "display(eos_comparison)\n",
    "display(bandchessboard)\n",
    "display(bandstucture)\n",
    "display(convergence)"
   ]
  }
 ],
 "metadata": {
  "interpreter": {
   "hash": "d4d1e4263499bec80672ea0156c357c1ee493ec2b1c70f0acce89fc37c4a6abe"
  },
  "kernelspec": {
   "display_name": "Python 3 (ipykernel)",
   "language": "python",
   "name": "python3"
  },
  "language_info": {
   "codemirror_mode": {
    "name": "ipython",
    "version": 3
   },
   "file_extension": ".py",
   "mimetype": "text/x-python",
   "name": "python",
   "nbconvert_exporter": "python",
   "pygments_lexer": "ipython3",
   "version": "3.9.13"
  }
 },
 "nbformat": 4,
 "nbformat_minor": 5
}
