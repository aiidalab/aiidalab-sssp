{
 "cells": [
  {
   "cell_type": "code",
   "execution_count": null,
   "id": "fe6d78c0",
   "metadata": {},
   "outputs": [],
   "source": [
    "%matplotlib widget"
   ]
  },
  {
   "cell_type": "code",
   "execution_count": null,
   "id": "ba9715ad",
   "metadata": {},
   "outputs": [],
   "source": [
    "from aiidalab_sssp.inspect.subwidgets.periodic_table import PeriodicTable\n",
    "from aiidalab_sssp.inspect.subwidgets.select import PseudoSelectWidget\n",
    "from aiidalab_sssp.inspect import DB_FOLDER\n",
    "import ipywidgets as ipw\n",
    "from pathlib import Path\n",
    "from IPython.display import display\n",
    "import matplotlib.pyplot as plt\n",
    "\n",
    "plt.ioff()\n",
    "\n",
    "# If cached DB folder not exist (first time app run), create folder\n",
    "DB_FOLDER.mkdir(parents=True, exist_ok=True)"
   ]
  },
  {
   "cell_type": "code",
   "execution_count": null,
   "id": "a3ac4c44",
   "metadata": {},
   "outputs": [],
   "source": [
    "ptable = PeriodicTable(cache_folder=str(DB_FOLDER))\n",
    "\n",
    "display(ptable)"
   ]
  },
  {
   "cell_type": "code",
   "execution_count": null,
   "id": "afa9df69",
   "metadata": {},
   "outputs": [],
   "source": [
    "pseudo_select = PseudoSelectWidget()\n",
    "\n",
    "# ipw.dlink(\n",
    "#     (periodic_table, 'selected_element'), \n",
    "#     (pseudo_select_widget, 'selected_element'),\n",
    "# )\n",
    "pseudo_select.element = 'O'\n",
    "\n",
    "display(pseudo_select)"
   ]
  },
  {
   "cell_type": "code",
   "execution_count": null,
   "id": "583e634b",
   "metadata": {},
   "outputs": [],
   "source": [
    "from aiidalab_sssp.inspect.subwidgets.delta import EosWidget\n",
    "\n",
    "eos_preview = EosWidget()\n",
    "ipw.dlink((pseudo_select, 'selected_pseudos'), (eos_preview, 'pseudos'))\n",
    "\n",
    "display(eos_preview)"
   ]
  },
  {
   "cell_type": "code",
   "execution_count": null,
   "id": "28e9098f",
   "metadata": {},
   "outputs": [],
   "source": [
    "from aiidalab_sssp.inspect.subwidgets.delta import NuMeasure\n",
    "\n",
    "nu_preview = NuMeasure()\n",
    "ipw.dlink((pseudo_select, 'selected_pseudos'), (nu_preview, 'pseudos'))\n",
    "\n",
    "display(nu_preview)"
   ]
  }
 ],
 "metadata": {
  "interpreter": {
   "hash": "d4d1e4263499bec80672ea0156c357c1ee493ec2b1c70f0acce89fc37c4a6abe"
  },
  "kernelspec": {
   "display_name": "Python 3 (ipykernel)",
   "language": "python",
   "name": "python3"
  },
  "language_info": {
   "codemirror_mode": {
    "name": "ipython",
    "version": 3
   },
   "file_extension": ".py",
   "mimetype": "text/x-python",
   "name": "python",
   "nbconvert_exporter": "python",
   "pygments_lexer": "ipython3",
   "version": "3.7.9"
  }
 },
 "nbformat": 4,
 "nbformat_minor": 5
}
