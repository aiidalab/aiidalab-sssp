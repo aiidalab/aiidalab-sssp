{
 "cells": [
  {
   "cell_type": "markdown",
   "id": "10b9a94c",
   "metadata": {},
   "source": [
    "This notebook is used to inspect the verification results running by and only by this kernel user. The user will see all the verification results and will be able to compare the results with the 'standard' library where the pseudopotentials verifications run and already uploaded to Materials Cloud SSSP database.\n",
    "\n",
    "User can choose his finished verification running process and inspect the outputs by using `WorkChainSelector`. "
   ]
  },
  {
   "cell_type": "code",
   "execution_count": 1,
   "id": "a1441c21",
   "metadata": {},
   "outputs": [
    {
     "ename": "NameError",
     "evalue": "name 'WorkChainSelector' is not defined",
     "output_type": "error",
     "traceback": [
      "\u001b[0;31m---------------------------------------------------------------------------\u001b[0m",
      "\u001b[0;31mNameError\u001b[0m                                 Traceback (most recent call last)",
      "\u001b[0;32m/tmp/ipykernel_1566/3314346684.py\u001b[0m in \u001b[0;36m<module>\u001b[0;34m\u001b[0m\n\u001b[1;32m      1\u001b[0m \u001b[0;31m# This WorkChainSelector should show the basic metadata of input pseudopotentials\u001b[0m\u001b[0;34m\u001b[0m\u001b[0;34m\u001b[0m\u001b[0;34m\u001b[0m\u001b[0m\n\u001b[1;32m      2\u001b[0m \u001b[0;34m\u001b[0m\u001b[0m\n\u001b[0;32m----> 3\u001b[0;31m \u001b[0mwork_chain_selector\u001b[0m \u001b[0;34m=\u001b[0m \u001b[0mWorkChainSelector\u001b[0m\u001b[0;34m(\u001b[0m\u001b[0mlayout\u001b[0m\u001b[0;34m=\u001b[0m\u001b[0mipw\u001b[0m\u001b[0;34m.\u001b[0m\u001b[0mLayout\u001b[0m\u001b[0;34m(\u001b[0m\u001b[0mwidth\u001b[0m\u001b[0;34m=\u001b[0m\u001b[0;34m'auto'\u001b[0m\u001b[0;34m)\u001b[0m\u001b[0;34m)\u001b[0m\u001b[0;34m\u001b[0m\u001b[0;34m\u001b[0m\u001b[0m\n\u001b[0m\u001b[1;32m      4\u001b[0m \u001b[0;34m\u001b[0m\u001b[0m\n\u001b[1;32m      5\u001b[0m \u001b[0;32mdef\u001b[0m \u001b[0m_observe_process_selection\u001b[0m\u001b[0;34m(\u001b[0m\u001b[0mchange\u001b[0m\u001b[0;34m)\u001b[0m\u001b[0;34m:\u001b[0m\u001b[0;34m\u001b[0m\u001b[0;34m\u001b[0m\u001b[0m\n",
      "\u001b[0;31mNameError\u001b[0m: name 'WorkChainSelector' is not defined"
     ]
    }
   ],
   "source": [
    "# This WorkChainSelector should show the basic metadata of input pseudopotentials\n",
    "\n",
    "work_chain_selector = WorkChainSelector(layout=ipw.Layout(width='auto'))\n",
    "\n",
    "def _observe_process_selection(change):\n",
    "    if change['old'] == change['new']:\n",
    "        return\n",
    "    \n",
    "    pk = change['new']\n",
    "    \n",
    "    if pk is None:\n",
    "        pass\n",
    "    else:\n",
    "        process = load_node(pk)\n",
    "        inspect_verification_widget.process = process\n",
    "        \n",
    "work_chain_selector.observe(_observe_process_selection, 'value')"
   ]
  },
  {
   "cell_type": "markdown",
   "id": "a10b573b",
   "metadata": {},
   "source": [
    "Search and filter the results of verifications through Materials Cloud SSSP API.\n",
    "\n",
    "User can also choose the protocol(critisize) to determine what kind of result they want to see, such as the precise one or the efficient one.\n",
    "\n",
    "download the https://www.materialscloud.org/mcloud/api/v2/discover/sssp/elements/Si\n",
    "\n",
    "The new API: https://app.swaggerhub.com/apis/unkcpz/mc-sssp/1.0.0"
   ]
  },
  {
   "cell_type": "code",
   "execution_count": null,
   "id": "c9af7b27",
   "metadata": {},
   "outputs": [],
   "source": [
    "ecutwfc = [30, 35, 40, 45, 50, 55, 60, 65, 70, 75, 80, 90, 100, 120, 150]\n",
    "\n",
    "res_coh = [0.0309012470138,\n",
    "0.0104351572986,\n",
    "0.0134563011848,\n",
    "0.0081590612571998,\n",
    "0.0048383200001001,\n",
    "0.0028592361004001,\n",
    "0.0014205702000001,\n",
    "0.0030646821001001,\n",
    "0.0037377556005,\n",
    "0.0032731211999999,\n",
    "0.0017702365002998,\n",
    "0.0011366193999001,\n",
    "0.0021241206005,\n",
    "0.00058926249989977,\n",
    "9.3879999001345e-06]\n",
    "\n",
    "res_pressure = [23.243039850101,\n",
    "1.2783429194216,\n",
    "0.79245492599821,\n",
    "1.9169259589163,\n",
    "1.407795366958,\n",
    "0.47970958115461,\n",
    "0.0363349483426,\n",
    "0.04089520501717,\n",
    "0.16725844641915,\n",
    "0.20256365938361,\n",
    "0.1471050540186,\n",
    "0.0213302328327,\n",
    "0.00882630324112,\n",
    "0.02103602272466,\n",
    "0.01220971948355]\n",
    "\n",
    "res_phonon = []"
   ]
  }
 ],
 "metadata": {
  "kernelspec": {
   "display_name": "Python 3 (ipykernel)",
   "language": "python",
   "name": "python3"
  },
  "language_info": {
   "codemirror_mode": {
    "name": "ipython",
    "version": 3
   },
   "file_extension": ".py",
   "mimetype": "text/x-python",
   "name": "python",
   "nbconvert_exporter": "python",
   "pygments_lexer": "ipython3",
   "version": "3.7.9"
  }
 },
 "nbformat": 4,
 "nbformat_minor": 5
}
