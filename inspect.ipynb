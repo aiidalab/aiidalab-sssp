{
 "cells": [
  {
   "cell_type": "code",
   "execution_count": 1,
   "id": "b7299dbb",
   "metadata": {},
   "outputs": [],
   "source": [
    "%matplotlib widget\n",
    "\n",
    "# To prevent automatic figure display when execution of the cell ends\n",
    "%config InlineBackend.close_figures=False "
   ]
  },
  {
   "cell_type": "code",
   "execution_count": 2,
   "id": "a1aa37d3",
   "metadata": {},
   "outputs": [
    {
     "data": {
      "text/plain": [
       "<matplotlib.pyplot._IoffContext at 0x7fab73110250>"
      ]
     },
     "execution_count": 2,
     "metadata": {},
     "output_type": "execute_result"
    }
   ],
   "source": [
    "import matplotlib.pyplot as plt\n",
    "\n",
    "import ipywidgets as ipw\n",
    "from widget_periodictable import PTableWidget\n",
    "\n",
    "plt.ioff()"
   ]
  },
  {
   "cell_type": "code",
   "execution_count": 3,
   "id": "a3ac4c44",
   "metadata": {},
   "outputs": [
    {
     "data": {
      "application/vnd.jupyter.widget-view+json": {
       "model_id": "5f8759ceb8ae43849c2f3a13336995c4",
       "version_major": 2,
       "version_minor": 0
      },
      "text/plain": [
       "PTableWidget(allElements=['H', 'He', 'Li', 'Be', 'B', 'C', 'N', 'O', 'F', 'Ne', 'Na', 'Mg', 'Al', 'Si', 'P', '…"
      ]
     },
     "metadata": {},
     "output_type": "display_data"
    }
   ],
   "source": [
    "from aiidalab_sssp.widgets import SSSP_DB\n",
    "\n",
    "# Show the widget\n",
    "periodic_table_widget = PTableWidget(states = 1,\n",
    "                      selected_colors = ['royalblue'], \n",
    "                      unselected_color='cornflowerblue', border_color = 'black', width = '40px')\n",
    "\n",
    "disable_elements = [e for e in periodic_table_widget.allElements if e not in SSSP_DB.keys()]\n",
    "periodic_table_widget.disabled_elements = disable_elements\n",
    "\n",
    "last_selected = periodic_table_widget.selected_elements\n",
    "def on_element_select(event):\n",
    "    global last_selected\n",
    "\n",
    "    if event['name'] == 'selected_elements' and event['type'] == 'change':\n",
    "        if tuple(event['new'].keys()) == ('Du', ):\n",
    "            last_selected = event['old']\n",
    "        elif tuple(event['old'].keys()) == ('Du', ):\n",
    "            #print(last_selected, event['new'])\n",
    "            if len(event['new']) != 1:\n",
    "                # Reset to only one element only if there is more than one selected,\n",
    "                # to avoid infinite loops\n",
    "                newly_selected = set(event['new']).difference(last_selected)\n",
    "                # If this is empty it's ok, unselect all\n",
    "                # If there is more than one, that's weird... to avoid problems, anyway, I pick one of the two\n",
    "                if newly_selected:\n",
    "                    periodic_table_widget.selected_elements = {list(newly_selected)[0]: 0}\n",
    "                else:\n",
    "                    periodic_table_widget.selected_elements = {}\n",
    "                # To have the correct 'last' value for next calls\n",
    "                last_selected = periodic_table_widget.selected_elements\n",
    "\n",
    "periodic_table_widget.observe(on_element_select)\n",
    "\n",
    "display(periodic_table_widget)"
   ]
  },
  {
   "cell_type": "code",
   "execution_count": 4,
   "id": "67cf741f",
   "metadata": {},
   "outputs": [
    {
     "data": {
      "text/plain": [
       "<traitlets.traitlets.directional_link at 0x7fab732cc5d0>"
      ]
     },
     "execution_count": 4,
     "metadata": {},
     "output_type": "execute_result"
    }
   ],
   "source": [
    "from aiidalab_sssp.widgets import PseudoSelectWidget\n",
    "\n",
    "pseudo_select_widget = PseudoSelectWidget()\n",
    "\n",
    "# pseudo_select_widget.selected_element = 'Au'\n",
    "ipw.dlink(\n",
    "    (periodic_table_widget, 'selected_elements'), \n",
    "    (pseudo_select_widget, 'selected_element'),\n",
    "    transform=lambda elements: list(elements.keys())[0] if elements else None,\n",
    ")"
   ]
  },
  {
   "cell_type": "code",
   "execution_count": 5,
   "id": "c22ea948",
   "metadata": {},
   "outputs": [
    {
     "data": {
      "application/vnd.jupyter.widget-view+json": {
       "model_id": "5d3bac86526b411ab7a61a6ceb5ef83c",
       "version_major": 2,
       "version_minor": 0
      },
      "text/plain": [
       "PseudoSelectWidget(children=(HTML(value='No element is selected'), SelectMultiple(layout=Layout(width='98%'), …"
      ]
     },
     "metadata": {},
     "output_type": "display_data"
    }
   ],
   "source": [
    "display(pseudo_select_widget)"
   ]
  },
  {
   "cell_type": "code",
   "execution_count": 6,
   "id": "8e8f884c",
   "metadata": {},
   "outputs": [
    {
     "data": {
      "image/png": "[encoded data removed]",
      "text/plain": [
       "<Figure size 1024x480 with 2 Axes>"
      ]
     },
     "metadata": {},
     "output_type": "display_data"
    },
    {
     "data": {
      "text/plain": [
       "<traitlets.traitlets.directional_link at 0x7fab72c8d6d0>"
      ]
     },
     "execution_count": 6,
     "metadata": {},
     "output_type": "execute_result"
    }
   ],
   "source": [
    "from aiidalab_sssp import widgets_plot as wplot\n",
    "\n",
    "\n",
    "plot_delta_measure_widget = wplot.PlotDeltaMeasureWidget()\n",
    "ipw.dlink((pseudo_select_widget, 'selected_pseudos'), (plot_delta_measure_widget, 'selected_pseudos'))\n",
    "\n",
    "plot_cohesive_energy_converge_widget = wplot.PlotCohesiveEnergyConvergeWidget()\n",
    "ipw.dlink((pseudo_select_widget, 'selected_pseudos'), (plot_cohesive_energy_converge_widget, 'selected_pseudos'))\n",
    "\n",
    "plot_cohesive_energy_converge_diff_widget = wplot.PlotCohesiveEnergyConvergeDiffWidget()\n",
    "ipw.dlink((pseudo_select_widget, 'selected_pseudos'), (plot_cohesive_energy_converge_diff_widget, 'selected_pseudos'))\n",
    "\n",
    "plot_phonon_frequencies_converge_abs_widget = wplot.PlotPhononFrequenciesConvergeAbsWidget()\n",
    "ipw.dlink((pseudo_select_widget, 'selected_pseudos'), (plot_phonon_frequencies_converge_abs_widget, 'selected_pseudos'))\n",
    "\n",
    "plot_phonon_frequencies_converge_rel_widget = wplot.PlotPhononFrequenciesConvergeRelWidget()\n",
    "ipw.dlink((pseudo_select_widget, 'selected_pseudos'), (plot_phonon_frequencies_converge_rel_widget, 'selected_pseudos'))\n",
    "\n",
    "plot_pressure_converge_widget = wplot.PlotPressureConvergeWidget()\n",
    "ipw.dlink((pseudo_select_widget, 'selected_pseudos'), (plot_pressure_converge_widget, 'selected_pseudos'))\n",
    "\n",
    "plot_pressure_converge_rel_widget = wplot.PlotPressureConvergeRelWidget()\n",
    "ipw.dlink((pseudo_select_widget, 'selected_pseudos'), (plot_pressure_converge_rel_widget, 'selected_pseudos'))"
   ]
  },
  {
   "cell_type": "markdown",
   "id": "650dc0f7",
   "metadata": {},
   "source": [
    "## $\\Delta$ measures (normol $\\Delta$-factor, $\\Delta'$-factor and 'length of the vector' measure)\n",
    "\n",
    "### $\\Delta$-factor\n",
    "The $\\Delta$-factor is defined from the result of Birch-Murnanghan fitting which is:\n",
    "\n",
    "$$\n",
    "    E_\\text{BM}(V) = E_0 + \\frac{9 V_0 B_0}{16} {[(V_0 / V)^{2/3}-1]^3 B_0^{'} + [(V_0 / V)^{2/3}-1]^2[6-4(V_0 / V)^{2/3}]}\n",
    "$$\n",
    "\n",
    "Where the energies are calculated from changing lattice parameters at different volumes diviate from the balance position. The the $\\Delta$-factor is integrated difference of two Birch-Murnanghan fitting result:\n",
    "\n",
    "$$\n",
    "    \\Delta = \\sqrt{\\frac{\\int \\mathrm{d} V \\Delta E_{\\text{BM}}^2(V)}{\\Delta{V}}}    \n",
    "$$\n",
    "\n",
    "### $\\Delta'$-factor\n",
    "However $\\Delta$ is stiffness-dependent quantity, being proportional to $B_0$. The $\\Delta'$ is introduced to renormalized $\\Delta$-factor which is similar to the original $\\Delta$-factor except it is \"renormalized\"\n",
    "to reference values of $V^{\\text{ref}}$ and $B^{\\text{ref}}$ for all the elements\n",
    "\n",
    "$$\n",
    "\\Delta' = \\frac{V_{\\text{ref}}B_{\\text{ref}}}{V_{\\text{AE}}B_{\\text{AE}}} \\Delta\n",
    "$$\n",
    "\n",
    "- $V^{\\text{ref}}=30 \\text{Bohr}$\n",
    "- $B^{\\text{ref}}=100\\text{GPa}$ \n",
    "\n",
    "are correspond approximatively to the mean values of $V_0$ and $B_0$ over the 71 unitary elements tested.\n",
    "\n",
    "### length of the vector measure\n",
    "We also defined the measure 'length of the vector' formed by the relative error of $V_0$, $B_0$, $B_1$\n",
    "\n",
    "In this page I choose prefactor ($B_0=\\frac{1}{8}$) and ($B_1=\\frac{1}{64}$).\n",
    "\n",
    "In order to compare the result with $\\Delta$ and $\\Delta'$, I multiply the result with prefactor $\\times 400$ so they are in the same order."
   ]
  },
  {
   "cell_type": "code",
   "execution_count": 7,
   "id": "0c4cfb6c",
   "metadata": {},
   "outputs": [
    {
     "data": {
      "application/vnd.jupyter.widget-view+json": {
       "model_id": "78ae6c40569145caabe3436585280feb",
       "version_major": 2,
       "version_minor": 0
      },
      "text/plain": [
       "PlotDeltaMeasureWidget(children=(Output(outputs=({'output_type': 'display_data', 'data': {'text/plain': '<Figu…"
      ]
     },
     "metadata": {},
     "output_type": "display_data"
    }
   ],
   "source": [
    "display(plot_delta_measure_widget)"
   ]
  },
  {
   "cell_type": "markdown",
   "id": "9161618e",
   "metadata": {},
   "source": [
    "## Summary of convergence verification \n",
    "\n",
    "The convergence criteria we use here is:\n",
    "- Cohesive energy: $E^{abs}_{coh} < 2.0 (\\text{meV/atom})$\n",
    "- Phonon frequencies: $\\delta \\bar{\\omega} < 1.0 (\\%)$\n",
    "- Pressure: $\\delta P < 0.5 (\\%)$"
   ]
  },
  {
   "cell_type": "code",
   "execution_count": null,
   "id": "4f93df3f",
   "metadata": {},
   "outputs": [],
   "source": [
    "from aiidalab_sssp.widgets import SummaryWidget\n",
    "\n",
    "summary_widget = SummaryWidget()\n",
    "ipw.dlink((pseudo_select_widget, 'selected_pseudos'), (summary_widget, 'selected_pseudos'))\n",
    "display(summary_widget)"
   ]
  },
  {
   "cell_type": "markdown",
   "id": "4eac76db",
   "metadata": {},
   "source": [
    "#### ⚠️ Notes:\n",
    "For wavefunction cutoff convergence verification, the charge density cutoff is fixed at $x_c^{rho}=200\\times d$, where $d=4$ for norm-converserving pseudopotentials and $d=8$ for ultra-soft and paw pseudopotentials. \n",
    "\n",
    "For charge density cutoff convergence verification, the wavefunction cutoff is fixed at converged value of wavefunction cutoff convergence test.\n",
    "\n",
    "The reference cutoff $(x_c^{wfc}, x_c^{rho})$ is set to $(200, 200\\times d)$ for both wavefunctian and charge density verifications.\n"
   ]
  },
  {
   "cell_type": "markdown",
   "id": "64db0364",
   "metadata": {},
   "source": [
    "## Cohesive energy (eV/atom)\n",
    "\n",
    "The cohesive energy $E_{\\text{coh}}$ is the energy gained by arranging the atoms in a crystalline state.\n",
    "\n",
    "$$\n",
    "    E_{\\text{coh}} = E_{\\text{bulk}} - E_{\\text{atom}}\n",
    "$$\n",
    "\n",
    "The different of cohesive energy with respect to reference is defined as:\n",
    "\n",
    "$$\n",
    "    \\delta E_{\\text{coh}} = E_{\\text{coh}}(x_c) - E_{\\text{coh}}(x_{ref})\n",
    "$$\n",
    "\n",
    "- $x_c$: the cutoff setting of sample point\n",
    "- $x_{ref}$: the cutoff setting of the reference point (the converged value), "
   ]
  },
  {
   "cell_type": "code",
   "execution_count": null,
   "id": "9a3034f5",
   "metadata": {},
   "outputs": [],
   "source": [
    "display(plot_cohesive_energy_converge_widget)"
   ]
  },
  {
   "cell_type": "markdown",
   "id": "80969308",
   "metadata": {},
   "source": [
    "## Cohesive energy error (eV/atom)\n",
    "\n",
    "The error of cohesive energy w.r.t converged reference cutoff (200 Ry for wavefunction cutoff) is defined as:\n",
    "\n",
    "$$\n",
    "    \\delta E_{\\text{coh}} = E_{\\text{coh}}(x_c) - E_{\\text{coh}}(x_{ref})\n",
    "$$\n",
    "\n",
    "- $x_c$: the cutoff setting of sample point\n",
    "- $x_{ref}$: the cutoff setting of the reference point (the converged value), "
   ]
  },
  {
   "cell_type": "code",
   "execution_count": 8,
   "id": "b6a7f447",
   "metadata": {},
   "outputs": [
    {
     "data": {
      "application/vnd.jupyter.widget-view+json": {
       "model_id": "fc03890806fb4a91b117f19611137858",
       "version_major": 2,
       "version_minor": 0
      },
      "text/plain": [
       "PlotCohesiveEnergyConvergeWidget(children=(Output(outputs=({'output_type': 'display_data', 'data': {'text/plai…"
      ]
     },
     "metadata": {},
     "output_type": "display_data"
    }
   ],
   "source": [
    "display(plot_cohesive_energy_converge_diff_widget)"
   ]
  },
  {
   "cell_type": "markdown",
   "id": "6953f51b",
   "metadata": {},
   "source": [
    "## Phonon frequencies absolute error ($cm^{-1}$)\n",
    "\n",
    "The absolute error of phonon frequencies w.r.t reference cutoff (200 Ry for wavefunction cutoff) is defined as:\n",
    "\n",
    "$$\n",
    "    \\delta \\bar{\\omega} = \n",
    "    \\sqrt{\\frac{1}{N} \\sum^N_{i=1} \\omega_i(x_c)-\\omega_i(x_{ref})}\n",
    "$$\n",
    "\n",
    "- $\\omega_i$: the frequencies of every modes. \n",
    "- N: the number of modes"
   ]
  },
  {
   "cell_type": "code",
   "execution_count": 9,
   "id": "eb6627d1",
   "metadata": {},
   "outputs": [
    {
     "data": {
      "application/vnd.jupyter.widget-view+json": {
       "model_id": "d1783574453d409ebba9c22ff9f57436",
       "version_major": 2,
       "version_minor": 0
      },
      "text/plain": [
       "PlotPhononFrequenciesConvergeWidget(children=(Output(outputs=({'output_type': 'display_data', 'data': {'text/p…"
      ]
     },
     "metadata": {},
     "output_type": "display_data"
    }
   ],
   "source": [
    "display(plot_phonon_frequencies_converge_abs_widget)"
   ]
  },
  {
   "cell_type": "markdown",
   "id": "67900745",
   "metadata": {},
   "source": [
    "## Phonon frequencies relative error (%)\n",
    "\n",
    "The relative error of phonon frequencies w.r.t reference cutoff (200 Ry for wavefunction cutoff) is defined as:\n",
    "\n",
    "$$\n",
    "    \\delta \\bar{\\omega} = \n",
    "    \\sqrt{\\frac{1}{N} \\sum^N_{i=1} \\left | \\frac{\\omega_i(x_c)-\\omega_i(x_{ref})}{\\omega_i(x_{ref})} \n",
    "    \\right|^2}\n",
    "$$\n",
    "\n",
    "- $\\omega_i$: the frequencies of every modes. \n",
    "- N: the number of modes"
   ]
  },
  {
   "cell_type": "code",
   "execution_count": null,
   "id": "8f582333",
   "metadata": {},
   "outputs": [],
   "source": [
    "display(plot_phonon_frequencies_converge_rel_widget)"
   ]
  },
  {
   "cell_type": "markdown",
   "id": "451f3604",
   "metadata": {},
   "source": [
    "## Pressure absolute error (GPa)\n",
    "\n",
    "The absolute error of pressure are complex defined w.r.t converged reference cutoff (200 Ry for wavefunction cutoff) is defined as:\n",
    "\n",
    "$$\n",
    "    \\delta P = P(x_c) - P(x_{ref})\n",
    "$$"
   ]
  },
  {
   "cell_type": "code",
   "execution_count": 10,
   "id": "c3e76bd6",
   "metadata": {},
   "outputs": [
    {
     "data": {
      "application/vnd.jupyter.widget-view+json": {
       "model_id": "56ab0dc1ada244eda837267b8e158011",
       "version_major": 2,
       "version_minor": 0
      },
      "text/plain": [
       "PlotPressureConvergeWidget(children=(Output(outputs=({'output_type': 'display_data', 'data': {'text/plain': '<…"
      ]
     },
     "metadata": {},
     "output_type": "display_data"
    }
   ],
   "source": [
    "display(plot_pressure_converge_widget)"
   ]
  },
  {
   "cell_type": "markdown",
   "id": "16b0d29c",
   "metadata": {},
   "source": [
    "## Pressure relative error (GPa)\n",
    "\n",
    "The relative error of pressure are complex defined in terms of volume difference where the volume is converted from the pressure difference of the cutoff setting and converged reference setting:\n",
    "\n",
    "$$\n",
    "    \\delta V = \\frac{V'-V_0}{V_0}\n",
    "$$\n",
    "\n",
    "- $V'$ is the deviation volume as the one closest to the equilibrium volume \n",
    "- $V_0$ is read from the converged reference (wave function cutoff 200Ry) Birch-Murnaghan fitting. \n",
    "\n",
    "$$P_\\text{BM}(V')=\\delta P$$ "
   ]
  },
  {
   "cell_type": "code",
   "execution_count": null,
   "id": "a252801d",
   "metadata": {},
   "outputs": [],
   "source": [
    "display(plot_pressure_converge_rel_widget)"
   ]
  },
  {
   "cell_type": "markdown",
   "id": "a10b573b",
   "metadata": {},
   "source": [
    "<!-- Search and filter the results of verifications through Materials Cloud SSSP API.\n",
    "\n",
    "User can also choose the protocol(critisize) to determine what kind of result they want to see, such as the precise one or the efficient one.\n",
    "\n",
    "download the https://www.materialscloud.org/mcloud/api/v2/discover/sssp/elements/Si\n",
    "\n",
    "The new API: https://app.swaggerhub.com/apis/unkcpz/mc-sssp/1.0.0 -->"
   ]
  },
  {
   "cell_type": "code",
   "execution_count": null,
   "id": "88ef89f4",
   "metadata": {},
   "outputs": [],
   "source": []
  },
  {
   "cell_type": "code",
   "execution_count": null,
   "id": "516a0e57",
   "metadata": {},
   "outputs": [],
   "source": []
  }
 ],
 "metadata": {
  "kernelspec": {
   "display_name": "Python 3 (ipykernel)",
   "language": "python",
   "name": "python3"
  },
  "language_info": {
   "codemirror_mode": {
    "name": "ipython",
    "version": 3
   },
   "file_extension": ".py",
   "mimetype": "text/x-python",
   "name": "python",
   "nbconvert_exporter": "python",
   "pygments_lexer": "ipython3",
   "version": "3.7.9"
  }
 },
 "nbformat": 4,
 "nbformat_minor": 5
}
