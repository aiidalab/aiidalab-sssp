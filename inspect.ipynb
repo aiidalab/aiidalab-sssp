{
 "cells": [
  {
   "cell_type": "code",
   "execution_count": 1,
   "id": "fe6d78c0",
   "metadata": {},
   "outputs": [],
   "source": [
    "%%javascript\n",
    "IPython.OutputArea.prototype._should_scroll = function(lines) {\n",
    "    return false;\n",
    "}\n",
    "document.title='AiiDAlab SSSP app'"
   ]
  },
  {
   "cell_type": "code",
   "execution_count": null,
   "id": "fcd02c89",
   "metadata": {},
   "outputs": [],
   "source": [
    "%matplotlib widget"
   ]
  },
  {
   "cell_type": "code",
   "execution_count": 2,
   "id": "ba9715ad",
   "metadata": {},
   "outputs": [
    {
     "data": {
      "application/javascript": "if (typeof require !== 'undefined')\n    require.config({\n        paths: {\n            jquery: 'https://code.jquery.com/jquery-3.5.1.min',\n            datatables: 'https://cdn.datatables.net/1.11.3/js/jquery.dataTables.min',\n        }\n    });\n",
      "text/plain": [
       "<IPython.core.display.Javascript object>"
      ]
     },
     "metadata": {},
     "output_type": "display_data"
    }
   ],
   "source": [
    "import ipywidgets as ipw\n",
    "from pathlib import Path\n",
    "from IPython.display import display\n",
    "import matplotlib.pyplot as plt\n",
    "\n",
    "from aiidalab_sssp.inspect.subwidgets.periodic_table import PeriodicTable\n",
    "from aiidalab_sssp.inspect.subwidgets.select import PseudoSelectWidget\n",
    "from aiidalab_sssp.inspect.subwidgets.summary import SummaryWidget\n",
    "from aiidalab_sssp.inspect.subwidgets.delta import NuMeasure, EosWidget\n",
    "from aiidalab_sssp.inspect.subwidgets.bands import BandStructureWidget, BandChessboard\n",
    "from aiidalab_sssp.inspect.subwidgets.convergence import ConvergenceWidget\n",
    "\n",
    "\n",
    "from aiidalab_sssp.inspect import DB_FOLDER\n",
    "\n",
    "# Show plot one time dynamical\n",
    "plt.ioff()\n",
    "\n",
    "# If cached DB folder not exist (first time app run), create folder\n",
    "DB_FOLDER.mkdir(parents=True, exist_ok=True)\n",
    "\n",
    "ptable = PeriodicTable(cache_folder=str(DB_FOLDER))\n",
    "pseudo_select = PseudoSelectWidget()\n",
    "summary = SummaryWidget()\n",
    "eos_preview = EosWidget()\n",
    "nu_preview = NuMeasure()\n",
    "bandchessboard = BandChessboard()\n",
    "convergence = ConvergenceWidget()\n",
    "bandstucture = BandStructureWidget()\n",
    "\n",
    "ipw.dlink(\n",
    "    (ptable, 'selected_element'), \n",
    "    (pseudo_select, 'element'),\n",
    ")\n",
    "ipw.dlink((pseudo_select, 'selected_pseudos'), (summary, 'pseudos'))\n",
    "ipw.dlink((pseudo_select, 'selected_pseudos'), (nu_preview, 'pseudos'))\n",
    "ipw.dlink((pseudo_select, 'selected_pseudos'), (eos_preview, 'pseudos'))\n",
    "ipw.dlink((pseudo_select, 'selected_pseudos'), (bandchessboard, 'pseudos'))\n",
    "ipw.dlink((pseudo_select, 'selected_pseudos'), (convergence, 'pseudos'))\n",
    "ipw.dlink((pseudo_select, 'selected_pseudos'), (bandstucture, 'pseudos'))\n",
    "\n",
    "display(ptable)\n",
    "display(pseudo_select)\n",
    "display(summary)\n",
    "display(nu_preview)\n",
    "display(eos_preview)\n",
    "display(bandchessboard)\n",
    "display(bandstucture)\n",
    "display(convergence)"
   ]
  }
 ],
 "metadata": {
  "interpreter": {
   "hash": "d4d1e4263499bec80672ea0156c357c1ee493ec2b1c70f0acce89fc37c4a6abe"
  },
  "kernelspec": {
   "display_name": "Python 3 (ipykernel)",
   "language": "python",
   "name": "python3"
  },
  "language_info": {
   "codemirror_mode": {
    "name": "ipython",
    "version": 3
   },
   "file_extension": ".py",
   "mimetype": "text/x-python",
   "name": "python",
   "nbconvert_exporter": "python",
   "pygments_lexer": "ipython3",
   "version": "3.7.9"
  }
 },
 "nbformat": 4,
 "nbformat_minor": 5
}
