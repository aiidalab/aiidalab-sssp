{
 "cells": [
  {
   "cell_type": "markdown",
   "id": "10b9a94c",
   "metadata": {},
   "source": [
    "This notebook is used to inspect the verification results running by and only by this kernel user. The user will see all the verification results and will be able to compare the results with the 'standard' library where the pseudopotentials verifications run and already uploaded to Materials Cloud SSSP database.\n",
    "\n",
    "User can choose his finished verification running process and inspect the outputs by using `WorkChainSelector`. "
   ]
  },
  {
   "cell_type": "code",
   "execution_count": null,
   "id": "07b08994",
   "metadata": {},
   "outputs": [],
   "source": [
    "%%javascript\n",
    "IPython.OutputArea.prototype._should_scroll = function(lines) {\n",
    "    return false;\n",
    "}"
   ]
  },
  {
   "cell_type": "code",
   "execution_count": 1,
   "id": "a1aa37d3",
   "metadata": {},
   "outputs": [],
   "source": [
    "import os\n",
    "import json\n",
    "\n",
    "import ipywidgets as widgets\n",
    "from widget_periodictable import PTableWidget\n",
    "from ipywidgets import Layout"
   ]
  },
  {
   "cell_type": "code",
   "execution_count": 2,
   "id": "718dd4bc",
   "metadata": {},
   "outputs": [
    {
     "data": {
      "application/vnd.jupyter.widget-view+json": {
       "model_id": "85a43c913ae84b329832d60e4014eaae",
       "version_major": 2,
       "version_minor": 0
      },
      "text/plain": [
       "PTableWidget(allElements=['H', 'He', 'Li', 'Be', 'B', 'C', 'N', 'O', 'F', 'Ne', 'Na', 'Mg', 'Al', 'Si', 'P', '…"
      ]
     },
     "metadata": {},
     "output_type": "display_data"
    }
   ],
   "source": [
    "# the mock db is a folder which contains pseudos in the sub-folders named by element seprately.\n",
    "# This should be some lightweight database constructed from SSSP web page and local-run aiida postgresql database \n",
    "sssp_db = './data_mock_sssp/'\n",
    "local_db = './data_mock_local/'\n",
    "\n",
    "enable_elements = [e for e in os.listdir(sssp_db) if not e.startswith('.')] + [e for e in os.listdir(local_db) if not e.startswith('.')]\n",
    "\n",
    "sssp_pseudos = {}\n",
    "local_pseudos = {}\n",
    "\n",
    "for e in enable_elements:\n",
    "    parent_folder = os.path.join(sssp_db, e)\n",
    "    l = os.listdir(parent_folder)\n",
    "    sssp_pseudos[e] = [os.path.join(parent_folder, f) for f in l]\n",
    "    \n",
    "for e in enable_elements:\n",
    "    parent_folder = os.path.join(local_db, e)\n",
    "    l = os.listdir(parent_folder)\n",
    "    local_pseudos[e] = [os.path.join(parent_folder, f) for f in l]\n",
    "    \n",
    "# Show the widget\n",
    "ptwidget = PTableWidget(states = 1,\n",
    "                      selected_colors = ['royalblue'], \n",
    "                      unselected_color='cornflowerblue', border_color = 'black', width = '20px')\n",
    "\n",
    "disable_elements = [e for e in ptwidget.allElements if e not in enable_elements]\n",
    "ptwidget.disabled_elements = disable_elements\n",
    "display(ptwidget)"
   ]
  },
  {
   "cell_type": "code",
   "execution_count": 3,
   "id": "74a88915",
   "metadata": {},
   "outputs": [
    {
     "data": {
      "text/plain": [
       "['Au', 'Si', 'Au', 'Si']"
      ]
     },
     "execution_count": 3,
     "metadata": {},
     "output_type": "execute_result"
    }
   ],
   "source": [
    "enable_elements"
   ]
  },
  {
   "cell_type": "code",
   "execution_count": 4,
   "id": "75c63eda",
   "metadata": {},
   "outputs": [
    {
     "data": {
      "text/plain": [
       "{'Au': ['./data_mock_sssp/Au/Au_sg15_v1.0.json',\n",
       "  './data_mock_sssp/Au/Au_sg15_v1.2.json',\n",
       "  './data_mock_sssp/Au/Au_us_gbrv_v1.json'],\n",
       " 'Si': ['./data_mock_sssp/Si/Si_us_gbrv_v1.0.json',\n",
       "  './data_mock_sssp/Si/Si_nc_sg15_v1.1.json',\n",
       "  './data_mock_sssp/Si/Si_paw_psl_v1.0_high.json']}"
      ]
     },
     "execution_count": 4,
     "metadata": {},
     "output_type": "execute_result"
    }
   ],
   "source": [
    "sssp_pseudos"
   ]
  },
  {
   "cell_type": "code",
   "execution_count": 5,
   "id": "eb91e6be",
   "metadata": {},
   "outputs": [
    {
     "data": {
      "text/plain": [
       "{'Au': [],\n",
       " 'Si': ['./data_mock_local/Si/Si_nc_sg15_v1.2.json',\n",
       "  './data_mock_local/Si/Si_us_psl_v1.0_high.json',\n",
       "  './data_mock_local/Si/Si_nc_sg15_v1.0.json']}"
      ]
     },
     "execution_count": 5,
     "metadata": {},
     "output_type": "execute_result"
    }
   ],
   "source": [
    "local_pseudos"
   ]
  },
  {
   "cell_type": "code",
   "execution_count": 6,
   "id": "6c377ab0",
   "metadata": {},
   "outputs": [
    {
     "data": {
      "text/plain": [
       "{}"
      ]
     },
     "execution_count": 6,
     "metadata": {},
     "output_type": "execute_result"
    }
   ],
   "source": [
    "ptwidget.selected_elements"
   ]
  },
  {
   "cell_type": "code",
   "execution_count": 7,
   "id": "3f92fa37",
   "metadata": {
    "scrolled": true
   },
   "outputs": [
    {
     "data": {
      "application/vnd.jupyter.widget-view+json": {
       "model_id": "9f45a04e0a20469ea95aec769115c025",
       "version_major": 2,
       "version_minor": 0
      },
      "text/plain": [
       "PseudoDBToggleWidget(children=(HBox(children=(ToggleButton(value=False, description='SSSP Database', tooltip='…"
      ]
     },
     "metadata": {},
     "output_type": "display_data"
    }
   ],
   "source": [
    "import traitlets\n",
    "\n",
    "class PseudoDBToggleWidget(widgets.VBox):\n",
    "    \n",
    "    sssp = traitlets.Bool()\n",
    "    local = traitlets.Bool()\n",
    "    \n",
    "    def __init__(self):\n",
    "        sssp_db_toggle = widgets.ToggleButton(\n",
    "            value=False,\n",
    "            description='SSSP Database',\n",
    "            disabled=False,\n",
    "            tooltip='Toggle for SSSP database.',\n",
    "        )\n",
    "\n",
    "        local_db_toggle = widgets.ToggleButton(\n",
    "            value=False,\n",
    "            description='Local Database',\n",
    "            disabled=False,\n",
    "            tooltip='Toggle for Local database.',\n",
    "        )\n",
    "        \n",
    "        sssp_db_toggle.observe(self._sssp_db_toggle, 'value')\n",
    "        local_db_toggle.observe(self._local_db_toggle, 'value')\n",
    "\n",
    "        db_choice_widget = widgets.HBox(children=[sssp_db_toggle, local_db_toggle])\n",
    "        \n",
    "        super().__init__(\n",
    "            children=[\n",
    "                db_choice_widget,\n",
    "            ]\n",
    "        )\n",
    "        \n",
    "    def _sssp_db_toggle(self, change):\n",
    "        self.sssp = change['new']\n",
    "        \n",
    "    def _local_db_toggle(self, change):\n",
    "        self.local = change['new']\n",
    "        \n",
    "pseudo_db = PseudoDBToggleWidget()\n",
    "display(pseudo_db)"
   ]
  },
  {
   "cell_type": "code",
   "execution_count": 8,
   "id": "efa38d49",
   "metadata": {},
   "outputs": [
    {
     "data": {
      "text/plain": [
       "False"
      ]
     },
     "execution_count": 8,
     "metadata": {},
     "output_type": "execute_result"
    }
   ],
   "source": [
    "pseudo_db.local"
   ]
  },
  {
   "cell_type": "code",
   "execution_count": 9,
   "id": "4b093615",
   "metadata": {},
   "outputs": [],
   "source": [
    "class PseudoChooseWidget(widgets.VBox):\n",
    "    \n",
    "    sssp_list = traitlets.List()\n",
    "    local_list = traitlets.List()\n",
    "    \n",
    "    output_pseudo_list = traitlets.List()\n",
    "    \n",
    "    def __init__(self):\n",
    "        \n",
    "        self.out_sssp = []\n",
    "        self.out_local = []\n",
    "        \n",
    "        self.sssp = widgets.SelectMultiple(\n",
    "            options=self.sssp_list,\n",
    "            description='SSSP Database',\n",
    "            disabled=False,\n",
    "        )\n",
    "        \n",
    "        self.sssp.observe(self._update_sssp, 'value')\n",
    "        \n",
    "        self.local = widgets.SelectMultiple(\n",
    "            options=self.local_list,\n",
    "            description='Local Database',\n",
    "            disabled=False,\n",
    "        )\n",
    "        \n",
    "        self.local.observe(self._update_local, 'value')\n",
    "        \n",
    "        super().__init__(\n",
    "            children=[\n",
    "                self.sssp,\n",
    "                self.local,\n",
    "            ]\n",
    "        )\n",
    "        \n",
    "    @traitlets.observe('sssp_list')\n",
    "    def _observe_sssp_list(self, change):\n",
    "        if change['new']:\n",
    "            self.sssp.options = change['new']\n",
    "            \n",
    "    @traitlets.observe('local_list')\n",
    "    def _observe_local_list(self, change):\n",
    "        if change['new']:\n",
    "            self.local.options = change['new']\n",
    "            \n",
    "    def _update_sssp(self, change):\n",
    "        self.out_sssp = list(change['new'])\n",
    "        \n",
    "        self.output_pseudo_list = self.out_sssp + self.out_local\n",
    "        \n",
    "    def _update_local(self, change):\n",
    "        self.out_local = list(change['new'])\n",
    "        \n",
    "        self.output_pseudo_list = self.out_sssp + self.out_local"
   ]
  },
  {
   "cell_type": "code",
   "execution_count": 10,
   "id": "67cf741f",
   "metadata": {},
   "outputs": [],
   "source": [
    "pcw = PseudoChooseWidget()"
   ]
  },
  {
   "cell_type": "code",
   "execution_count": 11,
   "id": "747673a4",
   "metadata": {},
   "outputs": [
    {
     "data": {
      "application/vnd.jupyter.widget-view+json": {
       "model_id": "af902e35590d4423b6608b62112323dd",
       "version_major": 2,
       "version_minor": 0
      },
      "text/plain": [
       "Button(description='Confirm', style=ButtonStyle())"
      ]
     },
     "metadata": {},
     "output_type": "display_data"
    },
    {
     "data": {
      "application/vnd.jupyter.widget-view+json": {
       "model_id": "f20016bece2c4702803676684cd644cf",
       "version_major": 2,
       "version_minor": 0
      },
      "text/plain": [
       "Output()"
      ]
     },
     "metadata": {},
     "output_type": "display_data"
    }
   ],
   "source": [
    "confirm_button = widgets.Button(\n",
    "    description='Confirm',\n",
    ")\n",
    "output = widgets.Output()\n",
    "\n",
    "display(confirm_button, output)\n",
    "\n",
    "def _on_confirm_clicked(b):\n",
    "    element = list(ptwidget.selected_elements.keys())[0]\n",
    "    # search sssp db and local db for given element\n",
    "    if pseudo_db.sssp:\n",
    "        pcw.sssp_list = sssp_pseudos[element]\n",
    "    else:\n",
    "        pcw.sssp_list = []\n",
    "\n",
    "    if pseudo_db.local:\n",
    "        pcw.local_list = local_pseudos[element]\n",
    "    else:\n",
    "        pcw.local_list = []\n",
    "    \n",
    "confirm_button.on_click(_on_confirm_clicked)"
   ]
  },
  {
   "cell_type": "code",
   "execution_count": 12,
   "id": "c22ea948",
   "metadata": {},
   "outputs": [
    {
     "data": {
      "application/vnd.jupyter.widget-view+json": {
       "model_id": "8cf16f79d9964ddaa053016b5fc34e0c",
       "version_major": 2,
       "version_minor": 0
      },
      "text/plain": [
       "PseudoChooseWidget(children=(SelectMultiple(description='SSSP Database', options=(), value=()), SelectMultiple…"
      ]
     },
     "metadata": {},
     "output_type": "display_data"
    },
    {
     "name": "stdout",
     "output_type": "stream",
     "text": [
      "[5.928629517208, 5.9286099081018, 3.0734163139081, 5.4790266075018]\n",
      "[5.928629517208, 5.9286099081018, 3.0734163139081, 5.4790266075018]\n",
      "[5.928629517208, 5.9286099081018, 5.4790266075018]\n",
      "[5.928629517208, 5.9286099081018, 5.4790266075018]\n",
      "[5.928629517208, 5.9286099081018, 3.0734163139081, 5.4790266075018]\n",
      "[5.928629517208, 5.9286099081018, 3.0734163139081, 5.4790266075018]\n",
      "[2.0896692104089, 5.928629517208, 5.9286099081018, 3.0734163139081, 5.4790266075018]\n",
      "[2.0896692104089, 5.928629517208, 5.9286099081018, 3.0734163139081, 5.4790266075018]\n",
      "[2.0896692104089, 5.928629517208, 2.9863598770637, 5.9286099081018, 3.0734163139081, 5.4790266075018]\n",
      "[2.0896692104089, 5.928629517208, 2.9863598770637, 5.9286099081018, 3.0734163139081, 5.4790266075018]\n",
      "[2.9863598770637, 5.9286099081018, 3.0734163139081, 5.4790266075018]\n",
      "Histogram({\n",
      "    'x': [./data_mock_sssp/Si/Si_paw_psl_v1.0_high.json,\n",
      "          ./data_mock_local/Si/Si_nc_sg15_v1.2.json,\n",
      "          ./data_mock_local/Si/Si_us_psl_v1.0_high.json,\n",
      "          ./data_mock_local/Si/Si_nc_sg15_v1.0.json],\n",
      "    'y': [2.9863598770637, 5.9286099081018, 3.0734163139081, 5.4790266075018]\n",
      "})\n",
      "[2.9863598770637, 5.9286099081018, 3.0734163139081, 5.4790266075018]\n",
      "Histogram({\n",
      "    'x': [./data_mock_sssp/Si/Si_paw_psl_v1.0_high.json,\n",
      "          ./data_mock_local/Si/Si_nc_sg15_v1.2.json,\n",
      "          ./data_mock_local/Si/Si_us_psl_v1.0_high.json,\n",
      "          ./data_mock_local/Si/Si_nc_sg15_v1.0.json],\n",
      "    'y': [2.9863598770637, 5.9286099081018, 3.0734163139081, 5.4790266075018]\n",
      "})\n",
      "[5.928629517208, 5.9286099081018, 3.0734163139081, 5.4790266075018]\n",
      "Histogram({\n",
      "    'x': [./data_mock_sssp/Si/Si_nc_sg15_v1.1.json,\n",
      "          ./data_mock_local/Si/Si_nc_sg15_v1.2.json,\n",
      "          ./data_mock_local/Si/Si_us_psl_v1.0_high.json,\n",
      "          ./data_mock_local/Si/Si_nc_sg15_v1.0.json],\n",
      "    'y': [5.928629517208, 5.9286099081018, 3.0734163139081, 5.4790266075018]\n",
      "})\n",
      "[5.928629517208, 5.9286099081018, 3.0734163139081, 5.4790266075018]\n",
      "Histogram({\n",
      "    'x': [./data_mock_sssp/Si/Si_nc_sg15_v1.1.json,\n",
      "          ./data_mock_local/Si/Si_nc_sg15_v1.2.json,\n",
      "          ./data_mock_local/Si/Si_us_psl_v1.0_high.json,\n",
      "          ./data_mock_local/Si/Si_nc_sg15_v1.0.json],\n",
      "    'y': [5.928629517208, 5.9286099081018, 3.0734163139081, 5.4790266075018]\n",
      "})\n",
      "Bar({\n",
      "    'x': [./data_mock_sssp/Si/Si_nc_sg15_v1.1.json,\n",
      "          ./data_mock_local/Si/Si_us_psl_v1.0_high.json],\n",
      "    'y': [5.928629517208, 3.0734163139081]\n",
      "})\n",
      "Bar({\n",
      "    'x': [./data_mock_sssp/Si/Si_nc_sg15_v1.1.json,\n",
      "          ./data_mock_local/Si/Si_us_psl_v1.0_high.json],\n",
      "    'y': [5.928629517208, 3.0734163139081]\n",
      "})\n",
      "Bar({\n",
      "    'x': [./data_mock_sssp/Si/Si_nc_sg15_v1.1.json,\n",
      "          ./data_mock_local/Si/Si_us_psl_v1.0_high.json],\n",
      "    'y': [5.928629517208, 3.0734163139081]\n",
      "})\n",
      "Bar({\n",
      "    'x': [./data_mock_sssp/Si/Si_nc_sg15_v1.1.json,\n",
      "          ./data_mock_local/Si/Si_nc_sg15_v1.2.json],\n",
      "    'y': [5.928629517208, 5.9286099081018]\n",
      "})\n",
      "Bar({\n",
      "    'x': [./data_mock_sssp/Si/Si_nc_sg15_v1.1.json,\n",
      "          ./data_mock_local/Si/Si_nc_sg15_v1.2.json],\n",
      "    'y': [5.928629517208, 5.9286099081018]\n",
      "})\n",
      "Bar({\n",
      "    'x': [./data_mock_sssp/Si/Si_nc_sg15_v1.1.json,\n",
      "          ./data_mock_local/Si/Si_nc_sg15_v1.2.json],\n",
      "    'y': [5.928629517208, 5.9286099081018]\n",
      "})\n",
      "Bar({\n",
      "    'x': [./data_mock_sssp/Si/Si_nc_sg15_v1.1.json,\n",
      "          ./data_mock_local/Si/Si_nc_sg15_v1.2.json,\n",
      "          ./data_mock_local/Si/Si_us_psl_v1.0_high.json,\n",
      "          ./data_mock_local/Si/Si_nc_sg15_v1.0.json],\n",
      "    'y': [5.928629517208, 5.9286099081018, 3.0734163139081, 5.4790266075018]\n",
      "})\n",
      "Bar({\n",
      "    'x': [./data_mock_sssp/Si/Si_nc_sg15_v1.1.json,\n",
      "          ./data_mock_local/Si/Si_nc_sg15_v1.2.json,\n",
      "          ./data_mock_local/Si/Si_us_psl_v1.0_high.json,\n",
      "          ./data_mock_local/Si/Si_nc_sg15_v1.0.json],\n",
      "    'y': [5.928629517208, 5.9286099081018, 3.0734163139081, 5.4790266075018]\n",
      "})\n",
      "Bar({\n",
      "    'x': [./data_mock_sssp/Si/Si_nc_sg15_v1.1.json,\n",
      "          ./data_mock_local/Si/Si_nc_sg15_v1.2.json,\n",
      "          ./data_mock_local/Si/Si_us_psl_v1.0_high.json,\n",
      "          ./data_mock_local/Si/Si_nc_sg15_v1.0.json],\n",
      "    'y': [5.928629517208, 5.9286099081018, 3.0734163139081, 5.4790266075018]\n",
      "})\n",
      "Bar({\n",
      "    'x': [./data_mock_sssp/Si/Si_us_gbrv_v1.0.json,\n",
      "          ./data_mock_local/Si/Si_nc_sg15_v1.2.json,\n",
      "          ./data_mock_local/Si/Si_us_psl_v1.0_high.json,\n",
      "          ./data_mock_local/Si/Si_nc_sg15_v1.0.json],\n",
      "    'y': [2.0896692104089, 5.9286099081018, 3.0734163139081, 5.4790266075018]\n",
      "})\n",
      "Bar({\n",
      "    'x': [./data_mock_sssp/Si/Si_us_gbrv_v1.0.json,\n",
      "          ./data_mock_local/Si/Si_nc_sg15_v1.2.json,\n",
      "          ./data_mock_local/Si/Si_us_psl_v1.0_high.json,\n",
      "          ./data_mock_local/Si/Si_nc_sg15_v1.0.json],\n",
      "    'y': [2.0896692104089, 5.9286099081018, 3.0734163139081, 5.4790266075018]\n",
      "})\n",
      "Bar({\n",
      "    'x': [./data_mock_sssp/Si/Si_us_gbrv_v1.0.json,\n",
      "          ./data_mock_local/Si/Si_nc_sg15_v1.2.json,\n",
      "          ./data_mock_local/Si/Si_us_psl_v1.0_high.json,\n",
      "          ./data_mock_local/Si/Si_nc_sg15_v1.0.json],\n",
      "    'y': [2.0896692104089, 5.9286099081018, 3.0734163139081, 5.4790266075018]\n",
      "})\n",
      "Bar({\n",
      "    'x': [./data_mock_sssp/Si/Si_us_gbrv_v1.0.json,\n",
      "          ./data_mock_sssp/Si/Si_nc_sg15_v1.1.json,\n",
      "          ./data_mock_local/Si/Si_nc_sg15_v1.2.json,\n",
      "          ./data_mock_local/Si/Si_us_psl_v1.0_high.json,\n",
      "          ./data_mock_local/Si/Si_nc_sg15_v1.0.json],\n",
      "    'y': [2.0896692104089, 5.928629517208, 5.9286099081018, 3.0734163139081,\n",
      "          5.4790266075018]\n",
      "})\n",
      "Bar({\n",
      "    'x': [./data_mock_sssp/Si/Si_us_gbrv_v1.0.json,\n",
      "          ./data_mock_sssp/Si/Si_nc_sg15_v1.1.json,\n",
      "          ./data_mock_local/Si/Si_nc_sg15_v1.2.json,\n",
      "          ./data_mock_local/Si/Si_us_psl_v1.0_high.json,\n",
      "          ./data_mock_local/Si/Si_nc_sg15_v1.0.json],\n",
      "    'y': [2.0896692104089, 5.928629517208, 5.9286099081018, 3.0734163139081,\n",
      "          5.4790266075018]\n",
      "})\n",
      "Bar({\n",
      "    'x': [./data_mock_sssp/Si/Si_us_gbrv_v1.0.json,\n",
      "          ./data_mock_sssp/Si/Si_nc_sg15_v1.1.json,\n",
      "          ./data_mock_local/Si/Si_nc_sg15_v1.2.json,\n",
      "          ./data_mock_local/Si/Si_us_psl_v1.0_high.json,\n",
      "          ./data_mock_local/Si/Si_nc_sg15_v1.0.json],\n",
      "    'y': [2.0896692104089, 5.928629517208, 5.9286099081018, 3.0734163139081,\n",
      "          5.4790266075018]\n",
      "})\n",
      "Bar({\n",
      "    'x': [./data_mock_sssp/Si/Si_us_gbrv_v1.0.json,\n",
      "          ./data_mock_sssp/Si/Si_nc_sg15_v1.1.json,\n",
      "          ./data_mock_sssp/Si/Si_paw_psl_v1.0_high.json,\n",
      "          ./data_mock_local/Si/Si_nc_sg15_v1.2.json,\n",
      "          ./data_mock_local/Si/Si_us_psl_v1.0_high.json,\n",
      "          ./data_mock_local/Si/Si_nc_sg15_v1.0.json],\n",
      "    'y': [2.0896692104089, 5.928629517208, 2.9863598770637, 5.9286099081018,\n",
      "          3.0734163139081, 5.4790266075018]\n",
      "})\n",
      "Bar({\n",
      "    'x': [./data_mock_sssp/Si/Si_us_gbrv_v1.0.json,\n",
      "          ./data_mock_sssp/Si/Si_nc_sg15_v1.1.json,\n",
      "          ./data_mock_sssp/Si/Si_paw_psl_v1.0_high.json,\n",
      "          ./data_mock_local/Si/Si_nc_sg15_v1.2.json,\n",
      "          ./data_mock_local/Si/Si_us_psl_v1.0_high.json,\n",
      "          ./data_mock_local/Si/Si_nc_sg15_v1.0.json],\n",
      "    'y': [2.0896692104089, 5.928629517208, 2.9863598770637, 5.9286099081018,\n",
      "          3.0734163139081, 5.4790266075018]\n",
      "})\n",
      "Bar({\n",
      "    'x': [./data_mock_sssp/Si/Si_us_gbrv_v1.0.json,\n",
      "          ./data_mock_sssp/Si/Si_nc_sg15_v1.1.json,\n",
      "          ./data_mock_sssp/Si/Si_paw_psl_v1.0_high.json,\n",
      "          ./data_mock_local/Si/Si_nc_sg15_v1.2.json,\n",
      "          ./data_mock_local/Si/Si_us_psl_v1.0_high.json,\n",
      "          ./data_mock_local/Si/Si_nc_sg15_v1.0.json],\n",
      "    'y': [2.0896692104089, 5.928629517208, 2.9863598770637, 5.9286099081018,\n",
      "          3.0734163139081, 5.4790266075018]\n",
      "})\n"
     ]
    }
   ],
   "source": [
    "display(pcw)"
   ]
  },
  {
   "cell_type": "code",
   "execution_count": 26,
   "id": "3ca1b5bc",
   "metadata": {
    "scrolled": true
   },
   "outputs": [
    {
     "data": {
      "text/plain": [
       "['./data_mock_sssp/Si/Si_nc_sg15_v1.1.json',\n",
       " './data_mock_local/Si/Si_nc_sg15_v1.2.json',\n",
       " './data_mock_local/Si/Si_us_psl_v1.0_high.json',\n",
       " './data_mock_local/Si/Si_nc_sg15_v1.0.json']"
      ]
     },
     "execution_count": 26,
     "metadata": {},
     "output_type": "execute_result"
    }
   ],
   "source": [
    "pcw.output_pseudo_list"
   ]
  },
  {
   "cell_type": "code",
   "execution_count": 14,
   "id": "489dd43c",
   "metadata": {},
   "outputs": [],
   "source": [
    "import plotly.graph_objects as go"
   ]
  },
  {
   "cell_type": "code",
   "execution_count": 15,
   "id": "c7f13fbe",
   "metadata": {},
   "outputs": [],
   "source": [
    "def plot_convergence(property_name, dataset):\n",
    "    traces = []\n",
    "\n",
    "    for fname in dataset:\n",
    "        with open(fname, 'rb') as f:\n",
    "            p = json.load(f)\n",
    "\n",
    "        co = p[property_name]['output_parameters']\n",
    "        traces.append(go.Scatter(x=co['ecutwfc'], y=co['relative_diff'],\n",
    "                            mode='lines+markers',\n",
    "                            name=os.path.basename(fname)))\n",
    "\n",
    "    return traces"
   ]
  },
  {
   "cell_type": "code",
   "execution_count": 45,
   "id": "590763bb",
   "metadata": {},
   "outputs": [],
   "source": [
    "def plot_delta_hist(dataset):\n",
    "    \n",
    "    pp_name = []\n",
    "    pp_delta = []\n",
    "    for fname in dataset:\n",
    "        with open(fname, 'rb') as f:\n",
    "            p = json.load(f)\n",
    "            \n",
    "            pp_delta.append(p['delta_factor']['output_delta_factor']['delta'])\n",
    "            pp_name.append(fname)\n",
    "        \n",
    "    trace = go.Bar(x=pp_name, y=pp_delta)\n",
    "    return trace"
   ]
  },
  {
   "cell_type": "code",
   "execution_count": 48,
   "id": "719af1ea",
   "metadata": {},
   "outputs": [],
   "source": [
    "g0 = go.FigureWidget(data=[],\n",
    "                   layout=go.Layout(\n",
    "                       title='Delta Factor',\n",
    "                       xaxis_title='pseudos',\n",
    "                       yaxis_title='delta',\n",
    "                   ))\n",
    "\n",
    "g1 = go.FigureWidget(data=[],\n",
    "                   layout=go.Layout(\n",
    "                       title='Cohesive',\n",
    "                       xaxis_title='ecutwfc',\n",
    "                       yaxis_title='relative diff(%)',\n",
    "                   ))\n",
    "\n",
    "g2 = go.FigureWidget(data=[],\n",
    "                   layout=go.Layout(\n",
    "                       title='Phonon',\n",
    "                       xaxis_title='ecutwfc',\n",
    "                       yaxis_title='relative diff(%)',\n",
    "                   ))\n",
    "\n",
    "g3 = go.FigureWidget(data=[],\n",
    "                   layout=go.Layout(\n",
    "                       title='Pressure',\n",
    "                       xaxis_title='ecutwfc',\n",
    "                       yaxis_title='relative diff(%)',\n",
    "                   ))"
   ]
  },
  {
   "cell_type": "code",
   "execution_count": 49,
   "id": "b5318e1f",
   "metadata": {},
   "outputs": [],
   "source": [
    "def response(change):\n",
    "    with g0.batch_update():\n",
    "        g0.data = []\n",
    "        g0.add_trace(plot_delta_hist(change['new']))\n",
    "        \n",
    "    with g1.batch_update():\n",
    "        g1.data = []\n",
    "        g1.add_traces(plot_convergence('convergence_cohesive_energy', change['new']))\n",
    "        \n",
    "    with g2.batch_update():\n",
    "        g2.data = []\n",
    "        g2.add_traces(plot_convergence('convergence_phonon_frequencies', change['new']))\n",
    "        \n",
    "    with g3.batch_update():\n",
    "        g3.data = []\n",
    "        g3.add_traces(plot_convergence('convergence_pressure', change['new']))\n",
    "\n",
    "pcw.observe(response, names='output_pseudo_list')"
   ]
  },
  {
   "cell_type": "code",
   "execution_count": 51,
   "id": "36a15a3d",
   "metadata": {
    "scrolled": false
   },
   "outputs": [
    {
     "data": {
      "application/vnd.jupyter.widget-view+json": {
       "model_id": "6a58d48519dc41a78041530619f704da",
       "version_major": 2,
       "version_minor": 0
      },
      "text/plain": [
       "VBox(children=(FigureWidget({\n",
       "    'data': [],\n",
       "    'layout': {'template': '...',\n",
       "               'title': {'text…"
      ]
     },
     "metadata": {},
     "output_type": "display_data"
    }
   ],
   "source": [
    "widgets.VBox([g0, g1, g2, g3])"
   ]
  },
  {
   "cell_type": "markdown",
   "id": "a10b573b",
   "metadata": {},
   "source": [
    "Search and filter the results of verifications through Materials Cloud SSSP API.\n",
    "\n",
    "User can also choose the protocol(critisize) to determine what kind of result they want to see, such as the precise one or the efficient one.\n",
    "\n",
    "download the https://www.materialscloud.org/mcloud/api/v2/discover/sssp/elements/Si\n",
    "\n",
    "The new API: https://app.swaggerhub.com/apis/unkcpz/mc-sssp/1.0.0"
   ]
  },
  {
   "cell_type": "code",
   "execution_count": null,
   "id": "0fc40e0e",
   "metadata": {},
   "outputs": [],
   "source": []
  },
  {
   "cell_type": "code",
   "execution_count": null,
   "id": "73487713",
   "metadata": {},
   "outputs": [],
   "source": []
  }
 ],
 "metadata": {
  "kernelspec": {
   "display_name": "Python 3 (ipykernel)",
   "language": "python",
   "name": "python3"
  },
  "language_info": {
   "codemirror_mode": {
    "name": "ipython",
    "version": 3
   },
   "file_extension": ".py",
   "mimetype": "text/x-python",
   "name": "python",
   "nbconvert_exporter": "python",
   "pygments_lexer": "ipython3",
   "version": "3.7.9"
  }
 },
 "nbformat": 4,
 "nbformat_minor": 5
}
