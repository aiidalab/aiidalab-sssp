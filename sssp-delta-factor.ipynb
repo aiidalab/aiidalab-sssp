{
 "cells": [
  {
   "cell_type": "code",
   "execution_count": 1,
   "metadata": {},
   "outputs": [
    {
     "data": {
      "application/json": {
       "current_state": "Loaded AiiDA DB environment - profile name: default."
      },
      "text/html": [
       "<p>Loaded AiiDA DB environment - profile name: default.</p>"
      ],
      "text/latex": [
       "Loaded AiiDA DB environment - profile name: default.\n"
      ],
      "text/plain": [
       "Loaded AiiDA DB environment - profile name: default.\n"
      ]
     },
     "execution_count": 1,
     "metadata": {},
     "output_type": "execute_result"
    }
   ],
   "source": [
    "%aiida"
   ]
  },
  {
   "cell_type": "code",
   "execution_count": 3,
   "metadata": {},
   "outputs": [
    {
     "name": "stdout",
     "output_type": "stream",
     "text": [
      "######################################\n",
      "### Doing initial one-time install ###\n",
      "Defaulting to user installation because normal site-packages is not writeable\n",
      "Processing /home/aiida/apps/aiidalab-sssp\n",
      "\u001b[33m  DEPRECATION: A future pip version will change local packages to be built in-place without first copying to a temporary directory. We recommend you use --use-feature=in-tree-build to test your packages with this new behavior before it becomes the default.\n",
      "   pip 21.3 will remove support for this functionality. You can find discussion regarding this at https://github.com/pypa/pip/issues/7555.\u001b[0m\n",
      "  Installing build dependencies ... \u001b[?25ldone\n",
      "\u001b[?25h  Getting requirements to build wheel ... \u001b[?25ldone\n",
      "\u001b[?25h    Preparing wheel metadata ... \u001b[?25ldone\n",
      "\u001b[?25hCollecting aiida-sssp-workflow==0.2.0a0\n",
      "  Downloading aiida_sssp_workflow-0.2.0a0-cp37-cp37m-manylinux_2_17_x86_64.manylinux2014_x86_64.whl (1.8 MB)\n",
      "\u001b[K     |████████████████████████████████| 1.8 MB 6.3 MB/s eta 0:00:01\n",
      "\u001b[?25hRequirement already satisfied: ase~=3.20 in /home/aiida/.local/lib/python3.7/site-packages (from aiida-sssp-workflow==0.2.0a0->aiidalab-sssp==0.1a0) (3.22.0)\n",
      "Requirement already satisfied: seekpath~=1.9 in /opt/conda/lib/python3.7/site-packages (from aiida-sssp-workflow==0.2.0a0->aiidalab-sssp==0.1a0) (1.9.7)\n",
      "Requirement already satisfied: voluptuous in /opt/conda/lib/python3.7/site-packages (from aiida-sssp-workflow==0.2.0a0->aiidalab-sssp==0.1a0) (0.12.1)\n",
      "Requirement already satisfied: aiida-optimize~=0.4 in /opt/conda/lib/python3.7/site-packages (from aiida-sssp-workflow==0.2.0a0->aiidalab-sssp==0.1a0) (0.4.0)\n",
      "Requirement already satisfied: numpy in /opt/conda/lib/python3.7/site-packages (from aiida-sssp-workflow==0.2.0a0->aiidalab-sssp==0.1a0) (1.21.0)\n",
      "Requirement already satisfied: aiida-codtools~=2.1 in /opt/conda/lib/python3.7/site-packages (from aiida-sssp-workflow==0.2.0a0->aiidalab-sssp==0.1a0) (2.1.0)\n",
      "Requirement already satisfied: aiida-core<2.0.0,>=1.1.0 in /opt/conda/lib/python3.7/site-packages (from aiida-sssp-workflow==0.2.0a0->aiidalab-sssp==0.1a0) (1.6.3)\n",
      "Requirement already satisfied: importlib-resources~=3.3 in /home/aiida/.local/lib/python3.7/site-packages (from aiida-sssp-workflow==0.2.0a0->aiidalab-sssp==0.1a0) (3.3.1)\n",
      "Requirement already satisfied: aiida-quantumespresso~=3.4 in /opt/conda/lib/python3.7/site-packages (from aiida-sssp-workflow==0.2.0a0->aiidalab-sssp==0.1a0) (3.4.2)\n",
      "Requirement already satisfied: click~=7.0 in /opt/conda/lib/python3.7/site-packages (from aiida-codtools~=2.1->aiida-sssp-workflow==0.2.0a0->aiidalab-sssp==0.1a0) (7.1.2)\n",
      "Requirement already satisfied: click-completion~=0.5.1 in /opt/conda/lib/python3.7/site-packages (from aiida-codtools~=2.1->aiida-sssp-workflow==0.2.0a0->aiidalab-sssp==0.1a0) (0.5.2)\n",
      "Requirement already satisfied: tzlocal~=2.0 in /opt/conda/lib/python3.7/site-packages (from aiida-core<2.0.0,>=1.1.0->aiida-sssp-workflow==0.2.0a0->aiidalab-sssp==0.1a0) (2.1)\n",
      "Requirement already satisfied: archive-path~=0.2.1 in /opt/conda/lib/python3.7/site-packages (from aiida-core<2.0.0,>=1.1.0->aiida-sssp-workflow==0.2.0a0->aiidalab-sssp==0.1a0) (0.2.1)\n",
      "Requirement already satisfied: tabulate~=0.8.5 in /opt/conda/lib/python3.7/site-packages (from aiida-core<2.0.0,>=1.1.0->aiida-sssp-workflow==0.2.0a0->aiidalab-sssp==0.1a0) (0.8.9)\n",
      "Requirement already satisfied: aldjemy~=0.9.1 in /opt/conda/lib/python3.7/site-packages (from aiida-core<2.0.0,>=1.1.0->aiida-sssp-workflow==0.2.0a0->aiidalab-sssp==0.1a0) (0.9.1)\n",
      "Requirement already satisfied: alembic~=1.2 in /opt/conda/lib/python3.7/site-packages (from aiida-core<2.0.0,>=1.1.0->aiida-sssp-workflow==0.2.0a0->aiidalab-sssp==0.1a0) (1.5.8)\n",
      "Requirement already satisfied: circus~=0.17.1 in /opt/conda/lib/python3.7/site-packages (from aiida-core<2.0.0,>=1.1.0->aiida-sssp-workflow==0.2.0a0->aiidalab-sssp==0.1a0) (0.17.1)\n",
      "Requirement already satisfied: psutil~=5.6 in /opt/conda/lib/python3.7/site-packages (from aiida-core<2.0.0,>=1.1.0->aiida-sssp-workflow==0.2.0a0->aiidalab-sssp==0.1a0) (5.8.0)\n",
      "Requirement already satisfied: click-config-file~=0.6.0 in /opt/conda/lib/python3.7/site-packages (from aiida-core<2.0.0,>=1.1.0->aiida-sssp-workflow==0.2.0a0->aiidalab-sssp==0.1a0) (0.6.0)\n",
      "Requirement already satisfied: pyyaml~=5.1.2 in /opt/conda/lib/python3.7/site-packages (from aiida-core<2.0.0,>=1.1.0->aiida-sssp-workflow==0.2.0a0->aiidalab-sssp==0.1a0) (5.1.2)\n",
      "Requirement already satisfied: aio-pika~=6.6 in /opt/conda/lib/python3.7/site-packages (from aiida-core<2.0.0,>=1.1.0->aiida-sssp-workflow==0.2.0a0->aiidalab-sssp==0.1a0) (6.8.0)\n",
      "Requirement already satisfied: pgsu~=0.2.0 in /opt/conda/lib/python3.7/site-packages (from aiida-core<2.0.0,>=1.1.0->aiida-sssp-workflow==0.2.0a0->aiidalab-sssp==0.1a0) (0.2.0)\n",
      "Requirement already satisfied: wrapt~=1.11.1 in /opt/conda/lib/python3.7/site-packages (from aiida-core<2.0.0,>=1.1.0->aiida-sssp-workflow==0.2.0a0->aiidalab-sssp==0.1a0) (1.11.2)\n",
      "Requirement already satisfied: tqdm~=4.45 in /opt/conda/lib/python3.7/site-packages (from aiida-core<2.0.0,>=1.1.0->aiida-sssp-workflow==0.2.0a0->aiidalab-sssp==0.1a0) (4.56.1)\n",
      "Requirement already satisfied: ete3~=3.1 in /opt/conda/lib/python3.7/site-packages (from aiida-core<2.0.0,>=1.1.0->aiida-sssp-workflow==0.2.0a0->aiidalab-sssp==0.1a0) (3.1.2)\n",
      "Requirement already satisfied: python-dateutil~=2.8 in /opt/conda/lib/python3.7/site-packages (from aiida-core<2.0.0,>=1.1.0->aiida-sssp-workflow==0.2.0a0->aiidalab-sssp==0.1a0) (2.8.2)\n",
      "Requirement already satisfied: jsonschema~=3.0 in /opt/conda/lib/python3.7/site-packages (from aiida-core<2.0.0,>=1.1.0->aiida-sssp-workflow==0.2.0a0->aiidalab-sssp==0.1a0) (3.2.0)\n",
      "Requirement already satisfied: kiwipy[rmq]~=0.7.4 in /opt/conda/lib/python3.7/site-packages (from aiida-core<2.0.0,>=1.1.0->aiida-sssp-workflow==0.2.0a0->aiidalab-sssp==0.1a0) (0.7.4)\n",
      "Requirement already satisfied: reentry~=1.3 in /opt/conda/lib/python3.7/site-packages (from aiida-core<2.0.0,>=1.1.0->aiida-sssp-workflow==0.2.0a0->aiidalab-sssp==0.1a0) (1.3.2)\n",
      "Requirement already satisfied: upf-to-json~=0.9.2 in /opt/conda/lib/python3.7/site-packages (from aiida-core<2.0.0,>=1.1.0->aiida-sssp-workflow==0.2.0a0->aiidalab-sssp==0.1a0) (0.9.3)\n",
      "Requirement already satisfied: pytz~=2019.3 in /opt/conda/lib/python3.7/site-packages (from aiida-core<2.0.0,>=1.1.0->aiida-sssp-workflow==0.2.0a0->aiidalab-sssp==0.1a0) (2019.3)\n",
      "Requirement already satisfied: graphviz~=0.13 in /opt/conda/lib/python3.7/site-packages (from aiida-core<2.0.0,>=1.1.0->aiida-sssp-workflow==0.2.0a0->aiidalab-sssp==0.1a0) (0.16)\n",
      "Requirement already satisfied: sqlalchemy-utils~=0.36.0 in /opt/conda/lib/python3.7/site-packages (from aiida-core<2.0.0,>=1.1.0->aiida-sssp-workflow==0.2.0a0->aiidalab-sssp==0.1a0) (0.36.8)\n",
      "Requirement already satisfied: ipython~=7.20 in /opt/conda/lib/python3.7/site-packages (from aiida-core<2.0.0,>=1.1.0->aiida-sssp-workflow==0.2.0a0->aiidalab-sssp==0.1a0) (7.25.0)\n",
      "Requirement already satisfied: click-spinner~=0.1.8 in /opt/conda/lib/python3.7/site-packages (from aiida-core<2.0.0,>=1.1.0->aiida-sssp-workflow==0.2.0a0->aiidalab-sssp==0.1a0) (0.1.10)\n",
      "Requirement already satisfied: sqlalchemy~=1.3.10 in /opt/conda/lib/python3.7/site-packages (from aiida-core<2.0.0,>=1.1.0->aiida-sssp-workflow==0.2.0a0->aiidalab-sssp==0.1a0) (1.3.24)\n",
      "Requirement already satisfied: paramiko>=2.7.2,~=2.7 in /opt/conda/lib/python3.7/site-packages (from aiida-core<2.0.0,>=1.1.0->aiida-sssp-workflow==0.2.0a0->aiidalab-sssp==0.1a0) (2.7.2)\n",
      "Requirement already satisfied: psycopg2-binary>=2.8.3,~=2.8 in /opt/conda/lib/python3.7/site-packages (from aiida-core<2.0.0,>=1.1.0->aiida-sssp-workflow==0.2.0a0->aiidalab-sssp==0.1a0) (2.8.6)\n",
      "Requirement already satisfied: django~=2.2 in /opt/conda/lib/python3.7/site-packages (from aiida-core<2.0.0,>=1.1.0->aiida-sssp-workflow==0.2.0a0->aiidalab-sssp==0.1a0) (2.2.20)\n",
      "Requirement already satisfied: pamqp~=2.3 in /opt/conda/lib/python3.7/site-packages (from aiida-core<2.0.0,>=1.1.0->aiida-sssp-workflow==0.2.0a0->aiidalab-sssp==0.1a0) (2.3.0)\n",
      "Requirement already satisfied: plumpy~=0.19.0 in /opt/conda/lib/python3.7/site-packages (from aiida-core<2.0.0,>=1.1.0->aiida-sssp-workflow==0.2.0a0->aiidalab-sssp==0.1a0) (0.19.0)\n",
      "Requirement already satisfied: simplejson~=3.16 in /opt/conda/lib/python3.7/site-packages (from aiida-core<2.0.0,>=1.1.0->aiida-sssp-workflow==0.2.0a0->aiidalab-sssp==0.1a0) (3.17.2)\n",
      "Requirement already satisfied: jinja2~=2.10 in /opt/conda/lib/python3.7/site-packages (from aiida-core<2.0.0,>=1.1.0->aiida-sssp-workflow==0.2.0a0->aiidalab-sssp==0.1a0) (2.11.3)\n"
     ]
    },
    {
     "name": "stdout",
     "output_type": "stream",
     "text": [
      "Requirement already satisfied: spglib~=1.14 in /opt/conda/lib/python3.7/site-packages (from aiida-core<2.0.0,>=1.1.0->aiida-sssp-workflow==0.2.0a0->aiidalab-sssp==0.1a0) (1.16.2)\n",
      "Requirement already satisfied: PyCifRW~=4.4 in /opt/conda/lib/python3.7/site-packages (from aiida-core<2.0.0,>=1.1.0->aiida-sssp-workflow==0.2.0a0->aiidalab-sssp==0.1a0) (4.4.3)\n",
      "Requirement already satisfied: pymysql~=0.9.3 in /opt/conda/lib/python3.7/site-packages (from aiida-core<2.0.0,>=1.1.0->aiida-sssp-workflow==0.2.0a0->aiidalab-sssp==0.1a0) (0.9.3)\n",
      "Requirement already satisfied: pymatgen!=2019.9.7,<=2022.02.03,>=2019.7.2 in /opt/conda/lib/python3.7/site-packages (from aiida-core<2.0.0,>=1.1.0->aiida-sssp-workflow==0.2.0a0->aiidalab-sssp==0.1a0) (2020.12.3)\n",
      "Requirement already satisfied: aiida-tools>=0.3.0 in /opt/conda/lib/python3.7/site-packages (from aiida-optimize~=0.4->aiida-sssp-workflow==0.2.0a0->aiidalab-sssp==0.1a0) (0.3.3)\n",
      "Requirement already satisfied: decorator in /opt/conda/lib/python3.7/site-packages (from aiida-optimize~=0.4->aiida-sssp-workflow==0.2.0a0->aiidalab-sssp==0.1a0) (4.4.2)\n",
      "Requirement already satisfied: scipy in /opt/conda/lib/python3.7/site-packages (from aiida-optimize~=0.4->aiida-sssp-workflow==0.2.0a0->aiidalab-sssp==0.1a0) (1.6.3)\n",
      "Requirement already satisfied: packaging in /opt/conda/lib/python3.7/site-packages (from aiida-quantumespresso~=3.4->aiida-sssp-workflow==0.2.0a0->aiidalab-sssp==0.1a0) (20.9)\n",
      "Requirement already satisfied: xmlschema>=1.2.5,~=1.2 in /opt/conda/lib/python3.7/site-packages (from aiida-quantumespresso~=3.4->aiida-sssp-workflow==0.2.0a0->aiidalab-sssp==0.1a0) (1.7.1)\n",
      "Requirement already satisfied: qe-tools~=2.0rc1 in /opt/conda/lib/python3.7/site-packages (from aiida-quantumespresso~=3.4->aiida-sssp-workflow==0.2.0a0->aiidalab-sssp==0.1a0) (2.0.0rc2)\n",
      "Requirement already satisfied: aiida-pseudo~=0.6.1 in /opt/conda/lib/python3.7/site-packages (from aiida-quantumespresso~=3.4->aiida-sssp-workflow==0.2.0a0->aiidalab-sssp==0.1a0) (0.6.3)\n",
      "Requirement already satisfied: pint~=0.16.1 in /opt/conda/lib/python3.7/site-packages (from aiida-pseudo~=0.6.1->aiida-quantumespresso~=3.4->aiida-sssp-workflow==0.2.0a0->aiidalab-sssp==0.1a0) (0.16.1)\n",
      "Requirement already satisfied: requests~=2.20 in /opt/conda/lib/python3.7/site-packages (from aiida-pseudo~=0.6.1->aiida-quantumespresso~=3.4->aiida-sssp-workflow==0.2.0a0->aiidalab-sssp==0.1a0) (2.25.1)\n",
      "Requirement already satisfied: fsc.export in /opt/conda/lib/python3.7/site-packages (from aiida-tools>=0.3.0->aiida-optimize~=0.4->aiida-sssp-workflow==0.2.0a0->aiidalab-sssp==0.1a0) (1.2.0)\n",
      "Requirement already satisfied: aiormq<4,>=3.2.3 in /opt/conda/lib/python3.7/site-packages (from aio-pika~=6.6->aiida-core<2.0.0,>=1.1.0->aiida-sssp-workflow==0.2.0a0->aiidalab-sssp==0.1a0) (3.3.1)\n",
      "Requirement already satisfied: yarl in /opt/conda/lib/python3.7/site-packages (from aio-pika~=6.6->aiida-core<2.0.0,>=1.1.0->aiida-sssp-workflow==0.2.0a0->aiidalab-sssp==0.1a0) (1.6.3)\n",
      "Requirement already satisfied: Mako in /opt/conda/lib/python3.7/site-packages (from alembic~=1.2->aiida-core<2.0.0,>=1.1.0->aiida-sssp-workflow==0.2.0a0->aiidalab-sssp==0.1a0) (1.1.4)\n",
      "Requirement already satisfied: python-editor>=0.3 in /opt/conda/lib/python3.7/site-packages (from alembic~=1.2->aiida-core<2.0.0,>=1.1.0->aiida-sssp-workflow==0.2.0a0->aiidalab-sssp==0.1a0) (1.0.4)\n",
      "Requirement already satisfied: matplotlib>=3.1.0 in /opt/conda/lib/python3.7/site-packages (from ase~=3.20->aiida-sssp-workflow==0.2.0a0->aiidalab-sssp==0.1a0) (3.4.1)\n",
      "Requirement already satisfied: tornado>=5.0.2 in /opt/conda/lib/python3.7/site-packages (from circus~=0.17.1->aiida-core<2.0.0,>=1.1.0->aiida-sssp-workflow==0.2.0a0->aiidalab-sssp==0.1a0) (6.1)\n",
      "Requirement already satisfied: pyzmq>=17.0 in /opt/conda/lib/python3.7/site-packages (from circus~=0.17.1->aiida-core<2.0.0,>=1.1.0->aiida-sssp-workflow==0.2.0a0->aiidalab-sssp==0.1a0) (22.0.3)\n",
      "Requirement already satisfied: six in /opt/conda/lib/python3.7/site-packages (from click-completion~=0.5.1->aiida-codtools~=2.1->aiida-sssp-workflow==0.2.0a0->aiidalab-sssp==0.1a0) (1.15.0)\n",
      "Requirement already satisfied: shellingham in /opt/conda/lib/python3.7/site-packages (from click-completion~=0.5.1->aiida-codtools~=2.1->aiida-sssp-workflow==0.2.0a0->aiidalab-sssp==0.1a0) (1.4.0)\n",
      "Requirement already satisfied: configobj>=5.0.6 in /opt/conda/lib/python3.7/site-packages (from click-config-file~=0.6.0->aiida-core<2.0.0,>=1.1.0->aiida-sssp-workflow==0.2.0a0->aiidalab-sssp==0.1a0) (5.0.6)\n",
      "Requirement already satisfied: sqlparse>=0.2.2 in /opt/conda/lib/python3.7/site-packages (from django~=2.2->aiida-core<2.0.0,>=1.1.0->aiida-sssp-workflow==0.2.0a0->aiidalab-sssp==0.1a0) (0.4.1)\n",
      "Requirement already satisfied: zipp>=0.4 in /opt/conda/lib/python3.7/site-packages (from importlib-resources~=3.3->aiida-sssp-workflow==0.2.0a0->aiidalab-sssp==0.1a0) (3.4.1)\n",
      "Requirement already satisfied: setuptools>=18.5 in /opt/conda/lib/python3.7/site-packages (from ipython~=7.20->aiida-core<2.0.0,>=1.1.0->aiida-sssp-workflow==0.2.0a0->aiidalab-sssp==0.1a0) (49.6.0.post20210108)\n",
      "Requirement already satisfied: pexpect>4.3 in /opt/conda/lib/python3.7/site-packages (from ipython~=7.20->aiida-core<2.0.0,>=1.1.0->aiida-sssp-workflow==0.2.0a0->aiidalab-sssp==0.1a0) (4.8.0)\n",
      "Requirement already satisfied: matplotlib-inline in /opt/conda/lib/python3.7/site-packages (from ipython~=7.20->aiida-core<2.0.0,>=1.1.0->aiida-sssp-workflow==0.2.0a0->aiidalab-sssp==0.1a0) (0.1.2)\n",
      "Requirement already satisfied: pickleshare in /opt/conda/lib/python3.7/site-packages (from ipython~=7.20->aiida-core<2.0.0,>=1.1.0->aiida-sssp-workflow==0.2.0a0->aiidalab-sssp==0.1a0) (0.7.5)\n",
      "Requirement already satisfied: jedi>=0.16 in /opt/conda/lib/python3.7/site-packages (from ipython~=7.20->aiida-core<2.0.0,>=1.1.0->aiida-sssp-workflow==0.2.0a0->aiidalab-sssp==0.1a0) (0.18.0)\n",
      "Requirement already satisfied: traitlets>=4.2 in /opt/conda/lib/python3.7/site-packages (from ipython~=7.20->aiida-core<2.0.0,>=1.1.0->aiida-sssp-workflow==0.2.0a0->aiidalab-sssp==0.1a0) (4.3.3)\n",
      "Requirement already satisfied: prompt-toolkit!=3.0.0,!=3.0.1,<3.1.0,>=2.0.0 in /opt/conda/lib/python3.7/site-packages (from ipython~=7.20->aiida-core<2.0.0,>=1.1.0->aiida-sssp-workflow==0.2.0a0->aiidalab-sssp==0.1a0) (3.0.18)\n",
      "Requirement already satisfied: pygments in /opt/conda/lib/python3.7/site-packages (from ipython~=7.20->aiida-core<2.0.0,>=1.1.0->aiida-sssp-workflow==0.2.0a0->aiidalab-sssp==0.1a0) (2.8.1)\n",
      "Requirement already satisfied: backcall in /opt/conda/lib/python3.7/site-packages (from ipython~=7.20->aiida-core<2.0.0,>=1.1.0->aiida-sssp-workflow==0.2.0a0->aiidalab-sssp==0.1a0) (0.2.0)\n",
      "Requirement already satisfied: parso<0.9.0,>=0.8.0 in /opt/conda/lib/python3.7/site-packages (from jedi>=0.16->ipython~=7.20->aiida-core<2.0.0,>=1.1.0->aiida-sssp-workflow==0.2.0a0->aiidalab-sssp==0.1a0) (0.8.2)\n",
      "Requirement already satisfied: MarkupSafe>=0.23 in /opt/conda/lib/python3.7/site-packages (from jinja2~=2.10->aiida-core<2.0.0,>=1.1.0->aiida-sssp-workflow==0.2.0a0->aiidalab-sssp==0.1a0) (1.1.1)\n",
      "Requirement already satisfied: attrs>=17.4.0 in /opt/conda/lib/python3.7/site-packages (from jsonschema~=3.0->aiida-core<2.0.0,>=1.1.0->aiida-sssp-workflow==0.2.0a0->aiidalab-sssp==0.1a0) (20.3.0)\n",
      "Requirement already satisfied: importlib-metadata in /opt/conda/lib/python3.7/site-packages (from jsonschema~=3.0->aiida-core<2.0.0,>=1.1.0->aiida-sssp-workflow==0.2.0a0->aiidalab-sssp==0.1a0) (3.10.1)\n",
      "Requirement already satisfied: pyrsistent>=0.14.0 in /opt/conda/lib/python3.7/site-packages (from jsonschema~=3.0->aiida-core<2.0.0,>=1.1.0->aiida-sssp-workflow==0.2.0a0->aiidalab-sssp==0.1a0) (0.17.3)\n",
      "Requirement already satisfied: deprecation in /opt/conda/lib/python3.7/site-packages (from kiwipy[rmq]~=0.7.4->aiida-core<2.0.0,>=1.1.0->aiida-sssp-workflow==0.2.0a0->aiidalab-sssp==0.1a0) (2.1.0)\n",
      "Requirement already satisfied: shortuuid in /opt/conda/lib/python3.7/site-packages (from kiwipy[rmq]~=0.7.4->aiida-core<2.0.0,>=1.1.0->aiida-sssp-workflow==0.2.0a0->aiidalab-sssp==0.1a0) (1.0.1)\n",
      "Requirement already satisfied: async-generator in /opt/conda/lib/python3.7/site-packages (from kiwipy[rmq]~=0.7.4->aiida-core<2.0.0,>=1.1.0->aiida-sssp-workflow==0.2.0a0->aiidalab-sssp==0.1a0) (1.10)\n",
      "Requirement already satisfied: pytray<0.4.0,>=0.2.2 in /opt/conda/lib/python3.7/site-packages (from kiwipy[rmq]~=0.7.4->aiida-core<2.0.0,>=1.1.0->aiida-sssp-workflow==0.2.0a0->aiidalab-sssp==0.1a0) (0.3.1)\n"
     ]
    },
    {
     "name": "stdout",
     "output_type": "stream",
     "text": [
      "Requirement already satisfied: cycler>=0.10 in /opt/conda/lib/python3.7/site-packages (from matplotlib>=3.1.0->ase~=3.20->aiida-sssp-workflow==0.2.0a0->aiidalab-sssp==0.1a0) (0.10.0)\n",
      "Requirement already satisfied: pillow>=6.2.0 in /opt/conda/lib/python3.7/site-packages (from matplotlib>=3.1.0->ase~=3.20->aiida-sssp-workflow==0.2.0a0->aiidalab-sssp==0.1a0) (8.3.1)\n",
      "Requirement already satisfied: kiwisolver>=1.0.1 in /opt/conda/lib/python3.7/site-packages (from matplotlib>=3.1.0->ase~=3.20->aiida-sssp-workflow==0.2.0a0->aiidalab-sssp==0.1a0) (1.3.1)\n",
      "Requirement already satisfied: pyparsing>=2.2.1 in /opt/conda/lib/python3.7/site-packages (from matplotlib>=3.1.0->ase~=3.20->aiida-sssp-workflow==0.2.0a0->aiidalab-sssp==0.1a0) (2.4.7)\n",
      "Requirement already satisfied: bcrypt>=3.1.3 in /opt/conda/lib/python3.7/site-packages (from paramiko>=2.7.2,~=2.7->aiida-core<2.0.0,>=1.1.0->aiida-sssp-workflow==0.2.0a0->aiidalab-sssp==0.1a0) (3.2.0)\n",
      "Requirement already satisfied: pynacl>=1.0.1 in /opt/conda/lib/python3.7/site-packages (from paramiko>=2.7.2,~=2.7->aiida-core<2.0.0,>=1.1.0->aiida-sssp-workflow==0.2.0a0->aiidalab-sssp==0.1a0) (1.4.0)\n",
      "Requirement already satisfied: cryptography>=2.5 in /opt/conda/lib/python3.7/site-packages (from paramiko>=2.7.2,~=2.7->aiida-core<2.0.0,>=1.1.0->aiida-sssp-workflow==0.2.0a0->aiidalab-sssp==0.1a0) (3.3.1)\n",
      "Requirement already satisfied: cffi>=1.1 in /opt/conda/lib/python3.7/site-packages (from bcrypt>=3.1.3->paramiko>=2.7.2,~=2.7->aiida-core<2.0.0,>=1.1.0->aiida-sssp-workflow==0.2.0a0->aiidalab-sssp==0.1a0) (1.14.4)\n",
      "Requirement already satisfied: pycparser in /opt/conda/lib/python3.7/site-packages (from cffi>=1.1->bcrypt>=3.1.3->paramiko>=2.7.2,~=2.7->aiida-core<2.0.0,>=1.1.0->aiida-sssp-workflow==0.2.0a0->aiidalab-sssp==0.1a0) (2.20)\n",
      "Requirement already satisfied: ptyprocess>=0.5 in /opt/conda/lib/python3.7/site-packages (from pexpect>4.3->ipython~=7.20->aiida-core<2.0.0,>=1.1.0->aiida-sssp-workflow==0.2.0a0->aiidalab-sssp==0.1a0) (0.7.0)\n",
      "Requirement already satisfied: nest-asyncio~=1.4.0 in /opt/conda/lib/python3.7/site-packages (from plumpy~=0.19.0->aiida-core<2.0.0,>=1.1.0->aiida-sssp-workflow==0.2.0a0->aiidalab-sssp==0.1a0) (1.4.3)\n",
      "Requirement already satisfied: wcwidth in /opt/conda/lib/python3.7/site-packages (from prompt-toolkit!=3.0.0,!=3.0.1,<3.1.0,>=2.0.0->ipython~=7.20->aiida-core<2.0.0,>=1.1.0->aiida-sssp-workflow==0.2.0a0->aiidalab-sssp==0.1a0) (0.2.5)\n",
      "Requirement already satisfied: plotly>=4.5.0 in /opt/conda/lib/python3.7/site-packages (from pymatgen!=2019.9.7,<=2022.02.03,>=2019.7.2->aiida-core<2.0.0,>=1.1.0->aiida-sssp-workflow==0.2.0a0->aiidalab-sssp==0.1a0) (4.14.3)\n",
      "Requirement already satisfied: uncertainties>=3.1.4 in /opt/conda/lib/python3.7/site-packages (from pymatgen!=2019.9.7,<=2022.02.03,>=2019.7.2->aiida-core<2.0.0,>=1.1.0->aiida-sssp-workflow==0.2.0a0->aiidalab-sssp==0.1a0) (3.1.5)\n",
      "Requirement already satisfied: pandas in /opt/conda/lib/python3.7/site-packages (from pymatgen!=2019.9.7,<=2022.02.03,>=2019.7.2->aiida-core<2.0.0,>=1.1.0->aiida-sssp-workflow==0.2.0a0->aiidalab-sssp==0.1a0) (1.3.0)\n",
      "Requirement already satisfied: palettable>=3.1.1 in /opt/conda/lib/python3.7/site-packages (from pymatgen!=2019.9.7,<=2022.02.03,>=2019.7.2->aiida-core<2.0.0,>=1.1.0->aiida-sssp-workflow==0.2.0a0->aiidalab-sssp==0.1a0) (3.3.0)\n",
      "Requirement already satisfied: ruamel.yaml>=0.15.6 in /opt/conda/lib/python3.7/site-packages (from pymatgen!=2019.9.7,<=2022.02.03,>=2019.7.2->aiida-core<2.0.0,>=1.1.0->aiida-sssp-workflow==0.2.0a0->aiidalab-sssp==0.1a0) (0.16.10)\n",
      "Requirement already satisfied: sympy in /opt/conda/lib/python3.7/site-packages (from pymatgen!=2019.9.7,<=2022.02.03,>=2019.7.2->aiida-core<2.0.0,>=1.1.0->aiida-sssp-workflow==0.2.0a0->aiidalab-sssp==0.1a0) (1.8)\n",
      "Requirement already satisfied: monty>=3.0.2 in /opt/conda/lib/python3.7/site-packages (from pymatgen!=2019.9.7,<=2022.02.03,>=2019.7.2->aiida-core<2.0.0,>=1.1.0->aiida-sssp-workflow==0.2.0a0->aiidalab-sssp==0.1a0) (2021.3.3)\n",
      "Requirement already satisfied: networkx>=2.2 in /opt/conda/lib/python3.7/site-packages (from pymatgen!=2019.9.7,<=2022.02.03,>=2019.7.2->aiida-core<2.0.0,>=1.1.0->aiida-sssp-workflow==0.2.0a0->aiidalab-sssp==0.1a0) (2.5.1)\n",
      "Requirement already satisfied: retrying>=1.3.3 in /opt/conda/lib/python3.7/site-packages (from plotly>=4.5.0->pymatgen!=2019.9.7,<=2022.02.03,>=2019.7.2->aiida-core<2.0.0,>=1.1.0->aiida-sssp-workflow==0.2.0a0->aiidalab-sssp==0.1a0) (1.3.3)\n",
      "Requirement already satisfied: certifi>=2017.4.17 in /opt/conda/lib/python3.7/site-packages (from requests~=2.20->aiida-pseudo~=0.6.1->aiida-quantumespresso~=3.4->aiida-sssp-workflow==0.2.0a0->aiidalab-sssp==0.1a0) (2021.5.30)\n",
      "Requirement already satisfied: urllib3<1.27,>=1.21.1 in /opt/conda/lib/python3.7/site-packages (from requests~=2.20->aiida-pseudo~=0.6.1->aiida-quantumespresso~=3.4->aiida-sssp-workflow==0.2.0a0->aiidalab-sssp==0.1a0) (1.26.3)\n",
      "Requirement already satisfied: idna<3,>=2.5 in /opt/conda/lib/python3.7/site-packages (from requests~=2.20->aiida-pseudo~=0.6.1->aiida-quantumespresso~=3.4->aiida-sssp-workflow==0.2.0a0->aiidalab-sssp==0.1a0) (2.10)\n",
      "Requirement already satisfied: chardet<5,>=3.0.2 in /opt/conda/lib/python3.7/site-packages (from requests~=2.20->aiida-pseudo~=0.6.1->aiida-quantumespresso~=3.4->aiida-sssp-workflow==0.2.0a0->aiidalab-sssp==0.1a0) (4.0.0)\n",
      "Requirement already satisfied: ruamel.yaml.clib>=0.1.2 in /opt/conda/lib/python3.7/site-packages (from ruamel.yaml>=0.15.6->pymatgen!=2019.9.7,<=2022.02.03,>=2019.7.2->aiida-core<2.0.0,>=1.1.0->aiida-sssp-workflow==0.2.0a0->aiidalab-sssp==0.1a0) (0.2.2)\n",
      "Requirement already satisfied: future>=0.15 in /opt/conda/lib/python3.7/site-packages (from seekpath~=1.9->aiida-sssp-workflow==0.2.0a0->aiidalab-sssp==0.1a0) (0.18.2)\n",
      "Requirement already satisfied: ipython-genutils in /opt/conda/lib/python3.7/site-packages (from traitlets>=4.2->ipython~=7.20->aiida-core<2.0.0,>=1.1.0->aiida-sssp-workflow==0.2.0a0->aiidalab-sssp==0.1a0) (0.2.0)\n",
      "Requirement already satisfied: elementpath<3.0.0,>=2.2.2 in /opt/conda/lib/python3.7/site-packages (from xmlschema>=1.2.5,~=1.2->aiida-quantumespresso~=3.4->aiida-sssp-workflow==0.2.0a0->aiidalab-sssp==0.1a0) (2.3.1)\n",
      "Requirement already satisfied: typing-extensions>=3.6.4 in /home/aiida/.local/lib/python3.7/site-packages (from importlib-metadata->jsonschema~=3.0->aiida-core<2.0.0,>=1.1.0->aiida-sssp-workflow==0.2.0a0->aiidalab-sssp==0.1a0) (3.10.0.2)\n",
      "Requirement already satisfied: mpmath>=0.19 in /opt/conda/lib/python3.7/site-packages (from sympy->pymatgen!=2019.9.7,<=2022.02.03,>=2019.7.2->aiida-core<2.0.0,>=1.1.0->aiida-sssp-workflow==0.2.0a0->aiidalab-sssp==0.1a0) (1.2.1)\n",
      "Requirement already satisfied: multidict>=4.0 in /opt/conda/lib/python3.7/site-packages (from yarl->aio-pika~=6.6->aiida-core<2.0.0,>=1.1.0->aiida-sssp-workflow==0.2.0a0->aiidalab-sssp==0.1a0) (5.1.0)\n",
      "Building wheels for collected packages: aiidalab-sssp\n",
      "  Building wheel for aiidalab-sssp (PEP 517) ... \u001b[?25ldone\n",
      "\u001b[?25h  Created wheel for aiidalab-sssp: filename=aiidalab_sssp-0.1a0-py3-none-any.whl size=2037 sha256=b857e73c60f2dad1f54dcfbd458db1ca5df0d4044386ba1a5304c2095a5a2319\n",
      "  Stored in directory: /home/aiida/.cache/pip/wheels/fd/6e/05/0096bb4d6f53795e068b48ce3547d19365a56c345b689f0cb0\n",
      "Successfully built aiidalab-sssp\n",
      "Installing collected packages: aiida-sssp-workflow, aiidalab-sssp\n",
      "\u001b[33m  WARNING: The script aiida-sssp-workflow is installed in '/home/aiida/.local/bin' which is not on PATH.\n",
      "  Consider adding this directory to PATH or, if you prefer to suppress this warning, use --no-warn-script-location.\u001b[0m\n",
      "Successfully installed aiida-sssp-workflow-0.2.0a0 aiidalab-sssp-0.1a0\n",
      "######################################\n"
     ]
    }
   ],
   "source": [
    "try:\n",
    "    import aiida_sssp_workflow\n",
    "except ModuleNotFoundError as err:\n",
    "    print(\"######################################\")\n",
    "    print(\"### Doing initial one-time install ###\")\n",
    "    ! pip install .\n",
    "    print(\"######################################\")\n",
    "    ! reentry scan"
   ]
  },
  {
   "cell_type": "code",
   "execution_count": null,
   "metadata": {},
   "outputs": [],
   "source": [
    "import ipywidgets as ipw\n",
    "\n",
    "from pseudo import PseudoSelectionWidget\n",
    "from delta_factor import ComputeDeltaFactorWidget\n",
    "from process import ProcessStatusWidget\n",
    "from aiidalab_widgets_base import ProcessFollowerWidget, ProgressBarWidget, ProcessReportWidget, ProcessCallStackWidget\n",
    "from process import ProcessInputsWidget, ProcessOutputsWidget"
   ]
  },
  {
   "cell_type": "markdown",
   "metadata": {},
   "source": [
    "## Step 1: Upload the UPF file"
   ]
  },
  {
   "cell_type": "code",
   "execution_count": null,
   "metadata": {
    "scrolled": false
   },
   "outputs": [],
   "source": [
    "pseudo_selection_step = PseudoSelectionWidget()\n",
    "display(pseudo_selection_step)"
   ]
  },
  {
   "cell_type": "markdown",
   "metadata": {},
   "source": [
    "## Step 2: setting parameters and submit"
   ]
  },
  {
   "cell_type": "code",
   "execution_count": null,
   "metadata": {},
   "outputs": [],
   "source": [
    "compute_delta_factor_step = ComputeDeltaFactorWidget()\n",
    "\n",
    "ipw.dlink((pseudo_selection_step, 'confirmed_pseudo'), (compute_delta_factor_step, 'input_pseudo'))\n",
    "\n",
    "# Reset all subsequent steps in case that a new pseudo is selected\n",
    "def _observe_pseudo_selection(change):\n",
    "    with pseudo_selection_step.hold_sync():\n",
    "        if pseudo_selection_step.confirmed_pseudo is not None and \\\n",
    "                pseudo_selection_step.confirmed_pseudo != change['new']:\n",
    "            pseudo_selection_step.confirmed_pseudo = change['new']\n",
    "pseudo_selection_step.observe(_observe_pseudo_selection, 'pseudo')\n"
   ]
  },
  {
   "cell_type": "code",
   "execution_count": null,
   "metadata": {},
   "outputs": [],
   "source": [
    "display(compute_delta_factor_step)"
   ]
  },
  {
   "cell_type": "markdown",
   "metadata": {},
   "source": [
    "## Step3: Check the state of the process"
   ]
  },
  {
   "cell_type": "code",
   "execution_count": null,
   "metadata": {},
   "outputs": [],
   "source": [
    "process_status = ProcessStatusWidget()\n",
    "\n",
    "ipw.dlink((compute_delta_factor_step, 'process'), (process_status, 'process'))"
   ]
  },
  {
   "cell_type": "code",
   "execution_count": null,
   "metadata": {},
   "outputs": [],
   "source": [
    "process_status.process"
   ]
  },
  {
   "cell_type": "code",
   "execution_count": null,
   "metadata": {},
   "outputs": [],
   "source": [
    "display(process_status)"
   ]
  },
  {
   "cell_type": "markdown",
   "metadata": {},
   "source": [
    "## Step4: Check the output of workflow"
   ]
  },
  {
   "cell_type": "code",
   "execution_count": null,
   "metadata": {},
   "outputs": [],
   "source": [
    "process_input = ProcessInputsWidget()\n",
    "process_output = ProcessOutputsWidget()\n",
    "process_follower = ProcessFollowerWidget(\n",
    "    followers=[ProgressBarWidget(), ProcessReportWidget(), ProcessCallStackWidget()], path_to_root='../', \n",
    "    update_interval=2)\n",
    "\n",
    "ipw.dlink((compute_delta_factor_step, 'process'), (process_input, 'process'))\n",
    "ipw.dlink((compute_delta_factor_step, 'process'), (process_output, 'process'))\n",
    "ipw.dlink((compute_delta_factor_step, 'process'), (process_follower, 'process'))"
   ]
  },
  {
   "cell_type": "code",
   "execution_count": null,
   "metadata": {},
   "outputs": [],
   "source": [
    "display(process_input)"
   ]
  },
  {
   "cell_type": "code",
   "execution_count": null,
   "metadata": {},
   "outputs": [],
   "source": [
    "display(process_output)"
   ]
  },
  {
   "cell_type": "code",
   "execution_count": null,
   "metadata": {},
   "outputs": [],
   "source": [
    "process_input.process"
   ]
  },
  {
   "cell_type": "code",
   "execution_count": null,
   "metadata": {},
   "outputs": [],
   "source": [
    "compute_delta_factor_step.process"
   ]
  },
  {
   "cell_type": "code",
   "execution_count": null,
   "metadata": {},
   "outputs": [],
   "source": [
    "display(process_follower)\n",
    "process_follower.follow(detach=True)"
   ]
  },
  {
   "cell_type": "code",
   "execution_count": null,
   "metadata": {},
   "outputs": [],
   "source": [
    "# from aiida.orm import load_node\n",
    "# compute_delta_factor_step.process = load_node(1529)"
   ]
  }
 ],
 "metadata": {
  "kernelspec": {
   "display_name": "Python 3 (ipykernel)",
   "language": "python",
   "name": "python3"
  },
  "language_info": {
   "codemirror_mode": {
    "name": "ipython",
    "version": 3
   },
   "file_extension": ".py",
   "mimetype": "text/x-python",
   "name": "python",
   "nbconvert_exporter": "python",
   "pygments_lexer": "ipython3",
   "version": "3.7.9"
  }
 },
 "nbformat": 4,
 "nbformat_minor": 2
}
