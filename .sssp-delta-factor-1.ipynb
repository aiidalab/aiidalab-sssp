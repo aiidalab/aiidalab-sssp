{
 "cells": [
  {
   "cell_type": "code",
   "execution_count": 1,
   "metadata": {},
   "outputs": [
    {
     "data": {
      "application/json": {
       "current_state": "Loaded AiiDA DB environment - profile name: default."
      },
      "text/html": [
       "<p>Loaded AiiDA DB environment - profile name: default.</p>"
      ],
      "text/latex": [
       "Loaded AiiDA DB environment - profile name: default.\n"
      ],
      "text/plain": [
       "Loaded AiiDA DB environment - profile name: default.\n"
      ]
     },
     "execution_count": 1,
     "metadata": {},
     "output_type": "execute_result"
    }
   ],
   "source": [
    "%aiida"
   ]
  },
  {
   "cell_type": "code",
   "execution_count": 2,
   "metadata": {},
   "outputs": [],
   "source": [
    "try:\n",
    "    import aiida_sssp_workflow\n",
    "except ModuleNotFoundError as err:\n",
    "    print(\"######################################\")\n",
    "    print(\"### Doing initial one-time install ###\")\n",
    "    ! pip install -e .\n",
    "    print(\"######################################\")\n",
    "    ! reentry scan"
   ]
  },
  {
   "cell_type": "code",
   "execution_count": 3,
   "metadata": {},
   "outputs": [
    {
     "data": {
      "application/vnd.jupyter.widget-view+json": {
       "model_id": "3a6579efff4c4e46a271c33452ed51ae",
       "version_major": 2,
       "version_minor": 0
      },
      "text/plain": []
     },
     "metadata": {},
     "output_type": "display_data"
    }
   ],
   "source": [
    "import ipywidgets as ipw\n",
    "\n",
    "from pseudo import PseudoSelectionWidget\n",
    "from delta_factor import ComputeDeltaFactorWidget\n",
    "from process import ProcessStatusWidget\n",
    "from aiidalab_widgets_base import ProcessFollowerWidget, ProgressBarWidget, ProcessReportWidget, ProcessCallStackWidget\n",
    "from process import ProcessInputsWidget, ProcessOutputsWidget"
   ]
  },
  {
   "cell_type": "markdown",
   "metadata": {},
   "source": [
    "## Step 1: Upload the UPF file"
   ]
  },
  {
   "cell_type": "code",
   "execution_count": 4,
   "metadata": {
    "scrolled": false
   },
   "outputs": [
    {
     "data": {
      "application/vnd.jupyter.widget-view+json": {
       "model_id": "9c996a0a878744d58c7529a2f694f84b",
       "version_major": 2,
       "version_minor": 0
      },
      "text/plain": [
       "PseudoSelectionWidget(children=(Label(value='Select a pseudopotential from one of the following sources and th…"
      ]
     },
     "metadata": {},
     "output_type": "display_data"
    }
   ],
   "source": [
    "pseudo_selection_step = PseudoSelectionWidget()\n",
    "display(pseudo_selection_step)"
   ]
  },
  {
   "cell_type": "markdown",
   "metadata": {},
   "source": [
    "## Step 2: setting parameters and submit"
   ]
  },
  {
   "cell_type": "code",
   "execution_count": 5,
   "metadata": {},
   "outputs": [
    {
     "name": "stderr",
     "output_type": "stream",
     "text": [
      "/home/aiida/.local/lib/python3.7/site-packages/aiida/orm/computers.py:738: AiidaDeprecationWarning: this property is deprecated, use the `label` property instead\n",
      "  warnings.warn('this property is deprecated, use the `label` property instead', AiidaDeprecationWarning)  # pylint: disable=no-member\n"
     ]
    }
   ],
   "source": [
    "compute_delta_factor_step = ComputeDeltaFactorWidget()\n",
    "\n",
    "ipw.dlink((pseudo_selection_step, 'confirmed_pseudo'), (compute_delta_factor_step, 'input_pseudo'))\n",
    "\n",
    "# Reset all subsequent steps in case that a new pseudo is selected\n",
    "def _observe_pseudo_selection(change):\n",
    "    with pseudo_selection_step.hold_sync():\n",
    "        if pseudo_selection_step.confirmed_pseudo is not None and \\\n",
    "                pseudo_selection_step.confirmed_pseudo != change['new']:\n",
    "            pseudo_selection_step.confirmed_pseudo = change['new']\n",
    "pseudo_selection_step.observe(_observe_pseudo_selection, 'pseudo')\n"
   ]
  },
  {
   "cell_type": "code",
   "execution_count": 6,
   "metadata": {},
   "outputs": [
    {
     "data": {
      "application/vnd.jupyter.widget-view+json": {
       "model_id": "9304ccb1600946ffb200f2b448cbb08c",
       "version_major": 2,
       "version_minor": 0
      },
      "text/plain": [
       "ComputeDeltaFactorWidget(children=(Label(value='Specify the parameters and options for the calculation and the…"
      ]
     },
     "metadata": {},
     "output_type": "display_data"
    }
   ],
   "source": [
    "display(compute_delta_factor_step)"
   ]
  },
  {
   "cell_type": "markdown",
   "metadata": {},
   "source": [
    "## Step3: Check the state of the process"
   ]
  },
  {
   "cell_type": "code",
   "execution_count": 7,
   "metadata": {},
   "outputs": [
    {
     "data": {
      "text/plain": [
       "<traitlets.traitlets.directional_link at 0x7fefcba80790>"
      ]
     },
     "execution_count": 7,
     "metadata": {},
     "output_type": "execute_result"
    }
   ],
   "source": [
    "process_status = ProcessStatusWidget()\n",
    "\n",
    "ipw.dlink((compute_delta_factor_step, 'process'), (process_status, 'process'))"
   ]
  },
  {
   "cell_type": "code",
   "execution_count": 8,
   "metadata": {},
   "outputs": [],
   "source": [
    "process_status.process"
   ]
  },
  {
   "cell_type": "code",
   "execution_count": 9,
   "metadata": {},
   "outputs": [
    {
     "data": {
      "application/vnd.jupyter.widget-view+json": {
       "model_id": "9e212be2b7684583b45cf3ba7e46a07d",
       "version_major": 2,
       "version_minor": 0
      },
      "text/plain": [
       "ProcessStatusWidget(children=(ProgressBarWidget(children=(HTML(value='N/A', description='Calculation state:', …"
      ]
     },
     "metadata": {},
     "output_type": "display_data"
    }
   ],
   "source": [
    "display(process_status)"
   ]
  },
  {
   "cell_type": "markdown",
   "metadata": {},
   "source": [
    "## Step4: Check the output of workflow"
   ]
  },
  {
   "cell_type": "code",
   "execution_count": 10,
   "metadata": {},
   "outputs": [
    {
     "data": {
      "text/plain": [
       "<traitlets.traitlets.directional_link at 0x7fefcc8c62d0>"
      ]
     },
     "execution_count": 10,
     "metadata": {},
     "output_type": "execute_result"
    }
   ],
   "source": [
    "process_input = ProcessInputsWidget()\n",
    "process_output = ProcessOutputsWidget()\n",
    "process_follower = ProcessFollowerWidget(\n",
    "    followers=[ProgressBarWidget(), ProcessReportWidget(), ProcessCallStackWidget()], path_to_root='../', \n",
    "    update_interval=2)\n",
    "\n",
    "ipw.dlink((compute_delta_factor_step, 'process'), (process_input, 'process'))\n",
    "ipw.dlink((compute_delta_factor_step, 'process'), (process_output, 'process'))\n",
    "ipw.dlink((compute_delta_factor_step, 'process'), (process_follower, 'process'))"
   ]
  },
  {
   "cell_type": "code",
   "execution_count": 11,
   "metadata": {},
   "outputs": [
    {
     "data": {
      "application/vnd.jupyter.widget-view+json": {
       "model_id": "c7068c453ff64ae8b0bb8a2b99c8da64",
       "version_major": 2,
       "version_minor": 0
      },
      "text/plain": [
       "ProcessInputsWidget(children=(HBox(children=(Dropdown(description='Select input:', options=(('Select input', '…"
      ]
     },
     "metadata": {},
     "output_type": "display_data"
    }
   ],
   "source": [
    "display(process_input)"
   ]
  },
  {
   "cell_type": "code",
   "execution_count": 12,
   "metadata": {},
   "outputs": [
    {
     "data": {
      "application/vnd.jupyter.widget-view+json": {
       "model_id": "5f241858066245fb8cbcae973e1fc8f9",
       "version_major": 2,
       "version_minor": 0
      },
      "text/plain": [
       "ProcessOutputsWidget(children=(HBox(children=(Dropdown(description='Select outputs:', options=(('Select output…"
      ]
     },
     "metadata": {},
     "output_type": "display_data"
    }
   ],
   "source": [
    "display(process_output)"
   ]
  },
  {
   "cell_type": "code",
   "execution_count": 13,
   "metadata": {},
   "outputs": [],
   "source": [
    "process_input.process"
   ]
  },
  {
   "cell_type": "code",
   "execution_count": 14,
   "metadata": {},
   "outputs": [],
   "source": [
    "compute_delta_factor_step.process"
   ]
  },
  {
   "cell_type": "code",
   "execution_count": 15,
   "metadata": {},
   "outputs": [
    {
     "data": {
      "application/vnd.jupyter.widget-view+json": {
       "model_id": "6e90d78b5da54f86aa072062fe2a764f",
       "version_major": 2,
       "version_minor": 0
      },
      "text/plain": [
       "ProcessFollowerWidget(children=(HTML(value=''), VBox(children=(HTML(value='<h2><b>Progress Bar</b></h2>'), Pro…"
      ]
     },
     "metadata": {},
     "output_type": "display_data"
    }
   ],
   "source": [
    "display(process_follower)\n",
    "process_follower.follow(detach=True)"
   ]
  },
  {
   "cell_type": "code",
   "execution_count": 16,
   "metadata": {},
   "outputs": [],
   "source": [
    "# from aiida.orm import load_node\n",
    "# compute_delta_factor_step.process = load_node(1529)"
   ]
  }
 ],
 "metadata": {
  "kernelspec": {
   "display_name": "Python 3 (ipykernel)",
   "language": "python",
   "name": "python3"
  },
  "language_info": {
   "codemirror_mode": {
    "name": "ipython",
    "version": 3
   },
   "file_extension": ".py",
   "mimetype": "text/x-python",
   "name": "python",
   "nbconvert_exporter": "python",
   "pygments_lexer": "ipython3",
   "version": "3.7.9"
  }
 },
 "nbformat": 4,
 "nbformat_minor": 2
}
