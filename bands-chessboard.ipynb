{
 "cells": [
  {
   "cell_type": "code",
   "execution_count": 1,
   "metadata": {},
   "outputs": [
    {
     "data": {
      "application/json": {
       "current_state": "Loaded AiiDA DB environment - profile name: default."
      },
      "text/html": [
       "<p>Loaded AiiDA DB environment - profile name: default.</p>"
      ],
      "text/latex": [
       "Loaded AiiDA DB environment - profile name: default.\n"
      ],
      "text/plain": [
       "Loaded AiiDA DB environment - profile name: default.\n"
      ]
     },
     "execution_count": 1,
     "metadata": {},
     "output_type": "execute_result"
    }
   ],
   "source": [
    "%aiida"
   ]
  },
  {
   "cell_type": "code",
   "execution_count": 2,
   "metadata": {},
   "outputs": [],
   "source": [
    "import ipywidgets as ipw"
   ]
  },
  {
   "cell_type": "code",
   "execution_count": 5,
   "metadata": {},
   "outputs": [],
   "source": [
    "from aiida.orm import WorkChainNode\n",
    "from aiida import orm\n",
    "from itertools import combinations\n",
    "from aiida_sssp_workflow.calculations.calculate_bands_distance import get_bands_distance\n",
    "from aiida_sssp_workflow.utils import NONMETAL_ELEMENTS\n",
    "\n",
    "def bands_distance(element):\n",
    "    qb = QueryBuilder()\n",
    "    qb.append(\n",
    "        WorkChainNode,\n",
    "        filters={\n",
    "            'and':[\n",
    "                {'attributes.exit_status': 0},\n",
    "                {'attributes.process_label': 'VerificationWorkChain'},\n",
    "                {'extras.element': element},\n",
    "            ]\n",
    "        },\n",
    "    )\n",
    "    all_results = qb.all(flat=True)\n",
    "    \n",
    "    if element in NONMETAL_ELEMENTS:\n",
    "        is_metal = False\n",
    "    else:\n",
    "        is_metal = True\n",
    "    \n",
    "    results = []\n",
    "    for pairs in combinations(all_results, 2):\n",
    "        extras0 = pairs[0].extras\n",
    "        extras1 = pairs[1].extras\n",
    "        \n",
    "        pp_info0 = f\"{extras0['pp_type']}-{extras0['pp_family']}-{extras0['pp_version']}\"\n",
    "        pp_info1 = f\"{extras1['pp_type']}-{extras1['pp_family']}-{extras1['pp_version']}\"\n",
    "        \n",
    "        bandsdata_a = pairs[0].outputs.band_structure__seekpath_band_structure__band_structure\n",
    "        band_parameters_a = pairs[0].outputs.band_structure__seekpath_band_structure__band_parameters\n",
    "        bandsdata_b = pairs[1].outputs.band_structure__seekpath_band_structure__band_structure\n",
    "        band_parameters_b = pairs[1].outputs.band_structure__seekpath_band_structure__band_parameters\n",
    "        \n",
    "        res = get_bands_distance(bandsdata_a, bandsdata_b,\n",
    "                               band_parameters_a, band_parameters_b,\n",
    "                               0.1, # 0.1eV smearing F-D\n",
    "                               is_metal)\n",
    "        print(f'The bands different between {pp_info0} and {pp_info1} is:')\n",
    "        \n",
    "        print(f'eta_v: {res.get(\"eta_v\")}')\n",
    "        print(f'shift_v: {res.get(\"shift_v\")}')\n",
    "        print(f'max_diff_v: {res.get(\"max_diff_v\")}')\n",
    "        print(f'eta_10: {res.get(\"eta_10\")}')\n",
    "        print(f'shift_10: {res.get(\"shift_10\")}')\n",
    "        print(f'max_diff_10: {res.get(\"max_diff_10\")}')\n",
    "        \n",
    "        result = {\n",
    "            'Band_A': pp_info0,\n",
    "            'Band_B': pp_info1,\n",
    "            'eta_v': res.get(\"eta_v\"),\n",
    "            'eta_10': res.get(\"eta_10\"),\n",
    "            'max_diff_v': res.get(\"max_diff_v\"),\n",
    "            'max_diff_10': res.get(\"max_diff_10\"),\n",
    "        }\n",
    "        results.append(result)\n",
    "    return results"
   ]
  },
  {
   "cell_type": "code",
   "execution_count": 7,
   "metadata": {},
   "outputs": [
    {
     "data": {
      "application/vnd.jupyter.widget-view+json": {
       "model_id": "1da7e6c5a71641f484ebc73460ea11aa",
       "version_major": 2,
       "version_minor": 0
      },
      "text/plain": [
       "VBox(children=(HTML(value=\"<p>Give the element and click 'Go'</p>\"), Text(value='', description='element:'), B…"
      ]
     },
     "metadata": {},
     "output_type": "display_data"
    },
    {
     "data": {
      "application/vnd.jupyter.widget-view+json": {
       "model_id": "51ea79ccda7d4a1b948c1ef1b0e13546",
       "version_major": 2,
       "version_minor": 0
      },
      "text/plain": [
       "Output()"
      ]
     },
     "metadata": {},
     "output_type": "display_data"
    }
   ],
   "source": [
    "description = ipw.HTML(\"\"\"<p>Give the element and click 'Go'</p>\"\"\")\n",
    "element = ipw.Text(description='element:')\n",
    "button = ipw.Button(description=\"Go\")\n",
    "output = ipw.Output()\n",
    "\n",
    "choose_element = ipw.VBox(children=[description, element, button])\n",
    "\n",
    "def on_button_clicked(_):\n",
    "    output.clear_output()\n",
    "    with output:\n",
    "        results = bands_distance(element.value)\n",
    "        print(results)\n",
    "        \n",
    "button.on_click(on_button_clicked)\n",
    "\n",
    "display(choose_element, output)"
   ]
  }
 ],
 "metadata": {
  "kernelspec": {
   "display_name": "Python 3 (ipykernel)",
   "language": "python",
   "name": "python3"
  },
  "language_info": {
   "codemirror_mode": {
    "name": "ipython",
    "version": 3
   },
   "file_extension": ".py",
   "mimetype": "text/x-python",
   "name": "python",
   "nbconvert_exporter": "python",
   "pygments_lexer": "ipython3",
   "version": "3.7.9"
  }
 },
 "nbformat": 4,
 "nbformat_minor": 4
}
