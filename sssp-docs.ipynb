{
 "cells": [
  {
   "cell_type": "markdown",
   "id": "dd3be55d",
   "metadata": {},
   "source": [
    "## $\\Delta$ measures (normol $\\Delta$-factor and $\\nu\\Delta$ the 'length of the vector' measure)\n",
    "\n",
    "### $\\Delta$-factor\n",
    "The $\\Delta$-factor is defined from the result of Birch-Murnanghan fitting which is:\n",
    "\n",
    "$$\n",
    "    E_\\text{BM}(V) = E_0 + \\frac{9 V_0 B_0}{16} {[(V_0 / V)^{2/3}-1]^3 B_0^{'} + [(V_0 / V)^{2/3}-1]^2[6-4(V_0 / V)^{2/3}]}\n",
    "$$\n",
    "\n",
    "Where the energies are calculated from changing lattice parameters at different volumes diviate from the balance position. The the $\\Delta$-factor is integrated difference of two Birch-Murnanghan fitting result:\n",
    "\n",
    "$$\n",
    "    \\Delta = \\sqrt{\\frac{\\int \\mathrm{d} V \\Delta E_{\\text{BM}}^2(V)}{\\Delta{V}}}    \n",
    "$$\n",
    "\n",
    "### $\\Delta'$-factor\n",
    "However $\\Delta$ is stiffness-dependent quantity, being proportional to $B_0$. The $\\Delta'$ is introduced to renormalized $\\Delta$-factor which is similar to the original $\\Delta$-factor except it is \"renormalized\"\n",
    "to reference values of $V^{\\text{ref}}$ and $B^{\\text{ref}}$ for all the elements\n",
    "\n",
    "$$\n",
    "\\Delta' = \\frac{V_{\\text{ref}}B_{\\text{ref}}}{V_{\\text{AE}}B_{\\text{AE}}} \\Delta\n",
    "$$\n",
    "\n",
    "- $V^{\\text{ref}}=30 \\text{Bohr}$\n",
    "- $B^{\\text{ref}}=100\\text{GPa}$ \n",
    "\n",
    "are correspond approximatively to the mean values of $V_0$ and $B_0$ over the 71 unitary elements tested.\n",
    "\n",
    "### length of the vector measure\n",
    "We also defined the measure 'length of the vector' formed by the relative error of $V_0$, $B_0$, $B_1$\n",
    "\n",
    "In this page I choose prefactor ($B_0=\\frac{1}{8}$) and ($B_1=\\frac{1}{64}$).\n",
    "\n",
    "In order to compare the result with $\\Delta$ and $\\Delta'$, I multiply the result with prefactor $\\times 400$ so they are in the same order."
   ]
  },
  {
   "cell_type": "markdown",
   "id": "800d43b8",
   "metadata": {},
   "source": [
    "## Cohesive energy (eV/atom)\n",
    "\n",
    "The cohesive energy $E_{\\text{coh}}$ is the energy gained by arranging the atoms in a crystalline state.\n",
    "\n",
    "$$\n",
    "    E_{\\text{coh}} = E_{\\text{bulk}} - E_{\\text{atom}}\n",
    "$$\n",
    "\n",
    "The different of cohesive energy with respect to reference is defined as:\n",
    "\n",
    "$$\n",
    "    \\delta E_{\\text{coh}} = E_{\\text{coh}}(x_c) - E_{\\text{coh}}(x_{ref})\n",
    "$$\n",
    "\n",
    "- $x_c$: the cutoff setting of sample point\n",
    "- $x_{ref}$: the cutoff setting of the reference point (the converged value), "
   ]
  },
  {
   "cell_type": "markdown",
   "id": "475abb76",
   "metadata": {},
   "source": [
    "## Cohesive energy error (eV/atom)\n",
    "\n",
    "The error of cohesive energy w.r.t converged reference cutoff (200 Ry for wavefunction cutoff) is defined as:\n",
    "\n",
    "$$\n",
    "    \\delta E_{\\text{coh}} = E_{\\text{coh}}(x_c) - E_{\\text{coh}}(x_{ref})\n",
    "$$\n",
    "\n",
    "- $x_c$: the cutoff setting of sample point\n",
    "- $x_{ref}$: the cutoff setting of the reference point (the converged value), "
   ]
  },
  {
   "cell_type": "markdown",
   "id": "a81a9a26",
   "metadata": {},
   "source": [
    "## Phonon frequencies absolute error ($cm^{-1}$)\n",
    "\n",
    "The absolute error of phonon frequencies w.r.t reference cutoff (200 Ry for wavefunction cutoff) is defined as:\n",
    "\n",
    "$$\n",
    "    \\delta \\bar{\\omega} = \n",
    "    \\sqrt{\\frac{1}{N} \\sum^N_{i=1} \\omega_i(x_c)-\\omega_i(x_{ref})}\n",
    "$$\n",
    "\n",
    "- $\\omega_i$: the frequencies of every modes. \n",
    "- N: the number of modes"
   ]
  },
  {
   "cell_type": "markdown",
   "id": "44922944",
   "metadata": {},
   "source": [
    "## Phonon frequencies relative error (%)\n",
    "\n",
    "The relative error of phonon frequencies w.r.t reference cutoff (200 Ry for wavefunction cutoff) is defined as:\n",
    "\n",
    "$$\n",
    "    \\delta \\bar{\\omega} = \n",
    "    \\sqrt{\\frac{1}{N} \\sum^N_{i=1} \\left | \\frac{\\omega_i(x_c)-\\omega_i(x_{ref})}{\\omega_i(x_{ref})} \n",
    "    \\right|^2}\n",
    "$$\n",
    "\n",
    "- $\\omega_i$: the frequencies of every modes. \n",
    "- N: the number of modes"
   ]
  },
  {
   "cell_type": "markdown",
   "id": "62b8337f",
   "metadata": {},
   "source": [
    "## Pressure absolute error (GPa)\n",
    "\n",
    "The absolute error of pressure are complex defined w.r.t converged reference cutoff (200 Ry for wavefunction cutoff) is defined as:\n",
    "\n",
    "$$\n",
    "    \\delta P = P(x_c) - P(x_{ref})\n",
    "$$"
   ]
  },
  {
   "cell_type": "markdown",
   "id": "1a874e26",
   "metadata": {},
   "source": [
    "## Pressure relative error (GPa)\n",
    "\n",
    "The relative error of pressure are complex defined in terms of volume difference where the volume is converted from the pressure difference of the cutoff setting and converged reference setting:\n",
    "\n",
    "$$\n",
    "    \\delta V = \\frac{V'-V_0}{V_0}\n",
    "$$\n",
    "\n",
    "- $V'$ is the deviation volume as the one closest to the equilibrium volume \n",
    "- $V_0$ is read from the converged reference (wave function cutoff 200Ry) Birch-Murnaghan fitting. \n",
    "\n",
    "$$P_\\text{BM}(V')=\\delta P$$ "
   ]
  }
 ],
 "metadata": {
  "kernelspec": {
   "display_name": "Python 3 (ipykernel)",
   "language": "python",
   "name": "python3"
  },
  "language_info": {
   "codemirror_mode": {
    "name": "ipython",
    "version": 3
   },
   "file_extension": ".py",
   "mimetype": "text/x-python",
   "name": "python",
   "nbconvert_exporter": "python",
   "pygments_lexer": "ipython3",
   "version": "3.7.9"
  }
 },
 "nbformat": 4,
 "nbformat_minor": 5
}
