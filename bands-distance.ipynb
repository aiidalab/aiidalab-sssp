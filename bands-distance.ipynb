{
 "cells": [
  {
   "cell_type": "code",
   "execution_count": 41,
   "metadata": {},
   "outputs": [
    {
     "data": {
      "application/vnd.jupyter.widget-view+json": {
       "model_id": "64826735f068426e966723f9f66e62e3",
       "version_major": 2,
       "version_minor": 0
      },
      "text/plain": [
       "VBox(children=(HBox(children=(Button(description='Add', icon='plus', style=ButtonStyle()), Button(description=…"
      ]
     },
     "metadata": {},
     "output_type": "display_data"
    }
   ],
   "source": [
    "import ipywidgets as ipw\n",
    "\n",
    "reset_button = ipw.widgets.Button(\n",
    "    description='Reset',\n",
    "    disabled=False,\n",
    "    button_style='', # 'success', 'info', 'warning', 'danger' or ''\n",
    "    tooltip='Reset the inputs of pseudopotentials.',\n",
    "    icon='reply',\n",
    ")\n",
    "\n",
    "submit_button = ipw.widgets.Button(\n",
    "    description='Submit',\n",
    "    disabled=False,\n",
    "    button_style='',\n",
    "    tooltip='Submit the bands distance comparision workflow.',\n",
    "    icon='play',\n",
    ")\n",
    "\n",
    "add_button = ipw.widgets.Button(\n",
    "    description='Add',\n",
    "    disabled=False,\n",
    "    button_style='',\n",
    "    icon='plus',\n",
    ")\n",
    "\n",
    "uploader_controller = ipw.HBox(children=[add_button, reset_button, submit_button])\n",
    "\n",
    "file_uploader = ipw.widgets.FileUpload(\n",
    "    multiple=False,\n",
    ")\n",
    "\n",
    "pp_label = ipw.widgets.Text(\n",
    "    placeholder='label: recommend', # recommend value derived from uploaded file <pptype_family_version>\n",
    "    disable=False,\n",
    ")\n",
    "\n",
    "pp_file_path = ipw.widgets.Text(\n",
    "    placeholder='[No pseudopotential selected]',\n",
    "    disable=True,\n",
    ")\n",
    "\n",
    "pp_uploader = ipw.HBox(children=[file_uploader, pp_file_path, pp_label])\n",
    "\n",
    "pp_uploader_panal = ipw.VBox(children=[uploader_controller, pp_uploader])\n",
    "\n",
    "def _on_add_button_clicked(_):\n",
    "    pp_uploader_panal.children += (pp_uploader,)\n",
    "    \n",
    "add_button.on_click(_on_add_button_clicked)\n",
    "\n",
    "def _on_reset_button_clicked(_):\n",
    "    pp_uploader_panal.children = [uploader_controller, pp_uploader]\n",
    "    \n",
    "reset_button.on_click(_on_reset_button_clicked)\n",
    "\n",
    "display(pp_uploader_panal)"
   ]
  },
  {
   "cell_type": "code",
   "execution_count": 35,
   "metadata": {},
   "outputs": [],
   "source": [
    "pp_uploader_panal.children += (pp_uploader,)"
   ]
  },
  {
   "cell_type": "code",
   "execution_count": null,
   "metadata": {},
   "outputs": [],
   "source": [
    "from IPython.display import Image\n",
    "from IPython.core.display import HTML \n",
    "Image(url= \"https://www.materialscloud.org/discover/data/discover/sssp/chessboards/Si_SSSP_eta_chessboard.png\")"
   ]
  }
 ],
 "metadata": {
  "kernelspec": {
   "display_name": "Python 3 (ipykernel)",
   "language": "python",
   "name": "python3"
  },
  "language_info": {
   "codemirror_mode": {
    "name": "ipython",
    "version": 3
   },
   "file_extension": ".py",
   "mimetype": "text/x-python",
   "name": "python",
   "nbconvert_exporter": "python",
   "pygments_lexer": "ipython3",
   "version": "3.7.9"
  }
 },
 "nbformat": 4,
 "nbformat_minor": 4
}
