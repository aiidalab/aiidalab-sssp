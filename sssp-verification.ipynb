{
 "cells": [
  {
   "cell_type": "code",
   "execution_count": 1,
   "metadata": {},
   "outputs": [
    {
     "data": {
      "application/json": {
       "current_state": "Loaded AiiDA DB environment - profile name: default."
      },
      "text/html": [
       "<p>Loaded AiiDA DB environment - profile name: default.</p>"
      ],
      "text/latex": [
       "Loaded AiiDA DB environment - profile name: default.\n"
      ],
      "text/plain": [
       "Loaded AiiDA DB environment - profile name: default.\n"
      ]
     },
     "execution_count": 1,
     "metadata": {},
     "output_type": "execute_result"
    }
   ],
   "source": [
    "%aiida"
   ]
  },
  {
   "cell_type": "code",
   "execution_count": 2,
   "metadata": {},
   "outputs": [],
   "source": [
    "try:\n",
    "    import aiida_sssp_workflow\n",
    "except ModuleNotFoundError as err:\n",
    "    print(\"######################################\")\n",
    "    print(\"### Doing initial one-time install ###\")\n",
    "    ! pip install -e .\n",
    "    print(\"######################################\")\n",
    "    ! reentry scan"
   ]
  },
  {
   "cell_type": "code",
   "execution_count": 3,
   "metadata": {},
   "outputs": [
    {
     "data": {
      "application/vnd.jupyter.widget-view+json": {
       "model_id": "eec45d4b37814998a8954c3fe5b97b7e",
       "version_major": 2,
       "version_minor": 0
      },
      "text/plain": []
     },
     "metadata": {},
     "output_type": "display_data"
    }
   ],
   "source": [
    "import ipywidgets as ipw\n",
    "\n",
    "from pseudo import PseudoSelectionWidget\n",
    "from verification import ComputeVerificationWidget\n",
    "from process import ProcessStatusWidget, ProcessLinkWidget\n",
    "from process import ProcessInputsWidget, ProcessOutputsWidget,  ProcessCallStackWidget"
   ]
  },
  {
   "cell_type": "markdown",
   "metadata": {},
   "source": [
    "## Step 1: Upload the UPF file"
   ]
  },
  {
   "cell_type": "code",
   "execution_count": 4,
   "metadata": {
    "scrolled": false
   },
   "outputs": [
    {
     "data": {
      "application/vnd.jupyter.widget-view+json": {
       "model_id": "6f0f6e2ec91043d7bd37baa46b5a5e83",
       "version_major": 2,
       "version_minor": 0
      },
      "text/plain": [
       "PseudoSelectionWidget(children=(Label(value='Select a pseudopotential from one of the following sources and th…"
      ]
     },
     "metadata": {},
     "output_type": "display_data"
    }
   ],
   "source": [
    "pseudo_selection_step = PseudoSelectionWidget()\n",
    "display(pseudo_selection_step)"
   ]
  },
  {
   "cell_type": "markdown",
   "metadata": {},
   "source": [
    "## Step 2: setting parameters and submit"
   ]
  },
  {
   "cell_type": "code",
   "execution_count": 5,
   "metadata": {},
   "outputs": [
    {
     "name": "stderr",
     "output_type": "stream",
     "text": [
      "/home/aiida/.local/lib/python3.7/site-packages/aiida/orm/computers.py:738: AiidaDeprecationWarning: this property is deprecated, use the `label` property instead\n",
      "  warnings.warn('this property is deprecated, use the `label` property instead', AiidaDeprecationWarning)  # pylint: disable=no-member\n"
     ]
    }
   ],
   "source": [
    "compute_verification_step = ComputeVerificationWidget()\n",
    "\n",
    "ipw.dlink((pseudo_selection_step, 'confirmed_pseudo'), (compute_verification_step, 'input_pseudo'))\n",
    "\n",
    "# Reset all subsequent steps in case that a new pseudo is selected\n",
    "def _observe_pseudo_selection(change):\n",
    "    with pseudo_selection_step.hold_sync():\n",
    "        if pseudo_selection_step.confirmed_pseudo is not None and \\\n",
    "                pseudo_selection_step.confirmed_pseudo != change['new']:\n",
    "            pseudo_selection_step.confirmed_pseudo = change['new']\n",
    "pseudo_selection_step.observe(_observe_pseudo_selection, 'pseudo')\n"
   ]
  },
  {
   "cell_type": "code",
   "execution_count": 6,
   "metadata": {},
   "outputs": [
    {
     "data": {
      "application/vnd.jupyter.widget-view+json": {
       "model_id": "8c5dc884e8b140369c07fa8cdbb4c288",
       "version_major": 2,
       "version_minor": 0
      },
      "text/plain": [
       "ComputeVerificationWidget(children=(Label(value='Specify the parameters and options for the calculation and th…"
      ]
     },
     "metadata": {},
     "output_type": "display_data"
    }
   ],
   "source": [
    "display(compute_verification_step)"
   ]
  },
  {
   "cell_type": "markdown",
   "metadata": {},
   "source": [
    "## Step3: Check the state of the process"
   ]
  },
  {
   "cell_type": "code",
   "execution_count": 7,
   "metadata": {},
   "outputs": [
    {
     "data": {
      "text/plain": [
       "<traitlets.traitlets.directional_link at 0x7f2f32d48b10>"
      ]
     },
     "execution_count": 7,
     "metadata": {},
     "output_type": "execute_result"
    }
   ],
   "source": [
    "process_status = ProcessStatusWidget()\n",
    "\n",
    "ipw.dlink((compute_verification_step, 'process'), (process_status, 'process'))"
   ]
  },
  {
   "cell_type": "code",
   "execution_count": 8,
   "metadata": {},
   "outputs": [],
   "source": [
    "process_status.process"
   ]
  },
  {
   "cell_type": "code",
   "execution_count": 9,
   "metadata": {},
   "outputs": [
    {
     "data": {
      "application/vnd.jupyter.widget-view+json": {
       "model_id": "9b6a18020e0f4ed6a6297f0dc7b30ed7",
       "version_major": 2,
       "version_minor": 0
      },
      "text/plain": [
       "ProcessStatusWidget(children=(ProgressBarWidget(children=(HTML(value='N/A', description='Calculation state:', …"
      ]
     },
     "metadata": {},
     "output_type": "display_data"
    }
   ],
   "source": [
    "display(process_status)"
   ]
  },
  {
   "cell_type": "markdown",
   "metadata": {},
   "source": [
    "## Step4: Check the output of workflow"
   ]
  },
  {
   "cell_type": "code",
   "execution_count": 10,
   "metadata": {},
   "outputs": [],
   "source": [
    "link_widget = ipw.HTML(\n",
    "            \"\"\"<a href=\"http://www.quantum-espresso.org/pseudopotentials/\n",
    "unified-pseudopotential-format\" target=\"_blank\">\n",
    "Supported pseudo formats (Now only support UPF type)\n",
    "</a>\"\"\")"
   ]
  },
  {
   "cell_type": "code",
   "execution_count": 11,
   "metadata": {},
   "outputs": [
    {
     "data": {
      "application/vnd.jupyter.widget-view+json": {
       "model_id": "0504a48f9f8541f1b7718e40e380dbd1",
       "version_major": 2,
       "version_minor": 0
      },
      "text/plain": [
       "HTML(value='<a href=\"http://www.quantum-espresso.org/pseudopotentials/\\nunified-pseudopotential-format\" target…"
      ]
     },
     "metadata": {},
     "output_type": "display_data"
    }
   ],
   "source": [
    "display(link_widget)"
   ]
  },
  {
   "cell_type": "code",
   "execution_count": 12,
   "metadata": {},
   "outputs": [
    {
     "data": {
      "text/plain": [
       "<traitlets.traitlets.directional_link at 0x7f2f32cfd2d0>"
      ]
     },
     "execution_count": 12,
     "metadata": {},
     "output_type": "execute_result"
    }
   ],
   "source": [
    "process_input = ProcessInputsWidget()\n",
    "process_output = ProcessOutputsWidget()\n",
    "process_call_stack = ProcessCallStackWidget()\n",
    "\n",
    "ipw.dlink((compute_verification_step, 'process'), (process_input, 'process'))\n",
    "ipw.dlink((compute_verification_step, 'process'), (process_output, 'process'))\n",
    "ipw.dlink((compute_verification_step, 'process'), (process_call_stack, 'process'))"
   ]
  },
  {
   "cell_type": "code",
   "execution_count": 13,
   "metadata": {},
   "outputs": [
    {
     "data": {
      "application/vnd.jupyter.widget-view+json": {
       "model_id": "eef7f6b24516498ca41ce440b27c7860",
       "version_major": 2,
       "version_minor": 0
      },
      "text/plain": [
       "ProcessInputsWidget(children=(HBox(children=(Dropdown(description='Select input:', options=(('Select input', '…"
      ]
     },
     "metadata": {},
     "output_type": "display_data"
    }
   ],
   "source": [
    "display(process_input)"
   ]
  },
  {
   "cell_type": "code",
   "execution_count": 14,
   "metadata": {
    "scrolled": true
   },
   "outputs": [
    {
     "data": {
      "application/vnd.jupyter.widget-view+json": {
       "model_id": "490028146415493998d81f72e328034e",
       "version_major": 2,
       "version_minor": 0
      },
      "text/plain": [
       "ProcessOutputsWidget(children=(HBox(children=(Dropdown(description='Select outputs:', options=(('Select output…"
      ]
     },
     "metadata": {},
     "output_type": "display_data"
    }
   ],
   "source": [
    "display(process_output)"
   ]
  },
  {
   "cell_type": "code",
   "execution_count": 15,
   "metadata": {},
   "outputs": [
    {
     "data": {
      "application/vnd.jupyter.widget-view+json": {
       "model_id": "f60ae175457d4b11ad8475a6be86478a",
       "version_major": 2,
       "version_minor": 0
      },
      "text/plain": [
       "ProcessLinkWidget(value='')"
      ]
     },
     "metadata": {},
     "output_type": "display_data"
    }
   ],
   "source": [
    "process_link = ProcessLinkWidget()\n",
    "display(process_link)"
   ]
  },
  {
   "cell_type": "code",
   "execution_count": 21,
   "metadata": {},
   "outputs": [],
   "source": [
    "process_link.process = load_node(3127)"
   ]
  },
  {
   "cell_type": "code",
   "execution_count": 17,
   "metadata": {},
   "outputs": [],
   "source": [
    "from aiida.orm import load_node\n",
    "compute_verification_step.process = load_node(1596)"
   ]
  },
  {
   "cell_type": "code",
   "execution_count": 18,
   "metadata": {},
   "outputs": [],
   "source": [
    "n = load_node(1596)"
   ]
  }
 ],
 "metadata": {
  "kernelspec": {
   "display_name": "Python 3",
   "language": "python",
   "name": "python3"
  },
  "language_info": {
   "codemirror_mode": {
    "name": "ipython",
    "version": 3
   },
   "file_extension": ".py",
   "mimetype": "text/x-python",
   "name": "python",
   "nbconvert_exporter": "python",
   "pygments_lexer": "ipython3",
   "version": "3.7.4"
  }
 },
 "nbformat": 4,
 "nbformat_minor": 2
}
