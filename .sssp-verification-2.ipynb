{
 "cells": [
  {
   "cell_type": "code",
   "execution_count": 1,
   "metadata": {},
   "outputs": [
    {
     "data": {
      "application/javascript": [
       "\n",
       "IPython.OutputArea.prototype._should_scroll = function(lines) {\n",
       "    return false;\n",
       "}\n"
      ],
      "text/plain": [
       "<IPython.core.display.Javascript object>"
      ]
     },
     "metadata": {},
     "output_type": "display_data"
    }
   ],
   "source": [
    "%%javascript\n",
    "\n",
    "IPython.OutputArea.prototype._should_scroll = function(lines) {\n",
    "    return false;\n",
    "}"
   ]
  },
  {
   "cell_type": "code",
   "execution_count": 2,
   "metadata": {},
   "outputs": [
    {
     "data": {
      "application/json": {
       "current_state": "Loaded AiiDA DB environment - profile name: default."
      },
      "text/html": [
       "<p>Loaded AiiDA DB environment - profile name: default.</p>"
      ],
      "text/latex": [
       "Loaded AiiDA DB environment - profile name: default.\n"
      ],
      "text/plain": [
       "Loaded AiiDA DB environment - profile name: default.\n"
      ]
     },
     "execution_count": 2,
     "metadata": {},
     "output_type": "execute_result"
    }
   ],
   "source": [
    "%aiida"
   ]
  },
  {
   "cell_type": "code",
   "execution_count": 3,
   "metadata": {},
   "outputs": [],
   "source": [
    "try:\n",
    "    import aiida_sssp_workflow\n",
    "except ModuleNotFoundError as err:\n",
    "    print(\"######################################\")\n",
    "    print(\"### Doing initial one-time install ###\")\n",
    "    ! pip install -e .\n",
    "    print(\"######################################\")\n",
    "    ! reentry scan"
   ]
  },
  {
   "cell_type": "code",
   "execution_count": 4,
   "metadata": {},
   "outputs": [
    {
     "data": {
      "application/vnd.jupyter.widget-view+json": {
       "model_id": "94681a23b12d422ba94171120d92286c",
       "version_major": 2,
       "version_minor": 0
      },
      "text/plain": []
     },
     "metadata": {},
     "output_type": "display_data"
    }
   ],
   "source": [
    "import ipywidgets as ipw\n",
    "\n",
    "from pseudo import PseudoSelectionWidget\n",
    "from verification import ComputeVerificationWidget\n",
    "from process import ProcessStatusWidget, ProcessLinkWidget\n",
    "from process import ProcessInputsWidget, ProcessOutputsWidget,  ProcessCallStackWidget"
   ]
  },
  {
   "cell_type": "markdown",
   "metadata": {},
   "source": [
    "## Step 1: Upload the UPF file"
   ]
  },
  {
   "cell_type": "code",
   "execution_count": 5,
   "metadata": {
    "scrolled": false
   },
   "outputs": [
    {
     "data": {
      "application/vnd.jupyter.widget-view+json": {
       "model_id": "bcf858994bc04096a8cba65c25acb696",
       "version_major": 2,
       "version_minor": 0
      },
      "text/plain": [
       "PseudoSelectionWidget(children=(Label(value='Select a pseudopotential from one of the following sources and th…"
      ]
     },
     "metadata": {},
     "output_type": "display_data"
    }
   ],
   "source": [
    "pseudo_selection_step = PseudoSelectionWidget()\n",
    "display(pseudo_selection_step)"
   ]
  },
  {
   "cell_type": "markdown",
   "metadata": {},
   "source": [
    "## Step 2: setting parameters and submit"
   ]
  },
  {
   "cell_type": "code",
   "execution_count": 6,
   "metadata": {},
   "outputs": [
    {
     "name": "stderr",
     "output_type": "stream",
     "text": [
      "/home/aiida/.local/lib/python3.7/site-packages/aiida/orm/computers.py:738: AiidaDeprecationWarning: this property is deprecated, use the `label` property instead\n",
      "  warnings.warn('this property is deprecated, use the `label` property instead', AiidaDeprecationWarning)  # pylint: disable=no-member\n"
     ]
    }
   ],
   "source": [
    "compute_verification_step = ComputeVerificationWidget()\n",
    "\n",
    "ipw.dlink((pseudo_selection_step, 'confirmed_pseudo'), (compute_verification_step, 'input_pseudo'))\n",
    "\n",
    "# Reset all subsequent steps in case that a new pseudo is selected\n",
    "def _observe_pseudo_selection(change):\n",
    "    with pseudo_selection_step.hold_sync():\n",
    "        if pseudo_selection_step.confirmed_pseudo is not None and \\\n",
    "                pseudo_selection_step.confirmed_pseudo != change['new']:\n",
    "            pseudo_selection_step.confirmed_pseudo = change['new']\n",
    "pseudo_selection_step.observe(_observe_pseudo_selection, 'pseudo')\n"
   ]
  },
  {
   "cell_type": "code",
   "execution_count": 7,
   "metadata": {},
   "outputs": [
    {
     "data": {
      "application/vnd.jupyter.widget-view+json": {
       "model_id": "a60dc8fab56a45fc9bf396f07a64a69c",
       "version_major": 2,
       "version_minor": 0
      },
      "text/plain": [
       "ComputeVerificationWidget(children=(Label(value='Specify the parameters and options for the calculation and th…"
      ]
     },
     "metadata": {},
     "output_type": "display_data"
    }
   ],
   "source": [
    "display(compute_verification_step)"
   ]
  },
  {
   "cell_type": "markdown",
   "metadata": {},
   "source": [
    "## Step3: Check the state of the process"
   ]
  },
  {
   "cell_type": "code",
   "execution_count": 8,
   "metadata": {},
   "outputs": [
    {
     "data": {
      "text/plain": [
       "<traitlets.traitlets.directional_link at 0x7f783896b4d0>"
      ]
     },
     "execution_count": 8,
     "metadata": {},
     "output_type": "execute_result"
    }
   ],
   "source": [
    "process_status = ProcessStatusWidget()\n",
    "\n",
    "ipw.dlink((compute_verification_step, 'process'), (process_status, 'process'))"
   ]
  },
  {
   "cell_type": "code",
   "execution_count": 9,
   "metadata": {},
   "outputs": [],
   "source": [
    "process_status.process"
   ]
  },
  {
   "cell_type": "code",
   "execution_count": 10,
   "metadata": {},
   "outputs": [
    {
     "data": {
      "application/vnd.jupyter.widget-view+json": {
       "model_id": "b7237f87baf74f6aa5e3491c3e8c5152",
       "version_major": 2,
       "version_minor": 0
      },
      "text/plain": [
       "ProcessStatusWidget(children=(ProgressBarWidget(children=(HTML(value='N/A', description='Calculation state:', …"
      ]
     },
     "metadata": {},
     "output_type": "display_data"
    }
   ],
   "source": [
    "display(process_status)"
   ]
  },
  {
   "cell_type": "markdown",
   "metadata": {},
   "source": [
    "## Step4: Check the output of workflow"
   ]
  },
  {
   "cell_type": "code",
   "execution_count": 11,
   "metadata": {},
   "outputs": [
    {
     "data": {
      "text/plain": [
       "<traitlets.traitlets.directional_link at 0x7f78397d6690>"
      ]
     },
     "execution_count": 11,
     "metadata": {},
     "output_type": "execute_result"
    }
   ],
   "source": [
    "process_input = ProcessInputsWidget()\n",
    "process_output = ProcessOutputsWidget()\n",
    "process_call_stack = ProcessCallStackWidget()\n",
    "\n",
    "ipw.dlink((compute_verification_step, 'process'), (process_input, 'process'))\n",
    "ipw.dlink((compute_verification_step, 'process'), (process_output, 'process'))\n",
    "ipw.dlink((compute_verification_step, 'process'), (process_call_stack, 'process'))"
   ]
  },
  {
   "cell_type": "code",
   "execution_count": 12,
   "metadata": {},
   "outputs": [
    {
     "data": {
      "application/vnd.jupyter.widget-view+json": {
       "model_id": "2331aa2c04e04ba49b408e9dc622b646",
       "version_major": 2,
       "version_minor": 0
      },
      "text/plain": [
       "ProcessInputsWidget(children=(HBox(children=(Dropdown(description='Select input:', options=(('Select input', '…"
      ]
     },
     "metadata": {},
     "output_type": "display_data"
    }
   ],
   "source": [
    "display(process_input)"
   ]
  },
  {
   "cell_type": "code",
   "execution_count": 13,
   "metadata": {
    "scrolled": true
   },
   "outputs": [
    {
     "data": {
      "application/vnd.jupyter.widget-view+json": {
       "model_id": "f859750b9b4e4ffb9012f940ed7d6724",
       "version_major": 2,
       "version_minor": 0
      },
      "text/plain": [
       "ProcessOutputsWidget(children=(HBox(children=(Dropdown(description='Select outputs:', options=(('Select output…"
      ]
     },
     "metadata": {},
     "output_type": "display_data"
    }
   ],
   "source": [
    "display(process_output)"
   ]
  },
  {
   "cell_type": "code",
   "execution_count": 14,
   "metadata": {},
   "outputs": [
    {
     "data": {
      "application/vnd.jupyter.widget-view+json": {
       "model_id": "ee8d07806f514cc888482f7fe10897a3",
       "version_major": 2,
       "version_minor": 0
      },
      "text/plain": [
       "ProcessLinkWidget(value='')"
      ]
     },
     "metadata": {},
     "output_type": "display_data"
    }
   ],
   "source": [
    "process_link = ProcessLinkWidget()\n",
    "display(process_link)"
   ]
  },
  {
   "cell_type": "code",
   "execution_count": 15,
   "metadata": {},
   "outputs": [
    {
     "data": {
      "text/plain": [
       "<traitlets.traitlets.directional_link at 0x7f785ad35190>"
      ]
     },
     "execution_count": 15,
     "metadata": {},
     "output_type": "execute_result"
    }
   ],
   "source": [
    "ipw.dlink((compute_verification_step, 'process'), (process_link, 'process'))"
   ]
  },
  {
   "cell_type": "code",
   "execution_count": 17,
   "metadata": {},
   "outputs": [
    {
     "name": "stderr",
     "output_type": "stream",
     "text": [
      "Exception in thread Thread-96:\n",
      "Traceback (most recent call last):\n",
      "  File \"/opt/conda/lib/python3.7/threading.py\", line 926, in _bootstrap_inner\n",
      "    self.run()\n",
      "  File \"/opt/conda/lib/python3.7/threading.py\", line 870, in run\n",
      "    self._target(*self._args, **self._kwargs)\n",
      "  File \"/home/aiida/apps/aiidalab-sssp-workflow/widgets.py\", line 219, in _monitor_process\n",
      "    self._update_calcjobs(process)\n",
      "  File \"/home/aiida/apps/aiidalab-sssp-workflow/widgets.py\", line 176, in _update_calcjobs\n",
      "    self._calcjobs = {cj.pk: cj for cj in _get_calcjobs(process)}\n",
      "  File \"/home/aiida/apps/aiidalab-sssp-workflow/widgets.py\", line 176, in <dictcomp>\n",
      "    self._calcjobs = {cj.pk: cj for cj in _get_calcjobs(process)}\n",
      "  File \"/home/aiida/apps/aiidalab-sssp-workflow/widgets.py\", line 22, in _get_calcjobs\n",
      "    for called in process.called:\n",
      "  File \"/home/aiida/.local/lib/python3.7/site-packages/aiida/orm/nodes/process/process.py\", line 422, in called\n",
      "    return self.get_outgoing(link_type=(LinkType.CALL_CALC, LinkType.CALL_WORK)).all_nodes()\n",
      "  File \"/home/aiida/.local/lib/python3.7/site-packages/aiida/orm/nodes/node.py\", line 902, in get_outgoing\n",
      "    link_triples = self.get_stored_link_triples(node_class, link_type, link_label_filter, 'outgoing', only_uuid)\n",
      "  File \"/home/aiida/.local/lib/python3.7/site-packages/aiida/orm/nodes/node.py\", line 848, in get_stored_link_triples\n",
      "    return [LinkTriple(entry[0], LinkType(entry[1]), entry[2]) for entry in builder.all()]\n",
      "  File \"/home/aiida/.local/lib/python3.7/site-packages/aiida/orm/querybuilder.py\", line 2252, in all\n",
      "    matches = list(self.iterall(batch_size=batch_size))\n",
      "  File \"/home/aiida/.local/lib/python3.7/site-packages/aiida/orm/querybuilder.py\", line 2211, in iterall\n",
      "    for item in self._impl.iterall(query, batch_size, self._attrkeys_as_in_sql_result):\n",
      "  File \"/home/aiida/.local/lib/python3.7/site-packages/aiida/orm/implementation/querybuilder.py\", line 328, in iterall\n",
      "    for resultrow in results:\n",
      "  File \"/opt/conda/lib/python3.7/site-packages/sqlalchemy/orm/query.py\", line 3535, in __iter__\n",
      "    return self._execute_and_instances(context)\n",
      "  File \"/opt/conda/lib/python3.7/site-packages/sqlalchemy/orm/query.py\", line 3557, in _execute_and_instances\n",
      "    querycontext, self._connection_from_session, close_with_result=True\n",
      "  File \"/opt/conda/lib/python3.7/site-packages/sqlalchemy/orm/query.py\", line 3572, in _get_bind_args\n",
      "    mapper=self._bind_mapper(), clause=querycontext.statement, **kw\n",
      "  File \"/opt/conda/lib/python3.7/site-packages/sqlalchemy/orm/query.py\", line 3550, in _connection_from_session\n",
      "    conn = self.session.connection(**kw)\n",
      "  File \"/opt/conda/lib/python3.7/site-packages/sqlalchemy/orm/session.py\", line 1141, in connection\n",
      "    execution_options=execution_options,\n",
      "  File \"/opt/conda/lib/python3.7/site-packages/sqlalchemy/orm/session.py\", line 1147, in _connection_for_bind\n",
      "    engine, execution_options\n",
      "  File \"/opt/conda/lib/python3.7/site-packages/sqlalchemy/orm/session.py\", line 433, in _connection_for_bind\n",
      "    conn = bind._contextual_connect()\n",
      "  File \"/opt/conda/lib/python3.7/site-packages/sqlalchemy/engine/base.py\", line 2302, in _contextual_connect\n",
      "    self._wrap_pool_connect(self.pool.connect, None),\n",
      "  File \"/opt/conda/lib/python3.7/site-packages/sqlalchemy/engine/base.py\", line 2336, in _wrap_pool_connect\n",
      "    return fn()\n",
      "  File \"/opt/conda/lib/python3.7/site-packages/sqlalchemy/pool/base.py\", line 364, in connect\n",
      "    return _ConnectionFairy._checkout(self)\n",
      "  File \"/opt/conda/lib/python3.7/site-packages/sqlalchemy/pool/base.py\", line 778, in _checkout\n",
      "    fairy = _ConnectionRecord.checkout(pool)\n",
      "  File \"/opt/conda/lib/python3.7/site-packages/sqlalchemy/pool/base.py\", line 495, in checkout\n",
      "    rec = pool._do_get()\n",
      "  File \"/opt/conda/lib/python3.7/site-packages/sqlalchemy/pool/impl.py\", line 132, in _do_get\n",
      "    code=\"3o7r\",\n",
      "sqlalchemy.exc.TimeoutError: QueuePool limit of size 5 overflow 10 reached, connection timed out, timeout 30 (Background on this error at: http://sqlalche.me/e/13/3o7r)\n",
      "\n"
     ]
    }
   ],
   "source": [
    "compute_verification_step.process = load_node(7549)"
   ]
  }
 ],
 "metadata": {
  "kernelspec": {
   "display_name": "Python 3",
   "language": "python",
   "name": "python3"
  },
  "language_info": {
   "codemirror_mode": {
    "name": "ipython",
    "version": 3
   },
   "file_extension": ".py",
   "mimetype": "text/x-python",
   "name": "python",
   "nbconvert_exporter": "python",
   "pygments_lexer": "ipython3",
   "version": "3.7.4"
  }
 },
 "nbformat": 4,
 "nbformat_minor": 2
}
